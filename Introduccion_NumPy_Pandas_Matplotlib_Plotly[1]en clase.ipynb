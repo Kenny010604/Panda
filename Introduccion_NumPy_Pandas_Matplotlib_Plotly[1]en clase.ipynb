{
 "cells": [
  {
   "cell_type": "markdown",
   "id": "b8e755fb",
   "metadata": {},
   "source": [
    "\n",
    "# Introducción a **NumPy**, **Pandas**, **Matplotlib** y **Plotly** 🧠📊\n",
    "\n",
    "Este notebook está diseñado para aprender y practicar cuatro librerías clave del ecosistema de *Data Science* en Python:\n",
    "\n",
    "- **NumPy**: cálculo numérico con arreglos y operaciones vectorizadas.\n",
    "- **Pandas**: manipulación y análisis de datos con *DataFrames*.\n",
    "- **Matplotlib**: visualización estática.\n",
    "- **Plotly**: visualización interactiva.\n",
    "\n",
    "Cada sección incluye: objetivo, teoría breve, ejemplos y **ejercicios prácticos** (con indicaciones). Al final, integrarás todo en un mini-proyecto.\n"
   ]
  },
  {
   "cell_type": "markdown",
   "id": "04ba556a",
   "metadata": {},
   "source": [
    "\n",
    "## 0) Preparación del entorno\n",
    "Instala (si hace falta) y carga las librerías.\n"
   ]
  },
  {
   "cell_type": "code",
   "execution_count": 37,
   "id": "65b9c021",
   "metadata": {},
   "outputs": [
    {
     "name": "stdout",
     "output_type": "stream",
     "text": [
      "The autoreload extension is already loaded. To reload it, use:\n",
      "  %reload_ext autoreload\n",
      "Versión NumPy: 2.1.3\n",
      "Versión Pandas: 2.2.3\n",
      "Matplotlib OK\n",
      "Plotly OK\n"
     ]
    }
   ],
   "source": [
    "\n",
    "# Si alguna librería no está instalada, descomenta las líneas:\n",
    "# !pip install numpy pandas matplotlib plotly\n",
    "\n",
    "import numpy as np\n",
    "import pandas as pd\n",
    "import matplotlib.pyplot as plt\n",
    "import plotly.express as px\n",
    "\n",
    "# Ajustes útiles para Jupyter\n",
    "%load_ext autoreload\n",
    "%autoreload 2\n",
    "print(\"Versión NumPy:\", np.__version__)\n",
    "print(\"Versión Pandas:\", pd.__version__)\n",
    "print(\"Matplotlib OK\")\n",
    "print(\"Plotly OK\")\n"
   ]
  },
  {
   "cell_type": "markdown",
   "id": "67876459",
   "metadata": {},
   "source": [
    "\n",
    "---\n",
    "## 1) NumPy — Cálculo Numérico 🧮\n",
    "\n",
    "**Objetivo de aprendizaje:**  \n",
    "Comprender el uso de **arrays** y operaciones vectorizadas, y aplicar funciones estadísticas y de álgebra lineal.\n",
    "\n",
    "**Conceptos clave:**\n",
    "- `np.array`, `dtype`, formas (shape)\n",
    "- Indexación y *slicing*\n",
    "- Operaciones vectorizadas y *broadcasting*\n",
    "- Funciones estadísticas (`mean`, `std`, `sum`), aleatoriedad (`np.random`)\n",
    "- Álgebra lineal (`np.linalg`)\n"
   ]
  },
  {
   "cell_type": "code",
   "execution_count": 38,
   "id": "31c43dd0",
   "metadata": {},
   "outputs": [
    {
     "name": "stdout",
     "output_type": "stream",
     "text": [
      "a: [1 2 3 4 5] | dtype: int64 | shape: (5,)\n",
      "b: [ 1  2  3  4  5  6  7  8  9 10]\n",
      "c: [0.   0.25 0.5  0.75 1.  ]\n",
      "b[0]: 1  | b[-1]: 10\n",
      "b[2:6]: [3 4 5 6]\n",
      "b[::2] (pares por salto): [1 3 5 7 9]\n"
     ]
    }
   ],
   "source": [
    "\n",
    "# Creación de arrays y propiedades básicas\n",
    "a = np.array([1, 2, 3, 4, 5])\n",
    "b = np.arange(1, 11)        # 1..10\n",
    "c = np.linspace(0, 1, 5)    # 5 puntos entre 0 y 1\n",
    "\n",
    "print(\"a:\", a, \"| dtype:\", a.dtype, \"| shape:\", a.shape)\n",
    "print(\"b:\", b)\n",
    "print(\"c:\", c)\n",
    "\n",
    "# Indexación y slicing\n",
    "print(\"b[0]:\", b[0], \" | b[-1]:\", b[-1])\n",
    "print(\"b[2:6]:\", b[2:6])\n",
    "print(\"b[::2] (pares por salto):\", b[::2])\n"
   ]
  },
  {
   "cell_type": "code",
   "execution_count": 39,
   "id": "4a2b8431",
   "metadata": {},
   "outputs": [
    {
     "name": "stdout",
     "output_type": "stream",
     "text": [
      "a[0]: 1  | a[-1]: 5\n"
     ]
    }
   ],
   "source": [
    "print(\"a[0]:\", b[0], \" | a[-1]:\", a[-1])\n"
   ]
  },
  {
   "cell_type": "code",
   "execution_count": 40,
   "id": "8ececf66",
   "metadata": {},
   "outputs": [
    {
     "name": "stdout",
     "output_type": "stream",
     "text": [
      "a[1:3]: [2 3 4]\n"
     ]
    }
   ],
   "source": [
    "print(\"a[1:3]:\", a[1:4])"
   ]
  },
  {
   "cell_type": "code",
   "execution_count": 41,
   "id": "e8a50fd6",
   "metadata": {},
   "outputs": [
    {
     "name": "stdout",
     "output_type": "stream",
     "text": [
      "a[::2]: [2]\n"
     ]
    }
   ],
   "source": [
    "print(\"a[::2]:\", a[1:2])"
   ]
  },
  {
   "cell_type": "code",
   "execution_count": 42,
   "id": "237d0163",
   "metadata": {},
   "outputs": [
    {
     "name": "stdout",
     "output_type": "stream",
     "text": [
      "x + y: [11 22 33 44]\n",
      "x * 2: [20 40 60 80]\n",
      "x ** 2: [ 100  400  900 1600]\n",
      "M:\n",
      " [[1. 1. 1.]\n",
      " [1. 1. 1.]\n",
      " [1. 1. 1.]]\n",
      "Vector v: [1 2 3]\n",
      "Broadcasting M + v: [[2. 3. 4.]\n",
      " [2. 3. 4.]\n",
      " [2. 3. 4.]]\n"
     ]
    }
   ],
   "source": [
    "\n",
    "# Operaciones vectorizadas y broadcasting\n",
    "x = np.array([10, 20, 30, 40])\n",
    "y = np.array([1, 2, 3, 4])\n",
    "\n",
    "print(\"x + y:\", x + y)\n",
    "print(\"x * 2:\", x * 2)\n",
    "print(\"x ** 2:\", x ** 2)\n",
    "\n",
    "M = np.ones((3, 3))\n",
    "print(\"M:\\n\", M)\n",
    "v = np.array([1, 2, 3])\n",
    "print(\"Vector v:\", v)  \n",
    "print(\"Broadcasting M + v:\", M + v)  # v se \"expande\" por filas\n"
   ]
  },
  {
   "cell_type": "code",
   "execution_count": 43,
   "id": "cb03e34c",
   "metadata": {},
   "outputs": [
    {
     "name": "stdout",
     "output_type": "stream",
     "text": [
      "Primeros 10 valores aleatroios: [54.96714153 48.61735699 56.47688538 65.23029856 47.65846625 47.65863043\n",
      " 65.79212816 57.67434729 45.30525614 55.42560044]\n",
      "Media: 50.193320558223256  | Desv. estándar: 9.787262077473542  | Mín: 17.58732659930927  | Máx: 88.52731490654722\n"
     ]
    }
   ],
   "source": [
    "\n",
    "# Aleatoriedad y estadísticas\n",
    "np.random.seed(42)\n",
    "rand = np.random.normal(loc=50, scale=10, size=1000)\n",
    "print(\"Primeros 10 valores aleatroios:\", rand[:10])\n",
    "print(\"Media:\", rand.mean(), \" | Desv. estándar:\", rand.std(), \" | Mín:\", rand.min(), \" | Máx:\", rand.max())\n"
   ]
  },
  {
   "cell_type": "code",
   "execution_count": 44,
   "id": "1f71beff",
   "metadata": {},
   "outputs": [
    {
     "name": "stdout",
     "output_type": "stream",
     "text": [
      "Determinante: 1.0000000000000009\n",
      "Solución de Ax=b: [ 1. -1.]\n",
      "Autovalores: [0.20871215 4.79128785]\n",
      "Autovectores: [[-0.48744474 -0.33726692]\n",
      " [ 0.87315384 -0.94140906]]\n"
     ]
    }
   ],
   "source": [
    "\n",
    "# Álgebra lineal\n",
    "A = np.array([[2, 1], [5, 3]])\n",
    "b = np.array([1, 2])\n",
    "\n",
    "det = np.linalg.det(A)\n",
    "sol = np.linalg.solve(A, b)\n",
    "vals, vecs = np.linalg.eig(A)\n",
    "\n",
    "print(\"Determinante:\", det)\n",
    "print(\"Solución de Ax=b:\", sol)\n",
    "print(\"Autovalores:\", vals)\n",
    "print(\"Autovectores:\", vecs)\n"
   ]
  },
  {
   "cell_type": "markdown",
   "id": "72be01c6",
   "metadata": {},
   "source": [
    "\n",
    "### 🧩 Ejercicios (NumPy)\n",
    "1. Crea un array del 1 al 100 y calcula: media, mediana, varianza y percentil 90.  \n",
    "2. Genera una matriz aleatoria de 5x5 (normal estándar) y calcula su determinante y traza.  \n",
    "3. Con `np.random.randint`, genera 1000 enteros entre 0 y 10 y calcula su **distribución de frecuencias** usando `np.unique(..., return_counts=True)`.\n",
    "4. Normaliza un vector `v` restando su media y dividiendo por su desviación estándar.\n"
   ]
  },
  {
   "cell_type": "code",
   "execution_count": null,
   "id": "41171155",
   "metadata": {},
   "outputs": [],
   "source": []
  },
  {
   "cell_type": "markdown",
   "id": "02b416cc",
   "metadata": {},
   "source": [
    "\n",
    "---\n",
    "## 2) Pandas — Manipulación y Análisis de Datos 📚\n",
    "\n",
    "**Objetivo de aprendizaje:**  \n",
    "Leer, inspeccionar, limpiar, transformar y resumir datos en un **DataFrame**.\n",
    "\n",
    "**Conceptos clave:**\n",
    "- `Series` y `DataFrame`\n",
    "- Lectura de datos (`read_csv`, `read_excel`)\n",
    "- Selección y filtrado (`loc`, `iloc`, condiciones)\n",
    "- Transformaciones (`assign`, `apply`, `groupby`, `pivot_table`)\n",
    "- Valores faltantes (`isna`, `fillna`, `dropna`), *merge/join*\n"
   ]
  },
  {
   "cell_type": "code",
   "execution_count": 45,
   "id": "1b29ae71",
   "metadata": {},
   "outputs": [
    {
     "name": "stderr",
     "output_type": "stream",
     "text": [
      "C:\\Users\\kenny\\AppData\\Local\\Temp\\ipykernel_17280\\1058162892.py:3: FutureWarning:\n",
      "\n",
      "'M' is deprecated and will be removed in a future version, please use 'ME' instead.\n",
      "\n"
     ]
    },
    {
     "data": {
      "text/html": [
       "<div>\n",
       "<style scoped>\n",
       "    .dataframe tbody tr th:only-of-type {\n",
       "        vertical-align: middle;\n",
       "    }\n",
       "\n",
       "    .dataframe tbody tr th {\n",
       "        vertical-align: top;\n",
       "    }\n",
       "\n",
       "    .dataframe thead th {\n",
       "        text-align: right;\n",
       "    }\n",
       "</style>\n",
       "<table border=\"1\" class=\"dataframe\">\n",
       "  <thead>\n",
       "    <tr style=\"text-align: right;\">\n",
       "      <th></th>\n",
       "      <th>fecha</th>\n",
       "      <th>categoria</th>\n",
       "      <th>producto</th>\n",
       "      <th>precio</th>\n",
       "      <th>cantidad</th>\n",
       "    </tr>\n",
       "  </thead>\n",
       "  <tbody>\n",
       "    <tr>\n",
       "      <th>0</th>\n",
       "      <td>2024-01-31</td>\n",
       "      <td>A</td>\n",
       "      <td>P1</td>\n",
       "      <td>10</td>\n",
       "      <td>5</td>\n",
       "    </tr>\n",
       "    <tr>\n",
       "      <th>1</th>\n",
       "      <td>2024-02-29</td>\n",
       "      <td>B</td>\n",
       "      <td>P2</td>\n",
       "      <td>12</td>\n",
       "      <td>3</td>\n",
       "    </tr>\n",
       "    <tr>\n",
       "      <th>2</th>\n",
       "      <td>2024-03-31</td>\n",
       "      <td>C</td>\n",
       "      <td>P3</td>\n",
       "      <td>9</td>\n",
       "      <td>6</td>\n",
       "    </tr>\n",
       "    <tr>\n",
       "      <th>3</th>\n",
       "      <td>2024-04-30</td>\n",
       "      <td>A</td>\n",
       "      <td>P1</td>\n",
       "      <td>11</td>\n",
       "      <td>2</td>\n",
       "    </tr>\n",
       "    <tr>\n",
       "      <th>4</th>\n",
       "      <td>2024-05-31</td>\n",
       "      <td>B</td>\n",
       "      <td>P2</td>\n",
       "      <td>10</td>\n",
       "      <td>8</td>\n",
       "    </tr>\n",
       "  </tbody>\n",
       "</table>\n",
       "</div>"
      ],
      "text/plain": [
       "       fecha categoria producto  precio  cantidad\n",
       "0 2024-01-31         A       P1      10         5\n",
       "1 2024-02-29         B       P2      12         3\n",
       "2 2024-03-31         C       P3       9         6\n",
       "3 2024-04-30         A       P1      11         2\n",
       "4 2024-05-31         B       P2      10         8"
      ]
     },
     "execution_count": 45,
     "metadata": {},
     "output_type": "execute_result"
    }
   ],
   "source": [
    "\n",
    "# Dataset de ejemplo (ventas ficticias)\n",
    "datos = {\n",
    "    \"fecha\": pd.date_range(\"2024-01-01\", periods=12, freq=\"M\"),\n",
    "    \"categoria\": [\"A\", \"B\", \"C\"] * 4,\n",
    "    \"producto\": [\"P1\", \"P2\", \"P3\"] * 4,\n",
    "    \"precio\": [10, 12, 9, 11, 10, 8, 12, 14, 9, 13, 12, 10],\n",
    "    \"cantidad\": [5, 3, 6, 2, 8, 1, 4, 5, 7, 3, 2, 6],\n",
    "}\n",
    "df = pd.DataFrame(datos)\n",
    "df.head()\n"
   ]
  },
  {
   "cell_type": "code",
   "execution_count": 46,
   "id": "b681a27f",
   "metadata": {},
   "outputs": [
    {
     "data": {
      "text/html": [
       "<div>\n",
       "<style scoped>\n",
       "    .dataframe tbody tr th:only-of-type {\n",
       "        vertical-align: middle;\n",
       "    }\n",
       "\n",
       "    .dataframe tbody tr th {\n",
       "        vertical-align: top;\n",
       "    }\n",
       "\n",
       "    .dataframe thead th {\n",
       "        text-align: right;\n",
       "    }\n",
       "</style>\n",
       "<table border=\"1\" class=\"dataframe\">\n",
       "  <thead>\n",
       "    <tr style=\"text-align: right;\">\n",
       "      <th></th>\n",
       "      <th>nombre</th>\n",
       "      <th>apellidos</th>\n",
       "      <th>edad</th>\n",
       "      <th>nota</th>\n",
       "      <th>asignaturas</th>\n",
       "    </tr>\n",
       "  </thead>\n",
       "  <tbody>\n",
       "    <tr>\n",
       "      <th>0</th>\n",
       "      <td>Gilson</td>\n",
       "      <td>Tenemea</td>\n",
       "      <td>23</td>\n",
       "      <td>88</td>\n",
       "      <td>[Inteligencia Artificial, Formulación de Proye...</td>\n",
       "    </tr>\n",
       "    <tr>\n",
       "      <th>1</th>\n",
       "      <td>Kenny</td>\n",
       "      <td>Valdivieso</td>\n",
       "      <td>21</td>\n",
       "      <td>92</td>\n",
       "      <td>[Aplicaciones Seguras, Gestión de Proyectos]</td>\n",
       "    </tr>\n",
       "    <tr>\n",
       "      <th>2</th>\n",
       "      <td>David</td>\n",
       "      <td>Lopez</td>\n",
       "      <td>22</td>\n",
       "      <td>79</td>\n",
       "      <td>[Aplicaciones en la nube]</td>\n",
       "    </tr>\n",
       "    <tr>\n",
       "      <th>3</th>\n",
       "      <td>Anthony</td>\n",
       "      <td>Fajardo</td>\n",
       "      <td>24</td>\n",
       "      <td>85</td>\n",
       "      <td>[Inteligencia Artificial, Aprendizaje Automático]</td>\n",
       "    </tr>\n",
       "    <tr>\n",
       "      <th>4</th>\n",
       "      <td>Carmen</td>\n",
       "      <td>Gomez</td>\n",
       "      <td>23</td>\n",
       "      <td>90</td>\n",
       "      <td>[Bases de Datos, Gestión de Proyectos]</td>\n",
       "    </tr>\n",
       "  </tbody>\n",
       "</table>\n",
       "</div>"
      ],
      "text/plain": [
       "    nombre   apellidos  edad  nota  \\\n",
       "0   Gilson     Tenemea    23    88   \n",
       "1    Kenny  Valdivieso    21    92   \n",
       "2    David       Lopez    22    79   \n",
       "3  Anthony     Fajardo    24    85   \n",
       "4   Carmen       Gomez    23    90   \n",
       "\n",
       "                                         asignaturas  \n",
       "0  [Inteligencia Artificial, Formulación de Proye...  \n",
       "1       [Aplicaciones Seguras, Gestión de Proyectos]  \n",
       "2                          [Aplicaciones en la nube]  \n",
       "3  [Inteligencia Artificial, Aprendizaje Automático]  \n",
       "4             [Bases de Datos, Gestión de Proyectos]  "
      ]
     },
     "execution_count": 46,
     "metadata": {},
     "output_type": "execute_result"
    }
   ],
   "source": [
    "estudiantes = {\n",
    "    \"nombre\": [\"Gilson\", \"Kenny\", \"David\", \"Anthony\", \"Carmen\", \"Freddy\", \"Jhon\", \"David\", \"Jhony\", \"Alex\", \"Maura\", \"Stalyn\", \"Edwin\", \"Erik\", \"Wendy\", \"Adriana\"],\n",
    "    \"apellidos\": [\"Tenemea\", \"Valdivieso\", \"Lopez\", \"Fajardo\", \"Gomez\", \"Neira\", \"Montenegro\", \"Espinosa\", \"Mendez\", \"Loja\", \"Calle\", \"Pezantes\", \"Choes\", \"Chacon\", \"Llivichusca\", \"Cornejo\"],\n",
    "    # listas deben tener la misma longitud que 'nombre' y 'apellidos' (16)\n",
    "    \"edad\": [23, 21, 22, 24, 23, 22, 25, 21, 20, 22, 23, 24, 26, 22, 21, 23],\n",
    "    \"nota\": [88, 92, 79, 85, 90, 76, 83, 79, 81, 87, 91, 74, 78, 82, 89, 86],\n",
    "    # una lista de asignaturas por cada estudiante (16 entradas)\n",
    "    \"asignaturas\": [\n",
    "        [\"Inteligencia Artificial\", \"Formulación de Proyectos\"],\n",
    "        [\"Aplicaciones Seguras\", \"Gestión de Proyectos\"],\n",
    "        [\"Aplicaciones en la nube\"],\n",
    "        [\"Inteligencia Artificial\", \"Aprendizaje Automático\"],\n",
    "        [\"Bases de Datos\", \"Gestión de Proyectos\"],\n",
    "        [\"Redes\", \"Seguridad Informática\"],\n",
    "        [\"Programación Avanzada\", \"Arquitectura de Software\"],\n",
    "        [\"Aplicaciones en la nube\", \"DevOps\"],\n",
    "        [\"Sistemas Operativos\"],\n",
    "        [\"Programación\", \"Estructuras de Datos\"],\n",
    "        [\"Interfaces de Usuario\"],\n",
    "        [\"Ingeniería de Software\", \"Calidad de Software\"],\n",
    "        [\"Matemáticas Discretas\"],\n",
    "        [\"Optimización\", \"Algoritmos\"],\n",
    "        [\"Ética Profesional\"],\n",
    "        [\"Gestión de Proyectos\", \"Emprendimiento\"]\n",
    "    ],\n",
    "}\n",
    "df_estudiantes = pd.DataFrame(estudiantes)  \n",
    "df_estudiantes.head()\n"
   ]
  },
  {
   "cell_type": "code",
   "execution_count": 47,
   "id": "8b3ccd0a",
   "metadata": {},
   "outputs": [
    {
     "name": "stdout",
     "output_type": "stream",
     "text": [
      "Index(['nombre', 'apellidos', 'edad', 'nota', 'asignaturas'], dtype='object')\n"
     ]
    }
   ],
   "source": [
    "print(df_estudiantes.columns)\n"
   ]
  },
  {
   "cell_type": "code",
   "execution_count": 48,
   "id": "ad6fe3ac",
   "metadata": {},
   "outputs": [
    {
     "data": {
      "text/html": [
       "<div>\n",
       "<style scoped>\n",
       "    .dataframe tbody tr th:only-of-type {\n",
       "        vertical-align: middle;\n",
       "    }\n",
       "\n",
       "    .dataframe tbody tr th {\n",
       "        vertical-align: top;\n",
       "    }\n",
       "\n",
       "    .dataframe thead th {\n",
       "        text-align: right;\n",
       "    }\n",
       "</style>\n",
       "<table border=\"1\" class=\"dataframe\">\n",
       "  <thead>\n",
       "    <tr style=\"text-align: right;\">\n",
       "      <th></th>\n",
       "      <th>nombre</th>\n",
       "      <th>apellidos</th>\n",
       "      <th>edad</th>\n",
       "      <th>nota</th>\n",
       "      <th>asignaturas</th>\n",
       "    </tr>\n",
       "  </thead>\n",
       "  <tbody>\n",
       "    <tr>\n",
       "      <th>6</th>\n",
       "      <td>Jhon</td>\n",
       "      <td>Montenegro</td>\n",
       "      <td>25</td>\n",
       "      <td>83</td>\n",
       "      <td>[Programación Avanzada, Arquitectura de Software]</td>\n",
       "    </tr>\n",
       "    <tr>\n",
       "      <th>12</th>\n",
       "      <td>Edwin</td>\n",
       "      <td>Choes</td>\n",
       "      <td>26</td>\n",
       "      <td>78</td>\n",
       "      <td>[Matemáticas Discretas]</td>\n",
       "    </tr>\n",
       "  </tbody>\n",
       "</table>\n",
       "</div>"
      ],
      "text/plain": [
       "   nombre   apellidos  edad  nota  \\\n",
       "6    Jhon  Montenegro    25    83   \n",
       "12  Edwin       Choes    26    78   \n",
       "\n",
       "                                          asignaturas  \n",
       "6   [Programación Avanzada, Arquitectura de Software]  \n",
       "12                            [Matemáticas Discretas]  "
      ]
     },
     "execution_count": 48,
     "metadata": {},
     "output_type": "execute_result"
    }
   ],
   "source": [
    "df_A = df_estudiantes[df_estudiantes[\"apellidos\"]=='Valdivieso']\n",
    "df_altas = df_estudiantes[df_estudiantes[\"edad\"]>24]\n",
    "df_A\n",
    "df_altas\n"
   ]
  },
  {
   "cell_type": "markdown",
   "id": "b2c34c9f",
   "metadata": {},
   "source": [
    "Agrupacion y agregacion"
   ]
  },
  {
   "cell_type": "code",
   "execution_count": 49,
   "id": "0a7b149a",
   "metadata": {},
   "outputs": [],
   "source": [
    "##ventas_categoria =df_estudiantes.groupby(\"nombres\")[\"edad\"].sum()\n",
    "\n",
    "##ventas_categoria =df_estudiantes\n",
    "\n",
    "##FALTA...."
   ]
  },
  {
   "cell_type": "code",
   "execution_count": 50,
   "id": "9f2eee22",
   "metadata": {},
   "outputs": [
    {
     "name": "stdout",
     "output_type": "stream",
     "text": [
      "Ventas ordenadas por precio: \n",
      "         fecha categoria producto  precio  cantidad\n",
      "4  2024-05-31         B       P2      10         8\n",
      "8  2024-09-30         C       P3       9         7\n",
      "2  2024-03-31         C       P3       9         6\n",
      "11 2024-12-31         C       P3      10         6\n",
      "0  2024-01-31         A       P1      10         5\n",
      "7  2024-08-31         B       P2      14         5\n",
      "6  2024-07-31         A       P1      12         4\n",
      "1  2024-02-29         B       P2      12         3\n",
      "9  2024-10-31         A       P1      13         3\n",
      "3  2024-04-30         A       P1      11         2\n",
      "10 2024-11-30         B       P2      12         2\n",
      "5  2024-06-30         C       P3       8         1\n"
     ]
    }
   ],
   "source": [
    "##ORDENAMIENTO.\n",
    "df_sorted=df.sort_values(by=\"cantidad\",ascending=False)\n",
    "print(\"Ventas ordenadas por precio: \\n\" , df_sorted)"
   ]
  },
  {
   "cell_type": "code",
   "execution_count": 51,
   "id": "6740b532",
   "metadata": {},
   "outputs": [
    {
     "name": "stdout",
     "output_type": "stream",
     "text": [
      "el total es: \n",
      "         fecha categoria producto  precio  cantidad  total\n",
      "0  2024-01-31         A       P1      10         5     50\n",
      "1  2024-02-29         B       P2      12         3     36\n",
      "2  2024-03-31         C       P3       9         6     54\n",
      "3  2024-04-30         A       P1      11         2     22\n",
      "4  2024-05-31         B       P2      10         8     80\n",
      "5  2024-06-30         C       P3       8         1      8\n",
      "6  2024-07-31         A       P1      12         4     48\n",
      "7  2024-08-31         B       P2      14         5     70\n",
      "8  2024-09-30         C       P3       9         7     63\n",
      "9  2024-10-31         A       P1      13         3     39\n",
      "10 2024-11-30         B       P2      12         2     24\n",
      "11 2024-12-31         C       P3      10         6     60\n"
     ]
    }
   ],
   "source": [
    "df[\"total\"]=df[\"precio\"]*df[\"cantidad\"]\n",
    "print(\"el total es: \\n\",df)"
   ]
  },
  {
   "cell_type": "code",
   "execution_count": 52,
   "id": "f0d76385",
   "metadata": {},
   "outputs": [
    {
     "name": "stdout",
     "output_type": "stream",
     "text": [
      "antes manejar valores faltantes: \n",
      "         fecha categoria producto  precio  cantidad  total\n",
      "0  2024-01-31         A       P1    10.0         5     50\n",
      "1  2024-02-29         B       P2    12.0         3     36\n",
      "2  2024-03-31         C       P3     9.0         6     54\n",
      "3  2024-04-30         A       P1     NaN         2     22\n",
      "4  2024-05-31         B       P2    10.0         8     80\n",
      "5  2024-06-30         C       P3     8.0         1      8\n",
      "6  2024-07-31         A       P1    12.0         4     48\n",
      "7  2024-08-31         B       P2    14.0         5     70\n",
      "8  2024-09-30         C       P3     9.0         7     63\n",
      "9  2024-10-31         A       P1    13.0         3     39\n",
      "10 2024-11-30         B       P2    12.0         2     24\n",
      "11 2024-12-31         C       P3    10.0         6     60\n",
      "Despues de manejar valores faltantes: \n",
      " "
     ]
    },
    {
     "name": "stderr",
     "output_type": "stream",
     "text": [
      "C:\\Users\\kenny\\AppData\\Local\\Temp\\ipykernel_17280\\151517734.py:6: FutureWarning:\n",
      "\n",
      "Setting an item of incompatible dtype is deprecated and will raise an error in a future version of pandas. Value '<bound method Series.mean of 0     10.0\n",
      "1     12.0\n",
      "2      9.0\n",
      "3      NaN\n",
      "4     10.0\n",
      "5      8.0\n",
      "6     12.0\n",
      "7     14.0\n",
      "8      9.0\n",
      "9     13.0\n",
      "10    12.0\n",
      "11    10.0\n",
      "Name: precio, dtype: float64>' has dtype incompatible with float64, please explicitly cast to a compatible dtype first.\n",
      "\n"
     ]
    },
    {
     "ename": "RecursionError",
     "evalue": "maximum recursion depth exceeded",
     "output_type": "error",
     "traceback": [
      "\u001b[1;31m---------------------------------------------------------------------------\u001b[0m",
      "\u001b[1;31mRecursionError\u001b[0m                            Traceback (most recent call last)",
      "Cell \u001b[1;32mIn[52], line 7\u001b[0m\n\u001b[0;32m      4\u001b[0m \u001b[38;5;28mprint\u001b[39m(\u001b[38;5;124m\"\u001b[39m\u001b[38;5;124mantes manejar valores faltantes: \u001b[39m\u001b[38;5;130;01m\\n\u001b[39;00m\u001b[38;5;124m\"\u001b[39m,df_missing)\n\u001b[0;32m      6\u001b[0m df_missing[\u001b[38;5;124m\"\u001b[39m\u001b[38;5;124mprecio\u001b[39m\u001b[38;5;124m\"\u001b[39m]\u001b[38;5;241m.\u001b[39mfillna(df_missing[\u001b[38;5;124m\"\u001b[39m\u001b[38;5;124mprecio\u001b[39m\u001b[38;5;124m\"\u001b[39m]\u001b[38;5;241m.\u001b[39mmean,inplace\u001b[38;5;241m=\u001b[39m\u001b[38;5;28;01mTrue\u001b[39;00m)\n\u001b[1;32m----> 7\u001b[0m \u001b[38;5;28mprint\u001b[39m(\u001b[38;5;124m\"\u001b[39m\u001b[38;5;124mDespues de manejar valores faltantes: \u001b[39m\u001b[38;5;130;01m\\n\u001b[39;00m\u001b[38;5;124m\"\u001b[39m,df_missing)\n",
      "File \u001b[1;32mc:\\Users\\kenny\\anaconda3\\Lib\\site-packages\\pandas\\core\\frame.py:1214\u001b[0m, in \u001b[0;36mDataFrame.__repr__\u001b[1;34m(self)\u001b[0m\n\u001b[0;32m   1211\u001b[0m     \u001b[38;5;28;01mreturn\u001b[39;00m buf\u001b[38;5;241m.\u001b[39mgetvalue()\n\u001b[0;32m   1213\u001b[0m repr_params \u001b[38;5;241m=\u001b[39m fmt\u001b[38;5;241m.\u001b[39mget_dataframe_repr_params()\n\u001b[1;32m-> 1214\u001b[0m \u001b[38;5;28;01mreturn\u001b[39;00m \u001b[38;5;28mself\u001b[39m\u001b[38;5;241m.\u001b[39mto_string(\u001b[38;5;241m*\u001b[39m\u001b[38;5;241m*\u001b[39mrepr_params)\n",
      "File \u001b[1;32mc:\\Users\\kenny\\anaconda3\\Lib\\site-packages\\pandas\\util\\_decorators.py:333\u001b[0m, in \u001b[0;36mdeprecate_nonkeyword_arguments.<locals>.decorate.<locals>.wrapper\u001b[1;34m(*args, **kwargs)\u001b[0m\n\u001b[0;32m    327\u001b[0m \u001b[38;5;28;01mif\u001b[39;00m \u001b[38;5;28mlen\u001b[39m(args) \u001b[38;5;241m>\u001b[39m num_allow_args:\n\u001b[0;32m    328\u001b[0m     warnings\u001b[38;5;241m.\u001b[39mwarn(\n\u001b[0;32m    329\u001b[0m         msg\u001b[38;5;241m.\u001b[39mformat(arguments\u001b[38;5;241m=\u001b[39m_format_argument_list(allow_args)),\n\u001b[0;32m    330\u001b[0m         \u001b[38;5;167;01mFutureWarning\u001b[39;00m,\n\u001b[0;32m    331\u001b[0m         stacklevel\u001b[38;5;241m=\u001b[39mfind_stack_level(),\n\u001b[0;32m    332\u001b[0m     )\n\u001b[1;32m--> 333\u001b[0m \u001b[38;5;28;01mreturn\u001b[39;00m func(\u001b[38;5;241m*\u001b[39margs, \u001b[38;5;241m*\u001b[39m\u001b[38;5;241m*\u001b[39mkwargs)\n",
      "File \u001b[1;32mc:\\Users\\kenny\\anaconda3\\Lib\\site-packages\\pandas\\core\\frame.py:1394\u001b[0m, in \u001b[0;36mDataFrame.to_string\u001b[1;34m(self, buf, columns, col_space, header, index, na_rep, formatters, float_format, sparsify, index_names, justify, max_rows, max_cols, show_dimensions, decimal, line_width, min_rows, max_colwidth, encoding)\u001b[0m\n\u001b[0;32m   1375\u001b[0m \u001b[38;5;28;01mwith\u001b[39;00m option_context(\u001b[38;5;124m\"\u001b[39m\u001b[38;5;124mdisplay.max_colwidth\u001b[39m\u001b[38;5;124m\"\u001b[39m, max_colwidth):\n\u001b[0;32m   1376\u001b[0m     formatter \u001b[38;5;241m=\u001b[39m fmt\u001b[38;5;241m.\u001b[39mDataFrameFormatter(\n\u001b[0;32m   1377\u001b[0m         \u001b[38;5;28mself\u001b[39m,\n\u001b[0;32m   1378\u001b[0m         columns\u001b[38;5;241m=\u001b[39mcolumns,\n\u001b[1;32m   (...)\u001b[0m\n\u001b[0;32m   1392\u001b[0m         decimal\u001b[38;5;241m=\u001b[39mdecimal,\n\u001b[0;32m   1393\u001b[0m     )\n\u001b[1;32m-> 1394\u001b[0m     \u001b[38;5;28;01mreturn\u001b[39;00m fmt\u001b[38;5;241m.\u001b[39mDataFrameRenderer(formatter)\u001b[38;5;241m.\u001b[39mto_string(\n\u001b[0;32m   1395\u001b[0m         buf\u001b[38;5;241m=\u001b[39mbuf,\n\u001b[0;32m   1396\u001b[0m         encoding\u001b[38;5;241m=\u001b[39mencoding,\n\u001b[0;32m   1397\u001b[0m         line_width\u001b[38;5;241m=\u001b[39mline_width,\n\u001b[0;32m   1398\u001b[0m     )\n",
      "File \u001b[1;32mc:\\Users\\kenny\\anaconda3\\Lib\\site-packages\\pandas\\io\\formats\\format.py:962\u001b[0m, in \u001b[0;36mDataFrameRenderer.to_string\u001b[1;34m(self, buf, encoding, line_width)\u001b[0m\n\u001b[0;32m    959\u001b[0m \u001b[38;5;28;01mfrom\u001b[39;00m\u001b[38;5;250m \u001b[39m\u001b[38;5;21;01mpandas\u001b[39;00m\u001b[38;5;21;01m.\u001b[39;00m\u001b[38;5;21;01mio\u001b[39;00m\u001b[38;5;21;01m.\u001b[39;00m\u001b[38;5;21;01mformats\u001b[39;00m\u001b[38;5;21;01m.\u001b[39;00m\u001b[38;5;21;01mstring\u001b[39;00m\u001b[38;5;250m \u001b[39m\u001b[38;5;28;01mimport\u001b[39;00m StringFormatter\n\u001b[0;32m    961\u001b[0m string_formatter \u001b[38;5;241m=\u001b[39m StringFormatter(\u001b[38;5;28mself\u001b[39m\u001b[38;5;241m.\u001b[39mfmt, line_width\u001b[38;5;241m=\u001b[39mline_width)\n\u001b[1;32m--> 962\u001b[0m string \u001b[38;5;241m=\u001b[39m string_formatter\u001b[38;5;241m.\u001b[39mto_string()\n\u001b[0;32m    963\u001b[0m \u001b[38;5;28;01mreturn\u001b[39;00m save_to_buffer(string, buf\u001b[38;5;241m=\u001b[39mbuf, encoding\u001b[38;5;241m=\u001b[39mencoding)\n",
      "File \u001b[1;32mc:\\Users\\kenny\\anaconda3\\Lib\\site-packages\\pandas\\io\\formats\\string.py:29\u001b[0m, in \u001b[0;36mStringFormatter.to_string\u001b[1;34m(self)\u001b[0m\n\u001b[0;32m     28\u001b[0m \u001b[38;5;28;01mdef\u001b[39;00m\u001b[38;5;250m \u001b[39m\u001b[38;5;21mto_string\u001b[39m(\u001b[38;5;28mself\u001b[39m) \u001b[38;5;241m-\u001b[39m\u001b[38;5;241m>\u001b[39m \u001b[38;5;28mstr\u001b[39m:\n\u001b[1;32m---> 29\u001b[0m     text \u001b[38;5;241m=\u001b[39m \u001b[38;5;28mself\u001b[39m\u001b[38;5;241m.\u001b[39m_get_string_representation()\n\u001b[0;32m     30\u001b[0m     \u001b[38;5;28;01mif\u001b[39;00m \u001b[38;5;28mself\u001b[39m\u001b[38;5;241m.\u001b[39mfmt\u001b[38;5;241m.\u001b[39mshould_show_dimensions:\n\u001b[0;32m     31\u001b[0m         text \u001b[38;5;241m=\u001b[39m \u001b[38;5;124mf\u001b[39m\u001b[38;5;124m\"\u001b[39m\u001b[38;5;132;01m{\u001b[39;00mtext\u001b[38;5;132;01m}\u001b[39;00m\u001b[38;5;132;01m{\u001b[39;00m\u001b[38;5;28mself\u001b[39m\u001b[38;5;241m.\u001b[39mfmt\u001b[38;5;241m.\u001b[39mdimensions_info\u001b[38;5;132;01m}\u001b[39;00m\u001b[38;5;124m\"\u001b[39m\n",
      "File \u001b[1;32mc:\\Users\\kenny\\anaconda3\\Lib\\site-packages\\pandas\\io\\formats\\string.py:44\u001b[0m, in \u001b[0;36mStringFormatter._get_string_representation\u001b[1;34m(self)\u001b[0m\n\u001b[0;32m     41\u001b[0m \u001b[38;5;28;01mif\u001b[39;00m \u001b[38;5;28mself\u001b[39m\u001b[38;5;241m.\u001b[39mfmt\u001b[38;5;241m.\u001b[39mframe\u001b[38;5;241m.\u001b[39mempty:\n\u001b[0;32m     42\u001b[0m     \u001b[38;5;28;01mreturn\u001b[39;00m \u001b[38;5;28mself\u001b[39m\u001b[38;5;241m.\u001b[39m_empty_info_line\n\u001b[1;32m---> 44\u001b[0m strcols \u001b[38;5;241m=\u001b[39m \u001b[38;5;28mself\u001b[39m\u001b[38;5;241m.\u001b[39m_get_strcols()\n\u001b[0;32m     46\u001b[0m \u001b[38;5;28;01mif\u001b[39;00m \u001b[38;5;28mself\u001b[39m\u001b[38;5;241m.\u001b[39mline_width \u001b[38;5;129;01mis\u001b[39;00m \u001b[38;5;28;01mNone\u001b[39;00m:\n\u001b[0;32m     47\u001b[0m     \u001b[38;5;66;03m# no need to wrap around just print the whole frame\u001b[39;00m\n\u001b[0;32m     48\u001b[0m     \u001b[38;5;28;01mreturn\u001b[39;00m \u001b[38;5;28mself\u001b[39m\u001b[38;5;241m.\u001b[39madj\u001b[38;5;241m.\u001b[39madjoin(\u001b[38;5;241m1\u001b[39m, \u001b[38;5;241m*\u001b[39mstrcols)\n",
      "File \u001b[1;32mc:\\Users\\kenny\\anaconda3\\Lib\\site-packages\\pandas\\io\\formats\\string.py:35\u001b[0m, in \u001b[0;36mStringFormatter._get_strcols\u001b[1;34m(self)\u001b[0m\n\u001b[0;32m     34\u001b[0m \u001b[38;5;28;01mdef\u001b[39;00m\u001b[38;5;250m \u001b[39m\u001b[38;5;21m_get_strcols\u001b[39m(\u001b[38;5;28mself\u001b[39m) \u001b[38;5;241m-\u001b[39m\u001b[38;5;241m>\u001b[39m \u001b[38;5;28mlist\u001b[39m[\u001b[38;5;28mlist\u001b[39m[\u001b[38;5;28mstr\u001b[39m]]:\n\u001b[1;32m---> 35\u001b[0m     strcols \u001b[38;5;241m=\u001b[39m \u001b[38;5;28mself\u001b[39m\u001b[38;5;241m.\u001b[39mfmt\u001b[38;5;241m.\u001b[39mget_strcols()\n\u001b[0;32m     36\u001b[0m     \u001b[38;5;28;01mif\u001b[39;00m \u001b[38;5;28mself\u001b[39m\u001b[38;5;241m.\u001b[39mfmt\u001b[38;5;241m.\u001b[39mis_truncated:\n\u001b[0;32m     37\u001b[0m         strcols \u001b[38;5;241m=\u001b[39m \u001b[38;5;28mself\u001b[39m\u001b[38;5;241m.\u001b[39m_insert_dot_separators(strcols)\n",
      "File \u001b[1;32mc:\\Users\\kenny\\anaconda3\\Lib\\site-packages\\pandas\\io\\formats\\format.py:476\u001b[0m, in \u001b[0;36mDataFrameFormatter.get_strcols\u001b[1;34m(self)\u001b[0m\n\u001b[0;32m    472\u001b[0m \u001b[38;5;28;01mdef\u001b[39;00m\u001b[38;5;250m \u001b[39m\u001b[38;5;21mget_strcols\u001b[39m(\u001b[38;5;28mself\u001b[39m) \u001b[38;5;241m-\u001b[39m\u001b[38;5;241m>\u001b[39m \u001b[38;5;28mlist\u001b[39m[\u001b[38;5;28mlist\u001b[39m[\u001b[38;5;28mstr\u001b[39m]]:\n\u001b[0;32m    473\u001b[0m \u001b[38;5;250m    \u001b[39m\u001b[38;5;124;03m\"\"\"\u001b[39;00m\n\u001b[0;32m    474\u001b[0m \u001b[38;5;124;03m    Render a DataFrame to a list of columns (as lists of strings).\u001b[39;00m\n\u001b[0;32m    475\u001b[0m \u001b[38;5;124;03m    \"\"\"\u001b[39;00m\n\u001b[1;32m--> 476\u001b[0m     strcols \u001b[38;5;241m=\u001b[39m \u001b[38;5;28mself\u001b[39m\u001b[38;5;241m.\u001b[39m_get_strcols_without_index()\n\u001b[0;32m    478\u001b[0m     \u001b[38;5;28;01mif\u001b[39;00m \u001b[38;5;28mself\u001b[39m\u001b[38;5;241m.\u001b[39mindex:\n\u001b[0;32m    479\u001b[0m         str_index \u001b[38;5;241m=\u001b[39m \u001b[38;5;28mself\u001b[39m\u001b[38;5;241m.\u001b[39m_get_formatted_index(\u001b[38;5;28mself\u001b[39m\u001b[38;5;241m.\u001b[39mtr_frame)\n",
      "File \u001b[1;32mc:\\Users\\kenny\\anaconda3\\Lib\\site-packages\\pandas\\io\\formats\\format.py:740\u001b[0m, in \u001b[0;36mDataFrameFormatter._get_strcols_without_index\u001b[1;34m(self)\u001b[0m\n\u001b[0;32m    736\u001b[0m cheader \u001b[38;5;241m=\u001b[39m str_columns[i]\n\u001b[0;32m    737\u001b[0m header_colwidth \u001b[38;5;241m=\u001b[39m \u001b[38;5;28mmax\u001b[39m(\n\u001b[0;32m    738\u001b[0m     \u001b[38;5;28mint\u001b[39m(\u001b[38;5;28mself\u001b[39m\u001b[38;5;241m.\u001b[39mcol_space\u001b[38;5;241m.\u001b[39mget(c, \u001b[38;5;241m0\u001b[39m)), \u001b[38;5;241m*\u001b[39m(\u001b[38;5;28mself\u001b[39m\u001b[38;5;241m.\u001b[39madj\u001b[38;5;241m.\u001b[39mlen(x) \u001b[38;5;28;01mfor\u001b[39;00m x \u001b[38;5;129;01min\u001b[39;00m cheader)\n\u001b[0;32m    739\u001b[0m )\n\u001b[1;32m--> 740\u001b[0m fmt_values \u001b[38;5;241m=\u001b[39m \u001b[38;5;28mself\u001b[39m\u001b[38;5;241m.\u001b[39mformat_col(i)\n\u001b[0;32m    741\u001b[0m fmt_values \u001b[38;5;241m=\u001b[39m _make_fixed_width(\n\u001b[0;32m    742\u001b[0m     fmt_values, \u001b[38;5;28mself\u001b[39m\u001b[38;5;241m.\u001b[39mjustify, minimum\u001b[38;5;241m=\u001b[39mheader_colwidth, adj\u001b[38;5;241m=\u001b[39m\u001b[38;5;28mself\u001b[39m\u001b[38;5;241m.\u001b[39madj\n\u001b[0;32m    743\u001b[0m )\n\u001b[0;32m    745\u001b[0m max_len \u001b[38;5;241m=\u001b[39m \u001b[38;5;28mmax\u001b[39m(\u001b[38;5;241m*\u001b[39m(\u001b[38;5;28mself\u001b[39m\u001b[38;5;241m.\u001b[39madj\u001b[38;5;241m.\u001b[39mlen(x) \u001b[38;5;28;01mfor\u001b[39;00m x \u001b[38;5;129;01min\u001b[39;00m fmt_values), header_colwidth)\n",
      "File \u001b[1;32mc:\\Users\\kenny\\anaconda3\\Lib\\site-packages\\pandas\\io\\formats\\format.py:754\u001b[0m, in \u001b[0;36mDataFrameFormatter.format_col\u001b[1;34m(self, i)\u001b[0m\n\u001b[0;32m    752\u001b[0m frame \u001b[38;5;241m=\u001b[39m \u001b[38;5;28mself\u001b[39m\u001b[38;5;241m.\u001b[39mtr_frame\n\u001b[0;32m    753\u001b[0m formatter \u001b[38;5;241m=\u001b[39m \u001b[38;5;28mself\u001b[39m\u001b[38;5;241m.\u001b[39m_get_formatter(i)\n\u001b[1;32m--> 754\u001b[0m \u001b[38;5;28;01mreturn\u001b[39;00m format_array(\n\u001b[0;32m    755\u001b[0m     frame\u001b[38;5;241m.\u001b[39miloc[:, i]\u001b[38;5;241m.\u001b[39m_values,\n\u001b[0;32m    756\u001b[0m     formatter,\n\u001b[0;32m    757\u001b[0m     float_format\u001b[38;5;241m=\u001b[39m\u001b[38;5;28mself\u001b[39m\u001b[38;5;241m.\u001b[39mfloat_format,\n\u001b[0;32m    758\u001b[0m     na_rep\u001b[38;5;241m=\u001b[39m\u001b[38;5;28mself\u001b[39m\u001b[38;5;241m.\u001b[39mna_rep,\n\u001b[0;32m    759\u001b[0m     space\u001b[38;5;241m=\u001b[39m\u001b[38;5;28mself\u001b[39m\u001b[38;5;241m.\u001b[39mcol_space\u001b[38;5;241m.\u001b[39mget(frame\u001b[38;5;241m.\u001b[39mcolumns[i]),\n\u001b[0;32m    760\u001b[0m     decimal\u001b[38;5;241m=\u001b[39m\u001b[38;5;28mself\u001b[39m\u001b[38;5;241m.\u001b[39mdecimal,\n\u001b[0;32m    761\u001b[0m     leading_space\u001b[38;5;241m=\u001b[39m\u001b[38;5;28mself\u001b[39m\u001b[38;5;241m.\u001b[39mindex,\n\u001b[0;32m    762\u001b[0m )\n",
      "File \u001b[1;32mc:\\Users\\kenny\\anaconda3\\Lib\\site-packages\\pandas\\io\\formats\\format.py:1161\u001b[0m, in \u001b[0;36mformat_array\u001b[1;34m(values, formatter, float_format, na_rep, digits, space, justify, decimal, leading_space, quoting, fallback_formatter)\u001b[0m\n\u001b[0;32m   1145\u001b[0m     digits \u001b[38;5;241m=\u001b[39m get_option(\u001b[38;5;124m\"\u001b[39m\u001b[38;5;124mdisplay.precision\u001b[39m\u001b[38;5;124m\"\u001b[39m)\n\u001b[0;32m   1147\u001b[0m fmt_obj \u001b[38;5;241m=\u001b[39m fmt_klass(\n\u001b[0;32m   1148\u001b[0m     values,\n\u001b[0;32m   1149\u001b[0m     digits\u001b[38;5;241m=\u001b[39mdigits,\n\u001b[1;32m   (...)\u001b[0m\n\u001b[0;32m   1158\u001b[0m     fallback_formatter\u001b[38;5;241m=\u001b[39mfallback_formatter,\n\u001b[0;32m   1159\u001b[0m )\n\u001b[1;32m-> 1161\u001b[0m \u001b[38;5;28;01mreturn\u001b[39;00m fmt_obj\u001b[38;5;241m.\u001b[39mget_result()\n",
      "File \u001b[1;32mc:\\Users\\kenny\\anaconda3\\Lib\\site-packages\\pandas\\io\\formats\\format.py:1194\u001b[0m, in \u001b[0;36m_GenericArrayFormatter.get_result\u001b[1;34m(self)\u001b[0m\n\u001b[0;32m   1193\u001b[0m \u001b[38;5;28;01mdef\u001b[39;00m\u001b[38;5;250m \u001b[39m\u001b[38;5;21mget_result\u001b[39m(\u001b[38;5;28mself\u001b[39m) \u001b[38;5;241m-\u001b[39m\u001b[38;5;241m>\u001b[39m \u001b[38;5;28mlist\u001b[39m[\u001b[38;5;28mstr\u001b[39m]:\n\u001b[1;32m-> 1194\u001b[0m     fmt_values \u001b[38;5;241m=\u001b[39m \u001b[38;5;28mself\u001b[39m\u001b[38;5;241m.\u001b[39m_format_strings()\n\u001b[0;32m   1195\u001b[0m     \u001b[38;5;28;01mreturn\u001b[39;00m _make_fixed_width(fmt_values, \u001b[38;5;28mself\u001b[39m\u001b[38;5;241m.\u001b[39mjustify)\n",
      "File \u001b[1;32mc:\\Users\\kenny\\anaconda3\\Lib\\site-packages\\pandas\\io\\formats\\format.py:1259\u001b[0m, in \u001b[0;36m_GenericArrayFormatter._format_strings\u001b[1;34m(self)\u001b[0m\n\u001b[0;32m   1257\u001b[0m \u001b[38;5;28;01mfor\u001b[39;00m i, v \u001b[38;5;129;01min\u001b[39;00m \u001b[38;5;28menumerate\u001b[39m(vals):\n\u001b[0;32m   1258\u001b[0m     \u001b[38;5;28;01mif\u001b[39;00m (\u001b[38;5;129;01mnot\u001b[39;00m is_float_type[i] \u001b[38;5;129;01mor\u001b[39;00m \u001b[38;5;28mself\u001b[39m\u001b[38;5;241m.\u001b[39mformatter \u001b[38;5;129;01mis\u001b[39;00m \u001b[38;5;129;01mnot\u001b[39;00m \u001b[38;5;28;01mNone\u001b[39;00m) \u001b[38;5;129;01mand\u001b[39;00m leading_space:\n\u001b[1;32m-> 1259\u001b[0m         fmt_values\u001b[38;5;241m.\u001b[39mappend(\u001b[38;5;124mf\u001b[39m\u001b[38;5;124m\"\u001b[39m\u001b[38;5;124m \u001b[39m\u001b[38;5;132;01m{\u001b[39;00m_format(v)\u001b[38;5;132;01m}\u001b[39;00m\u001b[38;5;124m\"\u001b[39m)\n\u001b[0;32m   1260\u001b[0m     \u001b[38;5;28;01melif\u001b[39;00m is_float_type[i]:\n\u001b[0;32m   1261\u001b[0m         fmt_values\u001b[38;5;241m.\u001b[39mappend(float_format(v))\n",
      "File \u001b[1;32mc:\\Users\\kenny\\anaconda3\\Lib\\site-packages\\pandas\\io\\formats\\format.py:1239\u001b[0m, in \u001b[0;36m_GenericArrayFormatter._format_strings.<locals>._format\u001b[1;34m(x)\u001b[0m\n\u001b[0;32m   1236\u001b[0m     \u001b[38;5;28;01mreturn\u001b[39;00m \u001b[38;5;28mrepr\u001b[39m(x)\n\u001b[0;32m   1237\u001b[0m \u001b[38;5;28;01melse\u001b[39;00m:\n\u001b[0;32m   1238\u001b[0m     \u001b[38;5;66;03m# object dtype\u001b[39;00m\n\u001b[1;32m-> 1239\u001b[0m     \u001b[38;5;28;01mreturn\u001b[39;00m \u001b[38;5;28mstr\u001b[39m(formatter(x))\n",
      "File \u001b[1;32mc:\\Users\\kenny\\anaconda3\\Lib\\site-packages\\pandas\\io\\formats\\printing.py:233\u001b[0m, in \u001b[0;36mpprint_thing\u001b[1;34m(thing, _nest_lvl, escape_chars, default_escapes, quote_strings, max_seq_items)\u001b[0m\n\u001b[0;32m    231\u001b[0m     result \u001b[38;5;241m=\u001b[39m \u001b[38;5;124mf\u001b[39m\u001b[38;5;124m\"\u001b[39m\u001b[38;5;124m'\u001b[39m\u001b[38;5;132;01m{\u001b[39;00mas_escaped_string(thing)\u001b[38;5;132;01m}\u001b[39;00m\u001b[38;5;124m'\u001b[39m\u001b[38;5;124m\"\u001b[39m\n\u001b[0;32m    232\u001b[0m \u001b[38;5;28;01melse\u001b[39;00m:\n\u001b[1;32m--> 233\u001b[0m     result \u001b[38;5;241m=\u001b[39m as_escaped_string(thing)\n\u001b[0;32m    235\u001b[0m \u001b[38;5;28;01mreturn\u001b[39;00m result\n",
      "File \u001b[1;32mc:\\Users\\kenny\\anaconda3\\Lib\\site-packages\\pandas\\io\\formats\\printing.py:209\u001b[0m, in \u001b[0;36mpprint_thing.<locals>.as_escaped_string\u001b[1;34m(thing, escape_chars)\u001b[0m\n\u001b[0;32m    206\u001b[0m \u001b[38;5;28;01melse\u001b[39;00m:\n\u001b[0;32m    207\u001b[0m     escape_chars \u001b[38;5;241m=\u001b[39m escape_chars \u001b[38;5;129;01mor\u001b[39;00m ()\n\u001b[1;32m--> 209\u001b[0m result \u001b[38;5;241m=\u001b[39m \u001b[38;5;28mstr\u001b[39m(thing)\n\u001b[0;32m    210\u001b[0m \u001b[38;5;28;01mfor\u001b[39;00m c \u001b[38;5;129;01min\u001b[39;00m escape_chars:\n\u001b[0;32m    211\u001b[0m     result \u001b[38;5;241m=\u001b[39m result\u001b[38;5;241m.\u001b[39mreplace(c, translate[c])\n",
      "File \u001b[1;32mc:\\Users\\kenny\\anaconda3\\Lib\\site-packages\\pandas\\core\\series.py:1784\u001b[0m, in \u001b[0;36mSeries.__repr__\u001b[1;34m(self)\u001b[0m\n\u001b[0;32m   1782\u001b[0m \u001b[38;5;66;03m# pylint: disable=invalid-repr-returned\u001b[39;00m\n\u001b[0;32m   1783\u001b[0m repr_params \u001b[38;5;241m=\u001b[39m fmt\u001b[38;5;241m.\u001b[39mget_series_repr_params()\n\u001b[1;32m-> 1784\u001b[0m \u001b[38;5;28;01mreturn\u001b[39;00m \u001b[38;5;28mself\u001b[39m\u001b[38;5;241m.\u001b[39mto_string(\u001b[38;5;241m*\u001b[39m\u001b[38;5;241m*\u001b[39mrepr_params)\n",
      "File \u001b[1;32mc:\\Users\\kenny\\anaconda3\\Lib\\site-packages\\pandas\\core\\series.py:1883\u001b[0m, in \u001b[0;36mSeries.to_string\u001b[1;34m(self, buf, na_rep, float_format, header, index, length, dtype, name, max_rows, min_rows)\u001b[0m\n\u001b[0;32m   1831\u001b[0m \u001b[38;5;250m\u001b[39m\u001b[38;5;124;03m\"\"\"\u001b[39;00m\n\u001b[0;32m   1832\u001b[0m \u001b[38;5;124;03mRender a string representation of the Series.\u001b[39;00m\n\u001b[0;32m   1833\u001b[0m \n\u001b[1;32m   (...)\u001b[0m\n\u001b[0;32m   1869\u001b[0m \u001b[38;5;124;03m'0    1\\\\n1    2\\\\n2    3'\u001b[39;00m\n\u001b[0;32m   1870\u001b[0m \u001b[38;5;124;03m\"\"\"\u001b[39;00m\n\u001b[0;32m   1871\u001b[0m formatter \u001b[38;5;241m=\u001b[39m fmt\u001b[38;5;241m.\u001b[39mSeriesFormatter(\n\u001b[0;32m   1872\u001b[0m     \u001b[38;5;28mself\u001b[39m,\n\u001b[0;32m   1873\u001b[0m     name\u001b[38;5;241m=\u001b[39mname,\n\u001b[1;32m   (...)\u001b[0m\n\u001b[0;32m   1881\u001b[0m     max_rows\u001b[38;5;241m=\u001b[39mmax_rows,\n\u001b[0;32m   1882\u001b[0m )\n\u001b[1;32m-> 1883\u001b[0m result \u001b[38;5;241m=\u001b[39m formatter\u001b[38;5;241m.\u001b[39mto_string()\n\u001b[0;32m   1885\u001b[0m \u001b[38;5;66;03m# catch contract violations\u001b[39;00m\n\u001b[0;32m   1886\u001b[0m \u001b[38;5;28;01mif\u001b[39;00m \u001b[38;5;129;01mnot\u001b[39;00m \u001b[38;5;28misinstance\u001b[39m(result, \u001b[38;5;28mstr\u001b[39m):\n",
      "File \u001b[1;32mc:\\Users\\kenny\\anaconda3\\Lib\\site-packages\\pandas\\io\\formats\\format.py:320\u001b[0m, in \u001b[0;36mSeriesFormatter.to_string\u001b[1;34m(self)\u001b[0m\n\u001b[0;32m    318\u001b[0m \u001b[38;5;28;01melse\u001b[39;00m:\n\u001b[0;32m    319\u001b[0m     fmt_index \u001b[38;5;241m=\u001b[39m index\u001b[38;5;241m.\u001b[39m_format_flat(include_name\u001b[38;5;241m=\u001b[39m\u001b[38;5;28;01mTrue\u001b[39;00m)\n\u001b[1;32m--> 320\u001b[0m fmt_values \u001b[38;5;241m=\u001b[39m \u001b[38;5;28mself\u001b[39m\u001b[38;5;241m.\u001b[39m_get_formatted_values()\n\u001b[0;32m    322\u001b[0m \u001b[38;5;28;01mif\u001b[39;00m \u001b[38;5;28mself\u001b[39m\u001b[38;5;241m.\u001b[39mis_truncated_vertically:\n\u001b[0;32m    323\u001b[0m     n_header_rows \u001b[38;5;241m=\u001b[39m \u001b[38;5;241m0\u001b[39m\n",
      "File \u001b[1;32mc:\\Users\\kenny\\anaconda3\\Lib\\site-packages\\pandas\\io\\formats\\format.py:297\u001b[0m, in \u001b[0;36mSeriesFormatter._get_formatted_values\u001b[1;34m(self)\u001b[0m\n\u001b[0;32m    296\u001b[0m \u001b[38;5;28;01mdef\u001b[39;00m\u001b[38;5;250m \u001b[39m\u001b[38;5;21m_get_formatted_values\u001b[39m(\u001b[38;5;28mself\u001b[39m) \u001b[38;5;241m-\u001b[39m\u001b[38;5;241m>\u001b[39m \u001b[38;5;28mlist\u001b[39m[\u001b[38;5;28mstr\u001b[39m]:\n\u001b[1;32m--> 297\u001b[0m     \u001b[38;5;28;01mreturn\u001b[39;00m format_array(\n\u001b[0;32m    298\u001b[0m         \u001b[38;5;28mself\u001b[39m\u001b[38;5;241m.\u001b[39mtr_series\u001b[38;5;241m.\u001b[39m_values,\n\u001b[0;32m    299\u001b[0m         \u001b[38;5;28;01mNone\u001b[39;00m,\n\u001b[0;32m    300\u001b[0m         float_format\u001b[38;5;241m=\u001b[39m\u001b[38;5;28mself\u001b[39m\u001b[38;5;241m.\u001b[39mfloat_format,\n\u001b[0;32m    301\u001b[0m         na_rep\u001b[38;5;241m=\u001b[39m\u001b[38;5;28mself\u001b[39m\u001b[38;5;241m.\u001b[39mna_rep,\n\u001b[0;32m    302\u001b[0m         leading_space\u001b[38;5;241m=\u001b[39m\u001b[38;5;28mself\u001b[39m\u001b[38;5;241m.\u001b[39mindex,\n\u001b[0;32m    303\u001b[0m     )\n",
      "File \u001b[1;32mc:\\Users\\kenny\\anaconda3\\Lib\\site-packages\\pandas\\io\\formats\\format.py:1161\u001b[0m, in \u001b[0;36mformat_array\u001b[1;34m(values, formatter, float_format, na_rep, digits, space, justify, decimal, leading_space, quoting, fallback_formatter)\u001b[0m\n\u001b[0;32m   1145\u001b[0m     digits \u001b[38;5;241m=\u001b[39m get_option(\u001b[38;5;124m\"\u001b[39m\u001b[38;5;124mdisplay.precision\u001b[39m\u001b[38;5;124m\"\u001b[39m)\n\u001b[0;32m   1147\u001b[0m fmt_obj \u001b[38;5;241m=\u001b[39m fmt_klass(\n\u001b[0;32m   1148\u001b[0m     values,\n\u001b[0;32m   1149\u001b[0m     digits\u001b[38;5;241m=\u001b[39mdigits,\n\u001b[1;32m   (...)\u001b[0m\n\u001b[0;32m   1158\u001b[0m     fallback_formatter\u001b[38;5;241m=\u001b[39mfallback_formatter,\n\u001b[0;32m   1159\u001b[0m )\n\u001b[1;32m-> 1161\u001b[0m \u001b[38;5;28;01mreturn\u001b[39;00m fmt_obj\u001b[38;5;241m.\u001b[39mget_result()\n",
      "File \u001b[1;32mc:\\Users\\kenny\\anaconda3\\Lib\\site-packages\\pandas\\io\\formats\\format.py:1194\u001b[0m, in \u001b[0;36m_GenericArrayFormatter.get_result\u001b[1;34m(self)\u001b[0m\n\u001b[0;32m   1193\u001b[0m \u001b[38;5;28;01mdef\u001b[39;00m\u001b[38;5;250m \u001b[39m\u001b[38;5;21mget_result\u001b[39m(\u001b[38;5;28mself\u001b[39m) \u001b[38;5;241m-\u001b[39m\u001b[38;5;241m>\u001b[39m \u001b[38;5;28mlist\u001b[39m[\u001b[38;5;28mstr\u001b[39m]:\n\u001b[1;32m-> 1194\u001b[0m     fmt_values \u001b[38;5;241m=\u001b[39m \u001b[38;5;28mself\u001b[39m\u001b[38;5;241m.\u001b[39m_format_strings()\n\u001b[0;32m   1195\u001b[0m     \u001b[38;5;28;01mreturn\u001b[39;00m _make_fixed_width(fmt_values, \u001b[38;5;28mself\u001b[39m\u001b[38;5;241m.\u001b[39mjustify)\n",
      "File \u001b[1;32mc:\\Users\\kenny\\anaconda3\\Lib\\site-packages\\pandas\\io\\formats\\format.py:1259\u001b[0m, in \u001b[0;36m_GenericArrayFormatter._format_strings\u001b[1;34m(self)\u001b[0m\n\u001b[0;32m   1257\u001b[0m \u001b[38;5;28;01mfor\u001b[39;00m i, v \u001b[38;5;129;01min\u001b[39;00m \u001b[38;5;28menumerate\u001b[39m(vals):\n\u001b[0;32m   1258\u001b[0m     \u001b[38;5;28;01mif\u001b[39;00m (\u001b[38;5;129;01mnot\u001b[39;00m is_float_type[i] \u001b[38;5;129;01mor\u001b[39;00m \u001b[38;5;28mself\u001b[39m\u001b[38;5;241m.\u001b[39mformatter \u001b[38;5;129;01mis\u001b[39;00m \u001b[38;5;129;01mnot\u001b[39;00m \u001b[38;5;28;01mNone\u001b[39;00m) \u001b[38;5;129;01mand\u001b[39;00m leading_space:\n\u001b[1;32m-> 1259\u001b[0m         fmt_values\u001b[38;5;241m.\u001b[39mappend(\u001b[38;5;124mf\u001b[39m\u001b[38;5;124m\"\u001b[39m\u001b[38;5;124m \u001b[39m\u001b[38;5;132;01m{\u001b[39;00m_format(v)\u001b[38;5;132;01m}\u001b[39;00m\u001b[38;5;124m\"\u001b[39m)\n\u001b[0;32m   1260\u001b[0m     \u001b[38;5;28;01melif\u001b[39;00m is_float_type[i]:\n\u001b[0;32m   1261\u001b[0m         fmt_values\u001b[38;5;241m.\u001b[39mappend(float_format(v))\n",
      "File \u001b[1;32mc:\\Users\\kenny\\anaconda3\\Lib\\site-packages\\pandas\\io\\formats\\format.py:1239\u001b[0m, in \u001b[0;36m_GenericArrayFormatter._format_strings.<locals>._format\u001b[1;34m(x)\u001b[0m\n\u001b[0;32m   1236\u001b[0m     \u001b[38;5;28;01mreturn\u001b[39;00m \u001b[38;5;28mrepr\u001b[39m(x)\n\u001b[0;32m   1237\u001b[0m \u001b[38;5;28;01melse\u001b[39;00m:\n\u001b[0;32m   1238\u001b[0m     \u001b[38;5;66;03m# object dtype\u001b[39;00m\n\u001b[1;32m-> 1239\u001b[0m     \u001b[38;5;28;01mreturn\u001b[39;00m \u001b[38;5;28mstr\u001b[39m(formatter(x))\n",
      "File \u001b[1;32mc:\\Users\\kenny\\anaconda3\\Lib\\site-packages\\pandas\\io\\formats\\printing.py:233\u001b[0m, in \u001b[0;36mpprint_thing\u001b[1;34m(thing, _nest_lvl, escape_chars, default_escapes, quote_strings, max_seq_items)\u001b[0m\n\u001b[0;32m    231\u001b[0m     result \u001b[38;5;241m=\u001b[39m \u001b[38;5;124mf\u001b[39m\u001b[38;5;124m\"\u001b[39m\u001b[38;5;124m'\u001b[39m\u001b[38;5;132;01m{\u001b[39;00mas_escaped_string(thing)\u001b[38;5;132;01m}\u001b[39;00m\u001b[38;5;124m'\u001b[39m\u001b[38;5;124m\"\u001b[39m\n\u001b[0;32m    232\u001b[0m \u001b[38;5;28;01melse\u001b[39;00m:\n\u001b[1;32m--> 233\u001b[0m     result \u001b[38;5;241m=\u001b[39m as_escaped_string(thing)\n\u001b[0;32m    235\u001b[0m \u001b[38;5;28;01mreturn\u001b[39;00m result\n",
      "File \u001b[1;32mc:\\Users\\kenny\\anaconda3\\Lib\\site-packages\\pandas\\io\\formats\\printing.py:209\u001b[0m, in \u001b[0;36mpprint_thing.<locals>.as_escaped_string\u001b[1;34m(thing, escape_chars)\u001b[0m\n\u001b[0;32m    206\u001b[0m \u001b[38;5;28;01melse\u001b[39;00m:\n\u001b[0;32m    207\u001b[0m     escape_chars \u001b[38;5;241m=\u001b[39m escape_chars \u001b[38;5;129;01mor\u001b[39;00m ()\n\u001b[1;32m--> 209\u001b[0m result \u001b[38;5;241m=\u001b[39m \u001b[38;5;28mstr\u001b[39m(thing)\n\u001b[0;32m    210\u001b[0m \u001b[38;5;28;01mfor\u001b[39;00m c \u001b[38;5;129;01min\u001b[39;00m escape_chars:\n\u001b[0;32m    211\u001b[0m     result \u001b[38;5;241m=\u001b[39m result\u001b[38;5;241m.\u001b[39mreplace(c, translate[c])\n",
      "File \u001b[1;32mc:\\Users\\kenny\\anaconda3\\Lib\\site-packages\\pandas\\core\\series.py:1784\u001b[0m, in \u001b[0;36mSeries.__repr__\u001b[1;34m(self)\u001b[0m\n\u001b[0;32m   1782\u001b[0m \u001b[38;5;66;03m# pylint: disable=invalid-repr-returned\u001b[39;00m\n\u001b[0;32m   1783\u001b[0m repr_params \u001b[38;5;241m=\u001b[39m fmt\u001b[38;5;241m.\u001b[39mget_series_repr_params()\n\u001b[1;32m-> 1784\u001b[0m \u001b[38;5;28;01mreturn\u001b[39;00m \u001b[38;5;28mself\u001b[39m\u001b[38;5;241m.\u001b[39mto_string(\u001b[38;5;241m*\u001b[39m\u001b[38;5;241m*\u001b[39mrepr_params)\n",
      "File \u001b[1;32mc:\\Users\\kenny\\anaconda3\\Lib\\site-packages\\pandas\\core\\series.py:1883\u001b[0m, in \u001b[0;36mSeries.to_string\u001b[1;34m(self, buf, na_rep, float_format, header, index, length, dtype, name, max_rows, min_rows)\u001b[0m\n\u001b[0;32m   1831\u001b[0m \u001b[38;5;250m\u001b[39m\u001b[38;5;124;03m\"\"\"\u001b[39;00m\n\u001b[0;32m   1832\u001b[0m \u001b[38;5;124;03mRender a string representation of the Series.\u001b[39;00m\n\u001b[0;32m   1833\u001b[0m \n\u001b[1;32m   (...)\u001b[0m\n\u001b[0;32m   1869\u001b[0m \u001b[38;5;124;03m'0    1\\\\n1    2\\\\n2    3'\u001b[39;00m\n\u001b[0;32m   1870\u001b[0m \u001b[38;5;124;03m\"\"\"\u001b[39;00m\n\u001b[0;32m   1871\u001b[0m formatter \u001b[38;5;241m=\u001b[39m fmt\u001b[38;5;241m.\u001b[39mSeriesFormatter(\n\u001b[0;32m   1872\u001b[0m     \u001b[38;5;28mself\u001b[39m,\n\u001b[0;32m   1873\u001b[0m     name\u001b[38;5;241m=\u001b[39mname,\n\u001b[1;32m   (...)\u001b[0m\n\u001b[0;32m   1881\u001b[0m     max_rows\u001b[38;5;241m=\u001b[39mmax_rows,\n\u001b[0;32m   1882\u001b[0m )\n\u001b[1;32m-> 1883\u001b[0m result \u001b[38;5;241m=\u001b[39m formatter\u001b[38;5;241m.\u001b[39mto_string()\n\u001b[0;32m   1885\u001b[0m \u001b[38;5;66;03m# catch contract violations\u001b[39;00m\n\u001b[0;32m   1886\u001b[0m \u001b[38;5;28;01mif\u001b[39;00m \u001b[38;5;129;01mnot\u001b[39;00m \u001b[38;5;28misinstance\u001b[39m(result, \u001b[38;5;28mstr\u001b[39m):\n",
      "File \u001b[1;32mc:\\Users\\kenny\\anaconda3\\Lib\\site-packages\\pandas\\io\\formats\\format.py:320\u001b[0m, in \u001b[0;36mSeriesFormatter.to_string\u001b[1;34m(self)\u001b[0m\n\u001b[0;32m    318\u001b[0m \u001b[38;5;28;01melse\u001b[39;00m:\n\u001b[0;32m    319\u001b[0m     fmt_index \u001b[38;5;241m=\u001b[39m index\u001b[38;5;241m.\u001b[39m_format_flat(include_name\u001b[38;5;241m=\u001b[39m\u001b[38;5;28;01mTrue\u001b[39;00m)\n\u001b[1;32m--> 320\u001b[0m fmt_values \u001b[38;5;241m=\u001b[39m \u001b[38;5;28mself\u001b[39m\u001b[38;5;241m.\u001b[39m_get_formatted_values()\n\u001b[0;32m    322\u001b[0m \u001b[38;5;28;01mif\u001b[39;00m \u001b[38;5;28mself\u001b[39m\u001b[38;5;241m.\u001b[39mis_truncated_vertically:\n\u001b[0;32m    323\u001b[0m     n_header_rows \u001b[38;5;241m=\u001b[39m \u001b[38;5;241m0\u001b[39m\n",
      "File \u001b[1;32mc:\\Users\\kenny\\anaconda3\\Lib\\site-packages\\pandas\\io\\formats\\format.py:297\u001b[0m, in \u001b[0;36mSeriesFormatter._get_formatted_values\u001b[1;34m(self)\u001b[0m\n\u001b[0;32m    296\u001b[0m \u001b[38;5;28;01mdef\u001b[39;00m\u001b[38;5;250m \u001b[39m\u001b[38;5;21m_get_formatted_values\u001b[39m(\u001b[38;5;28mself\u001b[39m) \u001b[38;5;241m-\u001b[39m\u001b[38;5;241m>\u001b[39m \u001b[38;5;28mlist\u001b[39m[\u001b[38;5;28mstr\u001b[39m]:\n\u001b[1;32m--> 297\u001b[0m     \u001b[38;5;28;01mreturn\u001b[39;00m format_array(\n\u001b[0;32m    298\u001b[0m         \u001b[38;5;28mself\u001b[39m\u001b[38;5;241m.\u001b[39mtr_series\u001b[38;5;241m.\u001b[39m_values,\n\u001b[0;32m    299\u001b[0m         \u001b[38;5;28;01mNone\u001b[39;00m,\n\u001b[0;32m    300\u001b[0m         float_format\u001b[38;5;241m=\u001b[39m\u001b[38;5;28mself\u001b[39m\u001b[38;5;241m.\u001b[39mfloat_format,\n\u001b[0;32m    301\u001b[0m         na_rep\u001b[38;5;241m=\u001b[39m\u001b[38;5;28mself\u001b[39m\u001b[38;5;241m.\u001b[39mna_rep,\n\u001b[0;32m    302\u001b[0m         leading_space\u001b[38;5;241m=\u001b[39m\u001b[38;5;28mself\u001b[39m\u001b[38;5;241m.\u001b[39mindex,\n\u001b[0;32m    303\u001b[0m     )\n",
      "    \u001b[1;31m[... skipping similar frames: format_array at line 1161 (294 times), _GenericArrayFormatter.get_result at line 1194 (294 times), Series.__repr__ at line 1784 (293 times), _GenericArrayFormatter._format_strings.<locals>._format at line 1239 (293 times), _GenericArrayFormatter._format_strings at line 1259 (293 times), SeriesFormatter._get_formatted_values at line 297 (293 times), pprint_thing.<locals>.as_escaped_string at line 209 (293 times), pprint_thing at line 233 (293 times), Series.to_string at line 1883 (293 times), SeriesFormatter.to_string at line 320 (293 times)]\u001b[0m\n",
      "File \u001b[1;32mc:\\Users\\kenny\\anaconda3\\Lib\\site-packages\\pandas\\io\\formats\\format.py:1259\u001b[0m, in \u001b[0;36m_GenericArrayFormatter._format_strings\u001b[1;34m(self)\u001b[0m\n\u001b[0;32m   1257\u001b[0m \u001b[38;5;28;01mfor\u001b[39;00m i, v \u001b[38;5;129;01min\u001b[39;00m \u001b[38;5;28menumerate\u001b[39m(vals):\n\u001b[0;32m   1258\u001b[0m     \u001b[38;5;28;01mif\u001b[39;00m (\u001b[38;5;129;01mnot\u001b[39;00m is_float_type[i] \u001b[38;5;129;01mor\u001b[39;00m \u001b[38;5;28mself\u001b[39m\u001b[38;5;241m.\u001b[39mformatter \u001b[38;5;129;01mis\u001b[39;00m \u001b[38;5;129;01mnot\u001b[39;00m \u001b[38;5;28;01mNone\u001b[39;00m) \u001b[38;5;129;01mand\u001b[39;00m leading_space:\n\u001b[1;32m-> 1259\u001b[0m         fmt_values\u001b[38;5;241m.\u001b[39mappend(\u001b[38;5;124mf\u001b[39m\u001b[38;5;124m\"\u001b[39m\u001b[38;5;124m \u001b[39m\u001b[38;5;132;01m{\u001b[39;00m_format(v)\u001b[38;5;132;01m}\u001b[39;00m\u001b[38;5;124m\"\u001b[39m)\n\u001b[0;32m   1260\u001b[0m     \u001b[38;5;28;01melif\u001b[39;00m is_float_type[i]:\n\u001b[0;32m   1261\u001b[0m         fmt_values\u001b[38;5;241m.\u001b[39mappend(float_format(v))\n",
      "File \u001b[1;32mc:\\Users\\kenny\\anaconda3\\Lib\\site-packages\\pandas\\io\\formats\\format.py:1239\u001b[0m, in \u001b[0;36m_GenericArrayFormatter._format_strings.<locals>._format\u001b[1;34m(x)\u001b[0m\n\u001b[0;32m   1236\u001b[0m     \u001b[38;5;28;01mreturn\u001b[39;00m \u001b[38;5;28mrepr\u001b[39m(x)\n\u001b[0;32m   1237\u001b[0m \u001b[38;5;28;01melse\u001b[39;00m:\n\u001b[0;32m   1238\u001b[0m     \u001b[38;5;66;03m# object dtype\u001b[39;00m\n\u001b[1;32m-> 1239\u001b[0m     \u001b[38;5;28;01mreturn\u001b[39;00m \u001b[38;5;28mstr\u001b[39m(formatter(x))\n",
      "File \u001b[1;32mc:\\Users\\kenny\\anaconda3\\Lib\\site-packages\\pandas\\io\\formats\\printing.py:233\u001b[0m, in \u001b[0;36mpprint_thing\u001b[1;34m(thing, _nest_lvl, escape_chars, default_escapes, quote_strings, max_seq_items)\u001b[0m\n\u001b[0;32m    231\u001b[0m     result \u001b[38;5;241m=\u001b[39m \u001b[38;5;124mf\u001b[39m\u001b[38;5;124m\"\u001b[39m\u001b[38;5;124m'\u001b[39m\u001b[38;5;132;01m{\u001b[39;00mas_escaped_string(thing)\u001b[38;5;132;01m}\u001b[39;00m\u001b[38;5;124m'\u001b[39m\u001b[38;5;124m\"\u001b[39m\n\u001b[0;32m    232\u001b[0m \u001b[38;5;28;01melse\u001b[39;00m:\n\u001b[1;32m--> 233\u001b[0m     result \u001b[38;5;241m=\u001b[39m as_escaped_string(thing)\n\u001b[0;32m    235\u001b[0m \u001b[38;5;28;01mreturn\u001b[39;00m result\n",
      "File \u001b[1;32mc:\\Users\\kenny\\anaconda3\\Lib\\site-packages\\pandas\\io\\formats\\printing.py:209\u001b[0m, in \u001b[0;36mpprint_thing.<locals>.as_escaped_string\u001b[1;34m(thing, escape_chars)\u001b[0m\n\u001b[0;32m    206\u001b[0m \u001b[38;5;28;01melse\u001b[39;00m:\n\u001b[0;32m    207\u001b[0m     escape_chars \u001b[38;5;241m=\u001b[39m escape_chars \u001b[38;5;129;01mor\u001b[39;00m ()\n\u001b[1;32m--> 209\u001b[0m result \u001b[38;5;241m=\u001b[39m \u001b[38;5;28mstr\u001b[39m(thing)\n\u001b[0;32m    210\u001b[0m \u001b[38;5;28;01mfor\u001b[39;00m c \u001b[38;5;129;01min\u001b[39;00m escape_chars:\n\u001b[0;32m    211\u001b[0m     result \u001b[38;5;241m=\u001b[39m result\u001b[38;5;241m.\u001b[39mreplace(c, translate[c])\n",
      "File \u001b[1;32mc:\\Users\\kenny\\anaconda3\\Lib\\site-packages\\pandas\\core\\series.py:1784\u001b[0m, in \u001b[0;36mSeries.__repr__\u001b[1;34m(self)\u001b[0m\n\u001b[0;32m   1782\u001b[0m \u001b[38;5;66;03m# pylint: disable=invalid-repr-returned\u001b[39;00m\n\u001b[0;32m   1783\u001b[0m repr_params \u001b[38;5;241m=\u001b[39m fmt\u001b[38;5;241m.\u001b[39mget_series_repr_params()\n\u001b[1;32m-> 1784\u001b[0m \u001b[38;5;28;01mreturn\u001b[39;00m \u001b[38;5;28mself\u001b[39m\u001b[38;5;241m.\u001b[39mto_string(\u001b[38;5;241m*\u001b[39m\u001b[38;5;241m*\u001b[39mrepr_params)\n",
      "File \u001b[1;32mc:\\Users\\kenny\\anaconda3\\Lib\\site-packages\\pandas\\core\\series.py:1883\u001b[0m, in \u001b[0;36mSeries.to_string\u001b[1;34m(self, buf, na_rep, float_format, header, index, length, dtype, name, max_rows, min_rows)\u001b[0m\n\u001b[0;32m   1831\u001b[0m \u001b[38;5;250m\u001b[39m\u001b[38;5;124;03m\"\"\"\u001b[39;00m\n\u001b[0;32m   1832\u001b[0m \u001b[38;5;124;03mRender a string representation of the Series.\u001b[39;00m\n\u001b[0;32m   1833\u001b[0m \n\u001b[1;32m   (...)\u001b[0m\n\u001b[0;32m   1869\u001b[0m \u001b[38;5;124;03m'0    1\\\\n1    2\\\\n2    3'\u001b[39;00m\n\u001b[0;32m   1870\u001b[0m \u001b[38;5;124;03m\"\"\"\u001b[39;00m\n\u001b[0;32m   1871\u001b[0m formatter \u001b[38;5;241m=\u001b[39m fmt\u001b[38;5;241m.\u001b[39mSeriesFormatter(\n\u001b[0;32m   1872\u001b[0m     \u001b[38;5;28mself\u001b[39m,\n\u001b[0;32m   1873\u001b[0m     name\u001b[38;5;241m=\u001b[39mname,\n\u001b[1;32m   (...)\u001b[0m\n\u001b[0;32m   1881\u001b[0m     max_rows\u001b[38;5;241m=\u001b[39mmax_rows,\n\u001b[0;32m   1882\u001b[0m )\n\u001b[1;32m-> 1883\u001b[0m result \u001b[38;5;241m=\u001b[39m formatter\u001b[38;5;241m.\u001b[39mto_string()\n\u001b[0;32m   1885\u001b[0m \u001b[38;5;66;03m# catch contract violations\u001b[39;00m\n\u001b[0;32m   1886\u001b[0m \u001b[38;5;28;01mif\u001b[39;00m \u001b[38;5;129;01mnot\u001b[39;00m \u001b[38;5;28misinstance\u001b[39m(result, \u001b[38;5;28mstr\u001b[39m):\n",
      "File \u001b[1;32mc:\\Users\\kenny\\anaconda3\\Lib\\site-packages\\pandas\\io\\formats\\format.py:320\u001b[0m, in \u001b[0;36mSeriesFormatter.to_string\u001b[1;34m(self)\u001b[0m\n\u001b[0;32m    318\u001b[0m \u001b[38;5;28;01melse\u001b[39;00m:\n\u001b[0;32m    319\u001b[0m     fmt_index \u001b[38;5;241m=\u001b[39m index\u001b[38;5;241m.\u001b[39m_format_flat(include_name\u001b[38;5;241m=\u001b[39m\u001b[38;5;28;01mTrue\u001b[39;00m)\n\u001b[1;32m--> 320\u001b[0m fmt_values \u001b[38;5;241m=\u001b[39m \u001b[38;5;28mself\u001b[39m\u001b[38;5;241m.\u001b[39m_get_formatted_values()\n\u001b[0;32m    322\u001b[0m \u001b[38;5;28;01mif\u001b[39;00m \u001b[38;5;28mself\u001b[39m\u001b[38;5;241m.\u001b[39mis_truncated_vertically:\n\u001b[0;32m    323\u001b[0m     n_header_rows \u001b[38;5;241m=\u001b[39m \u001b[38;5;241m0\u001b[39m\n",
      "File \u001b[1;32mc:\\Users\\kenny\\anaconda3\\Lib\\site-packages\\pandas\\io\\formats\\format.py:297\u001b[0m, in \u001b[0;36mSeriesFormatter._get_formatted_values\u001b[1;34m(self)\u001b[0m\n\u001b[0;32m    296\u001b[0m \u001b[38;5;28;01mdef\u001b[39;00m\u001b[38;5;250m \u001b[39m\u001b[38;5;21m_get_formatted_values\u001b[39m(\u001b[38;5;28mself\u001b[39m) \u001b[38;5;241m-\u001b[39m\u001b[38;5;241m>\u001b[39m \u001b[38;5;28mlist\u001b[39m[\u001b[38;5;28mstr\u001b[39m]:\n\u001b[1;32m--> 297\u001b[0m     \u001b[38;5;28;01mreturn\u001b[39;00m format_array(\n\u001b[0;32m    298\u001b[0m         \u001b[38;5;28mself\u001b[39m\u001b[38;5;241m.\u001b[39mtr_series\u001b[38;5;241m.\u001b[39m_values,\n\u001b[0;32m    299\u001b[0m         \u001b[38;5;28;01mNone\u001b[39;00m,\n\u001b[0;32m    300\u001b[0m         float_format\u001b[38;5;241m=\u001b[39m\u001b[38;5;28mself\u001b[39m\u001b[38;5;241m.\u001b[39mfloat_format,\n\u001b[0;32m    301\u001b[0m         na_rep\u001b[38;5;241m=\u001b[39m\u001b[38;5;28mself\u001b[39m\u001b[38;5;241m.\u001b[39mna_rep,\n\u001b[0;32m    302\u001b[0m         leading_space\u001b[38;5;241m=\u001b[39m\u001b[38;5;28mself\u001b[39m\u001b[38;5;241m.\u001b[39mindex,\n\u001b[0;32m    303\u001b[0m     )\n",
      "File \u001b[1;32mc:\\Users\\kenny\\anaconda3\\Lib\\site-packages\\pandas\\io\\formats\\format.py:1161\u001b[0m, in \u001b[0;36mformat_array\u001b[1;34m(values, formatter, float_format, na_rep, digits, space, justify, decimal, leading_space, quoting, fallback_formatter)\u001b[0m\n\u001b[0;32m   1145\u001b[0m     digits \u001b[38;5;241m=\u001b[39m get_option(\u001b[38;5;124m\"\u001b[39m\u001b[38;5;124mdisplay.precision\u001b[39m\u001b[38;5;124m\"\u001b[39m)\n\u001b[0;32m   1147\u001b[0m fmt_obj \u001b[38;5;241m=\u001b[39m fmt_klass(\n\u001b[0;32m   1148\u001b[0m     values,\n\u001b[0;32m   1149\u001b[0m     digits\u001b[38;5;241m=\u001b[39mdigits,\n\u001b[1;32m   (...)\u001b[0m\n\u001b[0;32m   1158\u001b[0m     fallback_formatter\u001b[38;5;241m=\u001b[39mfallback_formatter,\n\u001b[0;32m   1159\u001b[0m )\n\u001b[1;32m-> 1161\u001b[0m \u001b[38;5;28;01mreturn\u001b[39;00m fmt_obj\u001b[38;5;241m.\u001b[39mget_result()\n",
      "File \u001b[1;32mc:\\Users\\kenny\\anaconda3\\Lib\\site-packages\\pandas\\io\\formats\\format.py:1194\u001b[0m, in \u001b[0;36m_GenericArrayFormatter.get_result\u001b[1;34m(self)\u001b[0m\n\u001b[0;32m   1193\u001b[0m \u001b[38;5;28;01mdef\u001b[39;00m\u001b[38;5;250m \u001b[39m\u001b[38;5;21mget_result\u001b[39m(\u001b[38;5;28mself\u001b[39m) \u001b[38;5;241m-\u001b[39m\u001b[38;5;241m>\u001b[39m \u001b[38;5;28mlist\u001b[39m[\u001b[38;5;28mstr\u001b[39m]:\n\u001b[1;32m-> 1194\u001b[0m     fmt_values \u001b[38;5;241m=\u001b[39m \u001b[38;5;28mself\u001b[39m\u001b[38;5;241m.\u001b[39m_format_strings()\n\u001b[0;32m   1195\u001b[0m     \u001b[38;5;28;01mreturn\u001b[39;00m _make_fixed_width(fmt_values, \u001b[38;5;28mself\u001b[39m\u001b[38;5;241m.\u001b[39mjustify)\n",
      "File \u001b[1;32mc:\\Users\\kenny\\anaconda3\\Lib\\site-packages\\pandas\\io\\formats\\format.py:1199\u001b[0m, in \u001b[0;36m_GenericArrayFormatter._format_strings\u001b[1;34m(self)\u001b[0m\n\u001b[0;32m   1197\u001b[0m \u001b[38;5;28;01mdef\u001b[39;00m\u001b[38;5;250m \u001b[39m\u001b[38;5;21m_format_strings\u001b[39m(\u001b[38;5;28mself\u001b[39m) \u001b[38;5;241m-\u001b[39m\u001b[38;5;241m>\u001b[39m \u001b[38;5;28mlist\u001b[39m[\u001b[38;5;28mstr\u001b[39m]:\n\u001b[0;32m   1198\u001b[0m     \u001b[38;5;28;01mif\u001b[39;00m \u001b[38;5;28mself\u001b[39m\u001b[38;5;241m.\u001b[39mfloat_format \u001b[38;5;129;01mis\u001b[39;00m \u001b[38;5;28;01mNone\u001b[39;00m:\n\u001b[1;32m-> 1199\u001b[0m         float_format \u001b[38;5;241m=\u001b[39m get_option(\u001b[38;5;124m\"\u001b[39m\u001b[38;5;124mdisplay.float_format\u001b[39m\u001b[38;5;124m\"\u001b[39m)\n\u001b[0;32m   1200\u001b[0m         \u001b[38;5;28;01mif\u001b[39;00m float_format \u001b[38;5;129;01mis\u001b[39;00m \u001b[38;5;28;01mNone\u001b[39;00m:\n\u001b[0;32m   1201\u001b[0m             precision \u001b[38;5;241m=\u001b[39m get_option(\u001b[38;5;124m\"\u001b[39m\u001b[38;5;124mdisplay.precision\u001b[39m\u001b[38;5;124m\"\u001b[39m)\n",
      "File \u001b[1;32mc:\\Users\\kenny\\anaconda3\\Lib\\site-packages\\pandas\\_config\\config.py:274\u001b[0m, in \u001b[0;36mCallableDynamicDoc.__call__\u001b[1;34m(self, *args, **kwds)\u001b[0m\n\u001b[0;32m    273\u001b[0m \u001b[38;5;28;01mdef\u001b[39;00m\u001b[38;5;250m \u001b[39m\u001b[38;5;21m__call__\u001b[39m(\u001b[38;5;28mself\u001b[39m, \u001b[38;5;241m*\u001b[39margs, \u001b[38;5;241m*\u001b[39m\u001b[38;5;241m*\u001b[39mkwds) \u001b[38;5;241m-\u001b[39m\u001b[38;5;241m>\u001b[39m T:\n\u001b[1;32m--> 274\u001b[0m     \u001b[38;5;28;01mreturn\u001b[39;00m \u001b[38;5;28mself\u001b[39m\u001b[38;5;241m.\u001b[39m\u001b[38;5;18m__func__\u001b[39m(\u001b[38;5;241m*\u001b[39margs, \u001b[38;5;241m*\u001b[39m\u001b[38;5;241m*\u001b[39mkwds)\n",
      "File \u001b[1;32mc:\\Users\\kenny\\anaconda3\\Lib\\site-packages\\pandas\\_config\\config.py:146\u001b[0m, in \u001b[0;36m_get_option\u001b[1;34m(pat, silent)\u001b[0m\n\u001b[0;32m    145\u001b[0m \u001b[38;5;28;01mdef\u001b[39;00m\u001b[38;5;250m \u001b[39m\u001b[38;5;21m_get_option\u001b[39m(pat: \u001b[38;5;28mstr\u001b[39m, silent: \u001b[38;5;28mbool\u001b[39m \u001b[38;5;241m=\u001b[39m \u001b[38;5;28;01mFalse\u001b[39;00m) \u001b[38;5;241m-\u001b[39m\u001b[38;5;241m>\u001b[39m Any:\n\u001b[1;32m--> 146\u001b[0m     key \u001b[38;5;241m=\u001b[39m _get_single_key(pat, silent)\n\u001b[0;32m    148\u001b[0m     \u001b[38;5;66;03m# walk the nested dict\u001b[39;00m\n\u001b[0;32m    149\u001b[0m     root, k \u001b[38;5;241m=\u001b[39m _get_root(key)\n",
      "File \u001b[1;32mc:\\Users\\kenny\\anaconda3\\Lib\\site-packages\\pandas\\_config\\config.py:138\u001b[0m, in \u001b[0;36m_get_single_key\u001b[1;34m(pat, silent)\u001b[0m\n\u001b[0;32m    135\u001b[0m key \u001b[38;5;241m=\u001b[39m keys[\u001b[38;5;241m0\u001b[39m]\n\u001b[0;32m    137\u001b[0m \u001b[38;5;28;01mif\u001b[39;00m \u001b[38;5;129;01mnot\u001b[39;00m silent:\n\u001b[1;32m--> 138\u001b[0m     _warn_if_deprecated(key)\n\u001b[0;32m    140\u001b[0m key \u001b[38;5;241m=\u001b[39m _translate_key(key)\n\u001b[0;32m    142\u001b[0m \u001b[38;5;28;01mreturn\u001b[39;00m key\n",
      "File \u001b[1;32mc:\\Users\\kenny\\anaconda3\\Lib\\site-packages\\pandas\\_config\\config.py:696\u001b[0m, in \u001b[0;36m_warn_if_deprecated\u001b[1;34m(key)\u001b[0m\n\u001b[0;32m    688\u001b[0m \u001b[38;5;28;01mdef\u001b[39;00m\u001b[38;5;250m \u001b[39m\u001b[38;5;21m_warn_if_deprecated\u001b[39m(key: \u001b[38;5;28mstr\u001b[39m) \u001b[38;5;241m-\u001b[39m\u001b[38;5;241m>\u001b[39m \u001b[38;5;28mbool\u001b[39m:\n\u001b[0;32m    689\u001b[0m \u001b[38;5;250m    \u001b[39m\u001b[38;5;124;03m\"\"\"\u001b[39;00m\n\u001b[0;32m    690\u001b[0m \u001b[38;5;124;03m    Checks if `key` is a deprecated option and if so, prints a warning.\u001b[39;00m\n\u001b[0;32m    691\u001b[0m \n\u001b[1;32m   (...)\u001b[0m\n\u001b[0;32m    694\u001b[0m \u001b[38;5;124;03m    bool - True if `key` is deprecated, False otherwise.\u001b[39;00m\n\u001b[0;32m    695\u001b[0m \u001b[38;5;124;03m    \"\"\"\u001b[39;00m\n\u001b[1;32m--> 696\u001b[0m     d \u001b[38;5;241m=\u001b[39m _get_deprecated_option(key)\n\u001b[0;32m    697\u001b[0m     \u001b[38;5;28;01mif\u001b[39;00m d:\n\u001b[0;32m    698\u001b[0m         \u001b[38;5;28;01mif\u001b[39;00m d\u001b[38;5;241m.\u001b[39mmsg:\n",
      "\u001b[1;31mRecursionError\u001b[0m: maximum recursion depth exceeded"
     ]
    }
   ],
   "source": [
    "##Manejo de valores faltantes\n",
    "df_missing=df.copy()\n",
    "df_missing.loc[3,\"precio\"]=np.nan\n",
    "print(\"antes manejar valores faltantes: \\n\",df_missing)\n",
    "\n",
    "df_missing[\"precio\"].fillna(df_missing[\"precio\"].mean,inplace=True)\n",
    "print(\"Despues de manejar valores faltantes: \\n\",df_missing)\n",
    "\n",
    "\n",
    "###########---------Metodos para aprender\n",
    "##filna.\n",
    "##dropna\n",
    "##df.isna().sum()\n"
   ]
  },
  {
   "cell_type": "code",
   "execution_count": null,
   "id": "0a24727d",
   "metadata": {},
   "outputs": [],
   "source": [
    "#Merge y join\n",
    "\n",
    "df2=pd.DataFrame"
   ]
  },
  {
   "cell_type": "code",
   "execution_count": null,
   "id": "856b911c",
   "metadata": {},
   "outputs": [
    {
     "ename": "NameError",
     "evalue": "name 'df' is not defined",
     "output_type": "error",
     "traceback": [
      "\u001b[1;31m---------------------------------------------------------------------------\u001b[0m",
      "\u001b[1;31mNameError\u001b[0m                                 Traceback (most recent call last)",
      "Cell \u001b[1;32mIn[2], line 2\u001b[0m\n\u001b[0;32m      1\u001b[0m \u001b[38;5;66;03m# Exploración básica\u001b[39;00m\n\u001b[1;32m----> 2\u001b[0m df\u001b[38;5;241m.\u001b[39mdescribe()\n\u001b[0;32m      3\u001b[0m df\u001b[38;5;241m.\u001b[39minfo()\n",
      "\u001b[1;31mNameError\u001b[0m: name 'df' is not defined"
     ]
    }
   ],
   "source": [
    "\n",
    "# Exploración básica\n",
    "df.describe()\n",
    "df.info()"
   ]
  },
  {
   "cell_type": "code",
   "execution_count": null,
   "id": "e2fff2ce",
   "metadata": {},
   "outputs": [],
   "source": []
  },
  {
   "cell_type": "code",
   "execution_count": null,
   "id": "c8125d22",
   "metadata": {},
   "outputs": [
    {
     "data": {
      "text/html": [
       "<div>\n",
       "<style scoped>\n",
       "    .dataframe tbody tr th:only-of-type {\n",
       "        vertical-align: middle;\n",
       "    }\n",
       "\n",
       "    .dataframe tbody tr th {\n",
       "        vertical-align: top;\n",
       "    }\n",
       "\n",
       "    .dataframe thead th {\n",
       "        text-align: right;\n",
       "    }\n",
       "</style>\n",
       "<table border=\"1\" class=\"dataframe\">\n",
       "  <thead>\n",
       "    <tr style=\"text-align: right;\">\n",
       "      <th></th>\n",
       "      <th>fecha</th>\n",
       "      <th>categoria</th>\n",
       "      <th>producto</th>\n",
       "      <th>precio</th>\n",
       "      <th>cantidad</th>\n",
       "      <th>total</th>\n",
       "    </tr>\n",
       "  </thead>\n",
       "  <tbody>\n",
       "    <tr>\n",
       "      <th>4</th>\n",
       "      <td>2024-05-31</td>\n",
       "      <td>B</td>\n",
       "      <td>P2</td>\n",
       "      <td>10</td>\n",
       "      <td>8</td>\n",
       "      <td>80</td>\n",
       "    </tr>\n",
       "    <tr>\n",
       "      <th>7</th>\n",
       "      <td>2024-08-31</td>\n",
       "      <td>B</td>\n",
       "      <td>P2</td>\n",
       "      <td>14</td>\n",
       "      <td>5</td>\n",
       "      <td>70</td>\n",
       "    </tr>\n",
       "    <tr>\n",
       "      <th>8</th>\n",
       "      <td>2024-09-30</td>\n",
       "      <td>C</td>\n",
       "      <td>P3</td>\n",
       "      <td>9</td>\n",
       "      <td>7</td>\n",
       "      <td>63</td>\n",
       "    </tr>\n",
       "  </tbody>\n",
       "</table>\n",
       "</div>"
      ],
      "text/plain": [
       "       fecha categoria producto  precio  cantidad  total\n",
       "4 2024-05-31         B       P2      10         8     80\n",
       "7 2024-08-31         B       P2      14         5     70\n",
       "8 2024-09-30         C       P3       9         7     63"
      ]
     },
     "metadata": {},
     "output_type": "display_data"
    },
    {
     "data": {
      "text/html": [
       "<div>\n",
       "<style scoped>\n",
       "    .dataframe tbody tr th:only-of-type {\n",
       "        vertical-align: middle;\n",
       "    }\n",
       "\n",
       "    .dataframe tbody tr th {\n",
       "        vertical-align: top;\n",
       "    }\n",
       "\n",
       "    .dataframe thead th {\n",
       "        text-align: right;\n",
       "    }\n",
       "</style>\n",
       "<table border=\"1\" class=\"dataframe\">\n",
       "  <thead>\n",
       "    <tr style=\"text-align: right;\">\n",
       "      <th></th>\n",
       "      <th>categoria</th>\n",
       "      <th>ventas_totales</th>\n",
       "      <th>cantidad_total</th>\n",
       "      <th>precio_promedio</th>\n",
       "    </tr>\n",
       "  </thead>\n",
       "  <tbody>\n",
       "    <tr>\n",
       "      <th>0</th>\n",
       "      <td>A</td>\n",
       "      <td>159</td>\n",
       "      <td>14</td>\n",
       "      <td>11.5</td>\n",
       "    </tr>\n",
       "    <tr>\n",
       "      <th>1</th>\n",
       "      <td>B</td>\n",
       "      <td>210</td>\n",
       "      <td>18</td>\n",
       "      <td>12.0</td>\n",
       "    </tr>\n",
       "    <tr>\n",
       "      <th>2</th>\n",
       "      <td>C</td>\n",
       "      <td>185</td>\n",
       "      <td>20</td>\n",
       "      <td>9.0</td>\n",
       "    </tr>\n",
       "  </tbody>\n",
       "</table>\n",
       "</div>"
      ],
      "text/plain": [
       "  categoria  ventas_totales  cantidad_total  precio_promedio\n",
       "0         A             159              14             11.5\n",
       "1         B             210              18             12.0\n",
       "2         C             185              20              9.0"
      ]
     },
     "metadata": {},
     "output_type": "display_data"
    },
    {
     "data": {
      "text/html": [
       "<div>\n",
       "<style scoped>\n",
       "    .dataframe tbody tr th:only-of-type {\n",
       "        vertical-align: middle;\n",
       "    }\n",
       "\n",
       "    .dataframe tbody tr th {\n",
       "        vertical-align: top;\n",
       "    }\n",
       "\n",
       "    .dataframe thead th {\n",
       "        text-align: right;\n",
       "    }\n",
       "</style>\n",
       "<table border=\"1\" class=\"dataframe\">\n",
       "  <thead>\n",
       "    <tr style=\"text-align: right;\">\n",
       "      <th>categoria</th>\n",
       "      <th>A</th>\n",
       "      <th>B</th>\n",
       "      <th>C</th>\n",
       "    </tr>\n",
       "    <tr>\n",
       "      <th>fecha</th>\n",
       "      <th></th>\n",
       "      <th></th>\n",
       "      <th></th>\n",
       "    </tr>\n",
       "  </thead>\n",
       "  <tbody>\n",
       "    <tr>\n",
       "      <th>2024-01-31</th>\n",
       "      <td>50.0</td>\n",
       "      <td>NaN</td>\n",
       "      <td>NaN</td>\n",
       "    </tr>\n",
       "    <tr>\n",
       "      <th>2024-02-29</th>\n",
       "      <td>NaN</td>\n",
       "      <td>36.0</td>\n",
       "      <td>NaN</td>\n",
       "    </tr>\n",
       "    <tr>\n",
       "      <th>2024-03-31</th>\n",
       "      <td>NaN</td>\n",
       "      <td>NaN</td>\n",
       "      <td>54.0</td>\n",
       "    </tr>\n",
       "    <tr>\n",
       "      <th>2024-04-30</th>\n",
       "      <td>22.0</td>\n",
       "      <td>NaN</td>\n",
       "      <td>NaN</td>\n",
       "    </tr>\n",
       "    <tr>\n",
       "      <th>2024-05-31</th>\n",
       "      <td>NaN</td>\n",
       "      <td>80.0</td>\n",
       "      <td>NaN</td>\n",
       "    </tr>\n",
       "    <tr>\n",
       "      <th>2024-06-30</th>\n",
       "      <td>NaN</td>\n",
       "      <td>NaN</td>\n",
       "      <td>8.0</td>\n",
       "    </tr>\n",
       "    <tr>\n",
       "      <th>2024-07-31</th>\n",
       "      <td>48.0</td>\n",
       "      <td>NaN</td>\n",
       "      <td>NaN</td>\n",
       "    </tr>\n",
       "    <tr>\n",
       "      <th>2024-08-31</th>\n",
       "      <td>NaN</td>\n",
       "      <td>70.0</td>\n",
       "      <td>NaN</td>\n",
       "    </tr>\n",
       "    <tr>\n",
       "      <th>2024-09-30</th>\n",
       "      <td>NaN</td>\n",
       "      <td>NaN</td>\n",
       "      <td>63.0</td>\n",
       "    </tr>\n",
       "    <tr>\n",
       "      <th>2024-10-31</th>\n",
       "      <td>39.0</td>\n",
       "      <td>NaN</td>\n",
       "      <td>NaN</td>\n",
       "    </tr>\n",
       "    <tr>\n",
       "      <th>2024-11-30</th>\n",
       "      <td>NaN</td>\n",
       "      <td>24.0</td>\n",
       "      <td>NaN</td>\n",
       "    </tr>\n",
       "    <tr>\n",
       "      <th>2024-12-31</th>\n",
       "      <td>NaN</td>\n",
       "      <td>NaN</td>\n",
       "      <td>60.0</td>\n",
       "    </tr>\n",
       "  </tbody>\n",
       "</table>\n",
       "</div>"
      ],
      "text/plain": [
       "categoria      A     B     C\n",
       "fecha                       \n",
       "2024-01-31  50.0   NaN   NaN\n",
       "2024-02-29   NaN  36.0   NaN\n",
       "2024-03-31   NaN   NaN  54.0\n",
       "2024-04-30  22.0   NaN   NaN\n",
       "2024-05-31   NaN  80.0   NaN\n",
       "2024-06-30   NaN   NaN   8.0\n",
       "2024-07-31  48.0   NaN   NaN\n",
       "2024-08-31   NaN  70.0   NaN\n",
       "2024-09-30   NaN   NaN  63.0\n",
       "2024-10-31  39.0   NaN   NaN\n",
       "2024-11-30   NaN  24.0   NaN\n",
       "2024-12-31   NaN   NaN  60.0"
      ]
     },
     "metadata": {},
     "output_type": "display_data"
    }
   ],
   "source": [
    "\n",
    "# Transformaciones: crear columna total y filtrar\n",
    "df = df.assign(total=df[\"precio\"] * df[\"cantidad\"])\n",
    "df_filtrado = df[df[\"total\"] > 60]\n",
    "display(df_filtrado.head())\n",
    "\n",
    "# Agrupaciones\n",
    "resumen_categoria = df.groupby(\"categoria\", as_index=False).agg(\n",
    "    ventas_totales=(\"total\", \"sum\"),\n",
    "    cantidad_total=(\"cantidad\", \"sum\"),\n",
    "    precio_promedio=(\"precio\", \"mean\"),\n",
    ")\n",
    "display(resumen_categoria)\n",
    "\n",
    "# Pivot table: total por mes y categoría\n",
    "tabla_pivot = pd.pivot_table(\n",
    "    df, values=\"total\", index=\"fecha\", columns=\"categoria\", aggfunc=\"sum\"\n",
    ")\n",
    "display(tabla_pivot)\n"
   ]
  },
  {
   "cell_type": "code",
   "execution_count": null,
   "id": "2cd77dbe",
   "metadata": {},
   "outputs": [
    {
     "data": {
      "text/html": [
       "<div>\n",
       "<style scoped>\n",
       "    .dataframe tbody tr th:only-of-type {\n",
       "        vertical-align: middle;\n",
       "    }\n",
       "\n",
       "    .dataframe tbody tr th {\n",
       "        vertical-align: top;\n",
       "    }\n",
       "\n",
       "    .dataframe thead th {\n",
       "        text-align: right;\n",
       "    }\n",
       "</style>\n",
       "<table border=\"1\" class=\"dataframe\">\n",
       "  <thead>\n",
       "    <tr style=\"text-align: right;\">\n",
       "      <th></th>\n",
       "      <th>fecha</th>\n",
       "      <th>categoria</th>\n",
       "      <th>producto</th>\n",
       "      <th>precio</th>\n",
       "      <th>cantidad</th>\n",
       "      <th>total</th>\n",
       "    </tr>\n",
       "  </thead>\n",
       "  <tbody>\n",
       "    <tr>\n",
       "      <th>0</th>\n",
       "      <td>2024-01-31</td>\n",
       "      <td>A</td>\n",
       "      <td>P1</td>\n",
       "      <td>10</td>\n",
       "      <td>5</td>\n",
       "      <td>50</td>\n",
       "    </tr>\n",
       "    <tr>\n",
       "      <th>3</th>\n",
       "      <td>2024-04-30</td>\n",
       "      <td>A</td>\n",
       "      <td>P1</td>\n",
       "      <td>11</td>\n",
       "      <td>2</td>\n",
       "      <td>22</td>\n",
       "    </tr>\n",
       "    <tr>\n",
       "      <th>6</th>\n",
       "      <td>2024-07-31</td>\n",
       "      <td>A</td>\n",
       "      <td>P1</td>\n",
       "      <td>12</td>\n",
       "      <td>4</td>\n",
       "      <td>48</td>\n",
       "    </tr>\n",
       "    <tr>\n",
       "      <th>9</th>\n",
       "      <td>2024-10-31</td>\n",
       "      <td>A</td>\n",
       "      <td>P1</td>\n",
       "      <td>13</td>\n",
       "      <td>3</td>\n",
       "      <td>39</td>\n",
       "    </tr>\n",
       "  </tbody>\n",
       "</table>\n",
       "</div>"
      ],
      "text/plain": [
       "       fecha categoria producto  precio  cantidad  total\n",
       "0 2024-01-31         A       P1      10         5     50\n",
       "3 2024-04-30         A       P1      11         2     22\n",
       "6 2024-07-31         A       P1      12         4     48\n",
       "9 2024-10-31         A       P1      13         3     39"
      ]
     },
     "execution_count": 20,
     "metadata": {},
     "output_type": "execute_result"
    }
   ],
   "source": [
    "#filtrar y eleccionar\n",
    "df_A = df[df[\"categoria\"] == \"A\"]\n",
    "df_altas = df[df[\"precio\"] > 11]\n",
    "df_A\n",
    "\n"
   ]
  },
  {
   "cell_type": "code",
   "execution_count": null,
   "id": "9c481939",
   "metadata": {},
   "outputs": [
    {
     "data": {
      "text/html": [
       "<div>\n",
       "<style scoped>\n",
       "    .dataframe tbody tr th:only-of-type {\n",
       "        vertical-align: middle;\n",
       "    }\n",
       "\n",
       "    .dataframe tbody tr th {\n",
       "        vertical-align: top;\n",
       "    }\n",
       "\n",
       "    .dataframe thead th {\n",
       "        text-align: right;\n",
       "    }\n",
       "</style>\n",
       "<table border=\"1\" class=\"dataframe\">\n",
       "  <thead>\n",
       "    <tr style=\"text-align: right;\">\n",
       "      <th></th>\n",
       "      <th>fecha</th>\n",
       "      <th>categoria</th>\n",
       "      <th>producto</th>\n",
       "      <th>precio</th>\n",
       "      <th>cantidad</th>\n",
       "      <th>total</th>\n",
       "    </tr>\n",
       "  </thead>\n",
       "  <tbody>\n",
       "    <tr>\n",
       "      <th>1</th>\n",
       "      <td>2024-02-29</td>\n",
       "      <td>B</td>\n",
       "      <td>P2</td>\n",
       "      <td>12</td>\n",
       "      <td>3</td>\n",
       "      <td>36</td>\n",
       "    </tr>\n",
       "    <tr>\n",
       "      <th>7</th>\n",
       "      <td>2024-08-31</td>\n",
       "      <td>B</td>\n",
       "      <td>P2</td>\n",
       "      <td>14</td>\n",
       "      <td>5</td>\n",
       "      <td>70</td>\n",
       "    </tr>\n",
       "    <tr>\n",
       "      <th>10</th>\n",
       "      <td>2024-11-30</td>\n",
       "      <td>B</td>\n",
       "      <td>P2</td>\n",
       "      <td>12</td>\n",
       "      <td>2</td>\n",
       "      <td>24</td>\n",
       "    </tr>\n",
       "  </tbody>\n",
       "</table>\n",
       "</div>"
      ],
      "text/plain": [
       "        fecha categoria producto  precio  cantidad  total\n",
       "1  2024-02-29         B       P2      12         3     36\n",
       "7  2024-08-31         B       P2      14         5     70\n",
       "10 2024-11-30         B       P2      12         2     24"
      ]
     },
     "execution_count": 21,
     "metadata": {},
     "output_type": "execute_result"
    }
   ],
   "source": [
    "#categoria sea b y precio mayor a 11\n",
    "df_B_altas = df[(df[\"categoria\"] == \"B\") & (df[\"precio\"] > 11)]\n",
    "df_B_altas\n"
   ]
  },
  {
   "cell_type": "code",
   "execution_count": null,
   "id": "5fb64f36",
   "metadata": {},
   "outputs": [
    {
     "name": "stdout",
     "output_type": "stream",
     "text": [
      "Nulos por columna:\n",
      " fecha        0\n",
      "categoria    0\n",
      "producto     0\n",
      "precio       3\n",
      "cantidad     0\n",
      "total        0\n",
      "dtype: int64\n",
      "Nulos por columna (después de fillna):\n",
      " fecha        0\n",
      "categoria    0\n",
      "producto     0\n",
      "precio       0\n",
      "cantidad     0\n",
      "total        0\n",
      "dtype: int64\n"
     ]
    }
   ],
   "source": [
    "\n",
    "# Valores faltantes y merge (demostración)\n",
    "df2 = df.copy()\n",
    "df2.loc[::4, \"precio\"] = np.nan  # introducir NaN\n",
    "print(\"Nulos por columna:\\n\", df2.isna().sum())\n",
    "df2[\"precio\"] = df2[\"precio\"].fillna(df2[\"precio\"].median())\n",
    "print(\"Nulos por columna (después de fillna):\\n\", df2.isna().sum())\n"
   ]
  },
  {
   "cell_type": "code",
   "execution_count": null,
   "id": "84b25062",
   "metadata": {},
   "outputs": [],
   "source": [
    "df.to_csv('panda.csv',index=False)\n",
    "df_loaded=pd.read_csv('panda.csv')\n"
   ]
  },
  {
   "cell_type": "markdown",
   "id": "1382b8a1",
   "metadata": {},
   "source": [
    "\n",
    "### 🧩 Ejercicios (Pandas)\n",
    "1. Carga un CSV propio (o exporta `df` a CSV y vuelve a leerlo) y muestra sus primeras 10 filas.  \n",
    "2. Calcula la **venta total por producto** y ordénala de mayor a menor.  \n",
    "3. Identifica filas con valores faltantes y aplica una estrategia de imputación (mediana/media/moda).  \n",
    "4. Construye una tabla dinámica (*pivot_table*) que muestre las ventas por **mes** y **producto**.  \n",
    "5. Realiza un **merge** entre dos DataFrames (por ejemplo, `productos` y `ventas`) y valida el resultado.\n"
   ]
  },
  {
   "cell_type": "code",
   "execution_count": null,
   "id": "b8cbfbe0",
   "metadata": {},
   "outputs": [
    {
     "name": "stdout",
     "output_type": "stream",
     "text": [
      "   producto_id                       producto  venta       fecha\n",
      "0            1  Smartphone Samsung Galaxy S21    799  2025-01-15\n",
      "1            2                Apple iPhone 14    999  2025-01-16\n",
      "2            3     Sony WH-1000XM5 Headphones    349  2025-01-17\n",
      "3            4     MacBook Pro 16-inch M1 Pro   2499  2025-01-20\n",
      "4            5                 Google Pixel 7    599  2025-02-01\n",
      "5            6           Apple Watch Series 8    399  2025-02-05\n",
      "6            7                  PlayStation 5    499  2025-02-10\n",
      "7            8      Lenovo ThinkPad X1 Carbon   1399  2025-02-12\n",
      "8            9         Beats Studio3 Wireless    349  2025-03-02\n",
      "9           10            Apple AirPods Pro 2    249  2025-03-03\n"
     ]
    }
   ],
   "source": [
    "import pandas as pd\n",
    "\n",
    "# Cargar el CSV (puedes usar tu propio archivo o exportar un DataFrame y cargarlo)\n",
    "df = pd.read_csv('panda.csv')\n",
    "\n",
    "# Mostrar las primeras 10 filas\n",
    "print(df.head(10))\n"
   ]
  },
  {
   "cell_type": "code",
   "execution_count": null,
   "id": "a97f72f4",
   "metadata": {},
   "outputs": [
    {
     "name": "stdout",
     "output_type": "stream",
     "text": [
      "producto\n",
      "LG OLED 65-inch TV               2500\n",
      "MacBook Pro 16-inch M1 Pro       2499\n",
      "Microsoft Surface Laptop 5       1499\n",
      "Lenovo ThinkPad X1 Carbon        1399\n",
      "Canon EOS 90D                    1299\n",
      "Samsung QLED 4K TV               1200\n",
      "Apple iPhone 14                   999\n",
      "Smartphone Samsung Galaxy S21     799\n",
      "Google Pixel 7                    599\n",
      "PlayStation 5                     499\n",
      "GoPro HERO11 Black                499\n",
      "Apple Watch Series 8              399\n",
      "Nintendo Switch OLED              349\n",
      "Beats Studio3 Wireless            349\n",
      "Sony WH-1000XM5 Headphones        349\n",
      "Bose QuietComfort 45              329\n",
      "Apple AirPods Pro 2               249\n",
      "Kindle Paperwhite                 139\n",
      "Name: venta, dtype: int64\n"
     ]
    }
   ],
   "source": [
    "# Suponiendo que tienes una columna 'producto' y 'venta'\n",
    "venta_total_por_producto = df.groupby('producto')['venta'].sum().sort_values(ascending=False)\n",
    "\n",
    "# Mostrar el resultado\n",
    "print(venta_total_por_producto)\n"
   ]
  },
  {
   "cell_type": "code",
   "execution_count": null,
   "id": "9aa8bb8b",
   "metadata": {},
   "outputs": [
    {
     "name": "stdout",
     "output_type": "stream",
     "text": [
      "Valores faltantes por columna:\n",
      " producto_id    0\n",
      "producto       0\n",
      "venta          0\n",
      "fecha          0\n",
      "dtype: int64\n"
     ]
    },
    {
     "ename": "TypeError",
     "evalue": "Could not convert ['Smartphone Samsung Galaxy S21Apple iPhone 14Sony WH-1000XM5 HeadphonesMacBook Pro 16-inch M1 ProGoogle Pixel 7Apple Watch Series 8PlayStation 5Lenovo ThinkPad X1 CarbonBeats Studio3 WirelessApple AirPods Pro 2Samsung QLED 4K TVBose QuietComfort 45Microsoft Surface Laptop 5LG OLED 65-inch TVKindle PaperwhiteGoPro HERO11 BlackCanon EOS 90DNintendo Switch OLED'\n '2025-01-152025-01-162025-01-172025-01-202025-02-012025-02-052025-02-102025-02-122025-03-022025-03-032025-03-052025-03-072025-03-102025-04-012025-04-052025-04-122025-04-152025-04-20'] to numeric",
     "output_type": "error",
     "traceback": [
      "\u001b[1;31m---------------------------------------------------------------------------\u001b[0m",
      "\u001b[1;31mTypeError\u001b[0m                                 Traceback (most recent call last)",
      "Cell \u001b[1;32mIn[28], line 6\u001b[0m\n\u001b[0;32m      3\u001b[0m \u001b[38;5;28mprint\u001b[39m(\u001b[38;5;124m\"\u001b[39m\u001b[38;5;124mValores faltantes por columna:\u001b[39m\u001b[38;5;130;01m\\n\u001b[39;00m\u001b[38;5;124m\"\u001b[39m, valores_faltantes)\n\u001b[0;32m      5\u001b[0m \u001b[38;5;66;03m# Imputación con la media (suponiendo que falta en la columna 'venta')\u001b[39;00m\n\u001b[1;32m----> 6\u001b[0m df_imputado_media \u001b[38;5;241m=\u001b[39m df\u001b[38;5;241m.\u001b[39mfillna(df\u001b[38;5;241m.\u001b[39mmean())\n\u001b[0;32m      8\u001b[0m \u001b[38;5;66;03m# Imputación con la mediana\u001b[39;00m\n\u001b[0;32m      9\u001b[0m df_imputado_mediana \u001b[38;5;241m=\u001b[39m df\u001b[38;5;241m.\u001b[39mfillna(df\u001b[38;5;241m.\u001b[39mmedian())\n",
      "File \u001b[1;32mc:\\Users\\kenny\\anaconda3\\Lib\\site-packages\\pandas\\core\\frame.py:11693\u001b[0m, in \u001b[0;36mDataFrame.mean\u001b[1;34m(self, axis, skipna, numeric_only, **kwargs)\u001b[0m\n\u001b[0;32m  11685\u001b[0m \u001b[38;5;129m@doc\u001b[39m(make_doc(\u001b[38;5;124m\"\u001b[39m\u001b[38;5;124mmean\u001b[39m\u001b[38;5;124m\"\u001b[39m, ndim\u001b[38;5;241m=\u001b[39m\u001b[38;5;241m2\u001b[39m))\n\u001b[0;32m  11686\u001b[0m \u001b[38;5;28;01mdef\u001b[39;00m\u001b[38;5;250m \u001b[39m\u001b[38;5;21mmean\u001b[39m(\n\u001b[0;32m  11687\u001b[0m     \u001b[38;5;28mself\u001b[39m,\n\u001b[1;32m   (...)\u001b[0m\n\u001b[0;32m  11691\u001b[0m     \u001b[38;5;241m*\u001b[39m\u001b[38;5;241m*\u001b[39mkwargs,\n\u001b[0;32m  11692\u001b[0m ):\n\u001b[1;32m> 11693\u001b[0m     result \u001b[38;5;241m=\u001b[39m \u001b[38;5;28msuper\u001b[39m()\u001b[38;5;241m.\u001b[39mmean(axis, skipna, numeric_only, \u001b[38;5;241m*\u001b[39m\u001b[38;5;241m*\u001b[39mkwargs)\n\u001b[0;32m  11694\u001b[0m     \u001b[38;5;28;01mif\u001b[39;00m \u001b[38;5;28misinstance\u001b[39m(result, Series):\n\u001b[0;32m  11695\u001b[0m         result \u001b[38;5;241m=\u001b[39m result\u001b[38;5;241m.\u001b[39m__finalize__(\u001b[38;5;28mself\u001b[39m, method\u001b[38;5;241m=\u001b[39m\u001b[38;5;124m\"\u001b[39m\u001b[38;5;124mmean\u001b[39m\u001b[38;5;124m\"\u001b[39m)\n",
      "File \u001b[1;32mc:\\Users\\kenny\\anaconda3\\Lib\\site-packages\\pandas\\core\\generic.py:12420\u001b[0m, in \u001b[0;36mNDFrame.mean\u001b[1;34m(self, axis, skipna, numeric_only, **kwargs)\u001b[0m\n\u001b[0;32m  12413\u001b[0m \u001b[38;5;28;01mdef\u001b[39;00m\u001b[38;5;250m \u001b[39m\u001b[38;5;21mmean\u001b[39m(\n\u001b[0;32m  12414\u001b[0m     \u001b[38;5;28mself\u001b[39m,\n\u001b[0;32m  12415\u001b[0m     axis: Axis \u001b[38;5;241m|\u001b[39m \u001b[38;5;28;01mNone\u001b[39;00m \u001b[38;5;241m=\u001b[39m \u001b[38;5;241m0\u001b[39m,\n\u001b[1;32m   (...)\u001b[0m\n\u001b[0;32m  12418\u001b[0m     \u001b[38;5;241m*\u001b[39m\u001b[38;5;241m*\u001b[39mkwargs,\n\u001b[0;32m  12419\u001b[0m ) \u001b[38;5;241m-\u001b[39m\u001b[38;5;241m>\u001b[39m Series \u001b[38;5;241m|\u001b[39m \u001b[38;5;28mfloat\u001b[39m:\n\u001b[1;32m> 12420\u001b[0m     \u001b[38;5;28;01mreturn\u001b[39;00m \u001b[38;5;28mself\u001b[39m\u001b[38;5;241m.\u001b[39m_stat_function(\n\u001b[0;32m  12421\u001b[0m         \u001b[38;5;124m\"\u001b[39m\u001b[38;5;124mmean\u001b[39m\u001b[38;5;124m\"\u001b[39m, nanops\u001b[38;5;241m.\u001b[39mnanmean, axis, skipna, numeric_only, \u001b[38;5;241m*\u001b[39m\u001b[38;5;241m*\u001b[39mkwargs\n\u001b[0;32m  12422\u001b[0m     )\n",
      "File \u001b[1;32mc:\\Users\\kenny\\anaconda3\\Lib\\site-packages\\pandas\\core\\generic.py:12377\u001b[0m, in \u001b[0;36mNDFrame._stat_function\u001b[1;34m(self, name, func, axis, skipna, numeric_only, **kwargs)\u001b[0m\n\u001b[0;32m  12373\u001b[0m nv\u001b[38;5;241m.\u001b[39mvalidate_func(name, (), kwargs)\n\u001b[0;32m  12375\u001b[0m validate_bool_kwarg(skipna, \u001b[38;5;124m\"\u001b[39m\u001b[38;5;124mskipna\u001b[39m\u001b[38;5;124m\"\u001b[39m, none_allowed\u001b[38;5;241m=\u001b[39m\u001b[38;5;28;01mFalse\u001b[39;00m)\n\u001b[1;32m> 12377\u001b[0m \u001b[38;5;28;01mreturn\u001b[39;00m \u001b[38;5;28mself\u001b[39m\u001b[38;5;241m.\u001b[39m_reduce(\n\u001b[0;32m  12378\u001b[0m     func, name\u001b[38;5;241m=\u001b[39mname, axis\u001b[38;5;241m=\u001b[39maxis, skipna\u001b[38;5;241m=\u001b[39mskipna, numeric_only\u001b[38;5;241m=\u001b[39mnumeric_only\n\u001b[0;32m  12379\u001b[0m )\n",
      "File \u001b[1;32mc:\\Users\\kenny\\anaconda3\\Lib\\site-packages\\pandas\\core\\frame.py:11562\u001b[0m, in \u001b[0;36mDataFrame._reduce\u001b[1;34m(self, op, name, axis, skipna, numeric_only, filter_type, **kwds)\u001b[0m\n\u001b[0;32m  11558\u001b[0m     df \u001b[38;5;241m=\u001b[39m df\u001b[38;5;241m.\u001b[39mT\n\u001b[0;32m  11560\u001b[0m \u001b[38;5;66;03m# After possibly _get_data and transposing, we are now in the\u001b[39;00m\n\u001b[0;32m  11561\u001b[0m \u001b[38;5;66;03m#  simple case where we can use BlockManager.reduce\u001b[39;00m\n\u001b[1;32m> 11562\u001b[0m res \u001b[38;5;241m=\u001b[39m df\u001b[38;5;241m.\u001b[39m_mgr\u001b[38;5;241m.\u001b[39mreduce(blk_func)\n\u001b[0;32m  11563\u001b[0m out \u001b[38;5;241m=\u001b[39m df\u001b[38;5;241m.\u001b[39m_constructor_from_mgr(res, axes\u001b[38;5;241m=\u001b[39mres\u001b[38;5;241m.\u001b[39maxes)\u001b[38;5;241m.\u001b[39miloc[\u001b[38;5;241m0\u001b[39m]\n\u001b[0;32m  11564\u001b[0m \u001b[38;5;28;01mif\u001b[39;00m out_dtype \u001b[38;5;129;01mis\u001b[39;00m \u001b[38;5;129;01mnot\u001b[39;00m \u001b[38;5;28;01mNone\u001b[39;00m \u001b[38;5;129;01mand\u001b[39;00m out\u001b[38;5;241m.\u001b[39mdtype \u001b[38;5;241m!=\u001b[39m \u001b[38;5;124m\"\u001b[39m\u001b[38;5;124mboolean\u001b[39m\u001b[38;5;124m\"\u001b[39m:\n",
      "File \u001b[1;32mc:\\Users\\kenny\\anaconda3\\Lib\\site-packages\\pandas\\core\\internals\\managers.py:1500\u001b[0m, in \u001b[0;36mBlockManager.reduce\u001b[1;34m(self, func)\u001b[0m\n\u001b[0;32m   1498\u001b[0m res_blocks: \u001b[38;5;28mlist\u001b[39m[Block] \u001b[38;5;241m=\u001b[39m []\n\u001b[0;32m   1499\u001b[0m \u001b[38;5;28;01mfor\u001b[39;00m blk \u001b[38;5;129;01min\u001b[39;00m \u001b[38;5;28mself\u001b[39m\u001b[38;5;241m.\u001b[39mblocks:\n\u001b[1;32m-> 1500\u001b[0m     nbs \u001b[38;5;241m=\u001b[39m blk\u001b[38;5;241m.\u001b[39mreduce(func)\n\u001b[0;32m   1501\u001b[0m     res_blocks\u001b[38;5;241m.\u001b[39mextend(nbs)\n\u001b[0;32m   1503\u001b[0m index \u001b[38;5;241m=\u001b[39m Index([\u001b[38;5;28;01mNone\u001b[39;00m])  \u001b[38;5;66;03m# placeholder\u001b[39;00m\n",
      "File \u001b[1;32mc:\\Users\\kenny\\anaconda3\\Lib\\site-packages\\pandas\\core\\internals\\blocks.py:404\u001b[0m, in \u001b[0;36mBlock.reduce\u001b[1;34m(self, func)\u001b[0m\n\u001b[0;32m    398\u001b[0m \u001b[38;5;129m@final\u001b[39m\n\u001b[0;32m    399\u001b[0m \u001b[38;5;28;01mdef\u001b[39;00m\u001b[38;5;250m \u001b[39m\u001b[38;5;21mreduce\u001b[39m(\u001b[38;5;28mself\u001b[39m, func) \u001b[38;5;241m-\u001b[39m\u001b[38;5;241m>\u001b[39m \u001b[38;5;28mlist\u001b[39m[Block]:\n\u001b[0;32m    400\u001b[0m     \u001b[38;5;66;03m# We will apply the function and reshape the result into a single-row\u001b[39;00m\n\u001b[0;32m    401\u001b[0m     \u001b[38;5;66;03m#  Block with the same mgr_locs; squeezing will be done at a higher level\u001b[39;00m\n\u001b[0;32m    402\u001b[0m     \u001b[38;5;28;01massert\u001b[39;00m \u001b[38;5;28mself\u001b[39m\u001b[38;5;241m.\u001b[39mndim \u001b[38;5;241m==\u001b[39m \u001b[38;5;241m2\u001b[39m\n\u001b[1;32m--> 404\u001b[0m     result \u001b[38;5;241m=\u001b[39m func(\u001b[38;5;28mself\u001b[39m\u001b[38;5;241m.\u001b[39mvalues)\n\u001b[0;32m    406\u001b[0m     \u001b[38;5;28;01mif\u001b[39;00m \u001b[38;5;28mself\u001b[39m\u001b[38;5;241m.\u001b[39mvalues\u001b[38;5;241m.\u001b[39mndim \u001b[38;5;241m==\u001b[39m \u001b[38;5;241m1\u001b[39m:\n\u001b[0;32m    407\u001b[0m         res_values \u001b[38;5;241m=\u001b[39m result\n",
      "File \u001b[1;32mc:\\Users\\kenny\\anaconda3\\Lib\\site-packages\\pandas\\core\\frame.py:11481\u001b[0m, in \u001b[0;36mDataFrame._reduce.<locals>.blk_func\u001b[1;34m(values, axis)\u001b[0m\n\u001b[0;32m  11479\u001b[0m         \u001b[38;5;28;01mreturn\u001b[39;00m np\u001b[38;5;241m.\u001b[39marray([result])\n\u001b[0;32m  11480\u001b[0m \u001b[38;5;28;01melse\u001b[39;00m:\n\u001b[1;32m> 11481\u001b[0m     \u001b[38;5;28;01mreturn\u001b[39;00m op(values, axis\u001b[38;5;241m=\u001b[39maxis, skipna\u001b[38;5;241m=\u001b[39mskipna, \u001b[38;5;241m*\u001b[39m\u001b[38;5;241m*\u001b[39mkwds)\n",
      "File \u001b[1;32mc:\\Users\\kenny\\anaconda3\\Lib\\site-packages\\pandas\\core\\nanops.py:147\u001b[0m, in \u001b[0;36mbottleneck_switch.__call__.<locals>.f\u001b[1;34m(values, axis, skipna, **kwds)\u001b[0m\n\u001b[0;32m    145\u001b[0m         result \u001b[38;5;241m=\u001b[39m alt(values, axis\u001b[38;5;241m=\u001b[39maxis, skipna\u001b[38;5;241m=\u001b[39mskipna, \u001b[38;5;241m*\u001b[39m\u001b[38;5;241m*\u001b[39mkwds)\n\u001b[0;32m    146\u001b[0m \u001b[38;5;28;01melse\u001b[39;00m:\n\u001b[1;32m--> 147\u001b[0m     result \u001b[38;5;241m=\u001b[39m alt(values, axis\u001b[38;5;241m=\u001b[39maxis, skipna\u001b[38;5;241m=\u001b[39mskipna, \u001b[38;5;241m*\u001b[39m\u001b[38;5;241m*\u001b[39mkwds)\n\u001b[0;32m    149\u001b[0m \u001b[38;5;28;01mreturn\u001b[39;00m result\n",
      "File \u001b[1;32mc:\\Users\\kenny\\anaconda3\\Lib\\site-packages\\pandas\\core\\nanops.py:404\u001b[0m, in \u001b[0;36m_datetimelike_compat.<locals>.new_func\u001b[1;34m(values, axis, skipna, mask, **kwargs)\u001b[0m\n\u001b[0;32m    401\u001b[0m \u001b[38;5;28;01mif\u001b[39;00m datetimelike \u001b[38;5;129;01mand\u001b[39;00m mask \u001b[38;5;129;01mis\u001b[39;00m \u001b[38;5;28;01mNone\u001b[39;00m:\n\u001b[0;32m    402\u001b[0m     mask \u001b[38;5;241m=\u001b[39m isna(values)\n\u001b[1;32m--> 404\u001b[0m result \u001b[38;5;241m=\u001b[39m func(values, axis\u001b[38;5;241m=\u001b[39maxis, skipna\u001b[38;5;241m=\u001b[39mskipna, mask\u001b[38;5;241m=\u001b[39mmask, \u001b[38;5;241m*\u001b[39m\u001b[38;5;241m*\u001b[39mkwargs)\n\u001b[0;32m    406\u001b[0m \u001b[38;5;28;01mif\u001b[39;00m datetimelike:\n\u001b[0;32m    407\u001b[0m     result \u001b[38;5;241m=\u001b[39m _wrap_results(result, orig_values\u001b[38;5;241m.\u001b[39mdtype, fill_value\u001b[38;5;241m=\u001b[39miNaT)\n",
      "File \u001b[1;32mc:\\Users\\kenny\\anaconda3\\Lib\\site-packages\\pandas\\core\\nanops.py:720\u001b[0m, in \u001b[0;36mnanmean\u001b[1;34m(values, axis, skipna, mask)\u001b[0m\n\u001b[0;32m    718\u001b[0m count \u001b[38;5;241m=\u001b[39m _get_counts(values\u001b[38;5;241m.\u001b[39mshape, mask, axis, dtype\u001b[38;5;241m=\u001b[39mdtype_count)\n\u001b[0;32m    719\u001b[0m the_sum \u001b[38;5;241m=\u001b[39m values\u001b[38;5;241m.\u001b[39msum(axis, dtype\u001b[38;5;241m=\u001b[39mdtype_sum)\n\u001b[1;32m--> 720\u001b[0m the_sum \u001b[38;5;241m=\u001b[39m _ensure_numeric(the_sum)\n\u001b[0;32m    722\u001b[0m \u001b[38;5;28;01mif\u001b[39;00m axis \u001b[38;5;129;01mis\u001b[39;00m \u001b[38;5;129;01mnot\u001b[39;00m \u001b[38;5;28;01mNone\u001b[39;00m \u001b[38;5;129;01mand\u001b[39;00m \u001b[38;5;28mgetattr\u001b[39m(the_sum, \u001b[38;5;124m\"\u001b[39m\u001b[38;5;124mndim\u001b[39m\u001b[38;5;124m\"\u001b[39m, \u001b[38;5;28;01mFalse\u001b[39;00m):\n\u001b[0;32m    723\u001b[0m     count \u001b[38;5;241m=\u001b[39m cast(np\u001b[38;5;241m.\u001b[39mndarray, count)\n",
      "File \u001b[1;32mc:\\Users\\kenny\\anaconda3\\Lib\\site-packages\\pandas\\core\\nanops.py:1686\u001b[0m, in \u001b[0;36m_ensure_numeric\u001b[1;34m(x)\u001b[0m\n\u001b[0;32m   1683\u001b[0m inferred \u001b[38;5;241m=\u001b[39m lib\u001b[38;5;241m.\u001b[39minfer_dtype(x)\n\u001b[0;32m   1684\u001b[0m \u001b[38;5;28;01mif\u001b[39;00m inferred \u001b[38;5;129;01min\u001b[39;00m [\u001b[38;5;124m\"\u001b[39m\u001b[38;5;124mstring\u001b[39m\u001b[38;5;124m\"\u001b[39m, \u001b[38;5;124m\"\u001b[39m\u001b[38;5;124mmixed\u001b[39m\u001b[38;5;124m\"\u001b[39m]:\n\u001b[0;32m   1685\u001b[0m     \u001b[38;5;66;03m# GH#44008, GH#36703 avoid casting e.g. strings to numeric\u001b[39;00m\n\u001b[1;32m-> 1686\u001b[0m     \u001b[38;5;28;01mraise\u001b[39;00m \u001b[38;5;167;01mTypeError\u001b[39;00m(\u001b[38;5;124mf\u001b[39m\u001b[38;5;124m\"\u001b[39m\u001b[38;5;124mCould not convert \u001b[39m\u001b[38;5;132;01m{\u001b[39;00mx\u001b[38;5;132;01m}\u001b[39;00m\u001b[38;5;124m to numeric\u001b[39m\u001b[38;5;124m\"\u001b[39m)\n\u001b[0;32m   1687\u001b[0m \u001b[38;5;28;01mtry\u001b[39;00m:\n\u001b[0;32m   1688\u001b[0m     x \u001b[38;5;241m=\u001b[39m x\u001b[38;5;241m.\u001b[39mastype(np\u001b[38;5;241m.\u001b[39mcomplex128)\n",
      "\u001b[1;31mTypeError\u001b[0m: Could not convert ['Smartphone Samsung Galaxy S21Apple iPhone 14Sony WH-1000XM5 HeadphonesMacBook Pro 16-inch M1 ProGoogle Pixel 7Apple Watch Series 8PlayStation 5Lenovo ThinkPad X1 CarbonBeats Studio3 WirelessApple AirPods Pro 2Samsung QLED 4K TVBose QuietComfort 45Microsoft Surface Laptop 5LG OLED 65-inch TVKindle PaperwhiteGoPro HERO11 BlackCanon EOS 90DNintendo Switch OLED'\n '2025-01-152025-01-162025-01-172025-01-202025-02-012025-02-052025-02-102025-02-122025-03-022025-03-032025-03-052025-03-072025-03-102025-04-012025-04-052025-04-122025-04-152025-04-20'] to numeric"
     ]
    }
   ],
   "source": [
    "# Identificar filas con valores faltantes\n",
    "valores_faltantes = df.isnull().sum()\n",
    "print(\"Valores faltantes por columna:\\n\", valores_faltantes)\n",
    "\n",
    "# Imputación con la media (suponiendo que falta en la columna 'venta')\n",
    "df_imputado_media = df.fillna(df.mean())\n",
    "\n",
    "# Imputación con la mediana\n",
    "df_imputado_mediana = df.fillna(df.median())\n",
    "\n",
    "# Imputación con la moda\n",
    "df_imputado_moda = df.fillna(df.mode().iloc[0])\n",
    "\n",
    "# Mostrar el DataFrame después de la imputación\n",
    "print(df_imputado_media.head())\n"
   ]
  },
  {
   "cell_type": "code",
   "execution_count": null,
   "id": "cad489ad",
   "metadata": {},
   "outputs": [
    {
     "name": "stdout",
     "output_type": "stream",
     "text": [
      "producto  Apple AirPods Pro 2  Apple Watch Series 8  Apple iPhone 14  \\\n",
      "mes                                                                    \n",
      "1                         NaN                   NaN            999.0   \n",
      "2                         NaN                 399.0              NaN   \n",
      "3                       249.0                   NaN              NaN   \n",
      "4                         NaN                   NaN              NaN   \n",
      "\n",
      "producto  Beats Studio3 Wireless  Bose QuietComfort 45  Canon EOS 90D  \\\n",
      "mes                                                                     \n",
      "1                            NaN                   NaN            NaN   \n",
      "2                            NaN                   NaN            NaN   \n",
      "3                          349.0                 329.0            NaN   \n",
      "4                            NaN                   NaN         1299.0   \n",
      "\n",
      "producto  GoPro HERO11 Black  Google Pixel 7  Kindle Paperwhite  \\\n",
      "mes                                                               \n",
      "1                        NaN             NaN                NaN   \n",
      "2                        NaN           599.0                NaN   \n",
      "3                        NaN             NaN                NaN   \n",
      "4                      499.0             NaN              139.0   \n",
      "\n",
      "producto  LG OLED 65-inch TV  Lenovo ThinkPad X1 Carbon  \\\n",
      "mes                                                       \n",
      "1                        NaN                        NaN   \n",
      "2                        NaN                     1399.0   \n",
      "3                        NaN                        NaN   \n",
      "4                     2500.0                        NaN   \n",
      "\n",
      "producto  MacBook Pro 16-inch M1 Pro  Microsoft Surface Laptop 5  \\\n",
      "mes                                                                \n",
      "1                             2499.0                         NaN   \n",
      "2                                NaN                         NaN   \n",
      "3                                NaN                      1499.0   \n",
      "4                                NaN                         NaN   \n",
      "\n",
      "producto  Nintendo Switch OLED  PlayStation 5  Samsung QLED 4K TV  \\\n",
      "mes                                                                 \n",
      "1                          NaN            NaN                 NaN   \n",
      "2                          NaN          499.0                 NaN   \n",
      "3                          NaN            NaN              1200.0   \n",
      "4                        349.0            NaN                 NaN   \n",
      "\n",
      "producto  Smartphone Samsung Galaxy S21  Sony WH-1000XM5 Headphones  \n",
      "mes                                                                  \n",
      "1                                 799.0                       349.0  \n",
      "2                                   NaN                         NaN  \n",
      "3                                   NaN                         NaN  \n",
      "4                                   NaN                         NaN  \n"
     ]
    }
   ],
   "source": [
    "# Convertir la columna 'fecha' a tipo datetime\n",
    "df['fecha'] = pd.to_datetime(df['fecha'])\n",
    "\n",
    "# Extraer el mes de la fecha\n",
    "df['mes'] = df['fecha'].dt.month\n",
    "\n",
    "# Crear la tabla dinámica\n",
    "tabla_dinamica = df.pivot_table(values='venta', index='mes', columns='producto', aggfunc='sum')\n",
    "\n",
    "# Mostrar la tabla dinámica\n",
    "print(tabla_dinamica)\n"
   ]
  },
  {
   "cell_type": "code",
   "execution_count": null,
   "id": "745d648f",
   "metadata": {},
   "outputs": [
    {
     "ename": "KeyError",
     "evalue": "'producto_id'",
     "output_type": "error",
     "traceback": [
      "\u001b[1;31m---------------------------------------------------------------------------\u001b[0m",
      "\u001b[1;31mKeyError\u001b[0m                                  Traceback (most recent call last)",
      "\u001b[1;32m~\\AppData\\Local\\Temp\\ipykernel_17280\\2824557353.py\u001b[0m in \u001b[0;36m?\u001b[1;34m()\u001b[0m\n\u001b[0;32m      5\u001b[0m     \u001b[1;34m'cantidad_vendida'\u001b[0m\u001b[1;33m:\u001b[0m \u001b[1;33m[\u001b[0m\u001b[1;36m10\u001b[0m\u001b[1;33m,\u001b[0m \u001b[1;36m5\u001b[0m\u001b[1;33m,\u001b[0m \u001b[1;36m8\u001b[0m\u001b[1;33m,\u001b[0m \u001b[1;36m3\u001b[0m\u001b[1;33m,\u001b[0m \u001b[1;36m2\u001b[0m\u001b[1;33m,\u001b[0m \u001b[1;36m7\u001b[0m\u001b[1;33m]\u001b[0m\u001b[1;33m\u001b[0m\u001b[1;33m\u001b[0m\u001b[0m\n\u001b[0;32m      6\u001b[0m \u001b[1;33m}\u001b[0m\u001b[1;33m)\u001b[0m\u001b[1;33m\u001b[0m\u001b[1;33m\u001b[0m\u001b[0m\n\u001b[0;32m      7\u001b[0m \u001b[1;33m\u001b[0m\u001b[0m\n\u001b[0;32m      8\u001b[0m \u001b[1;31m# Realizar el merge entre productos y ventas\u001b[0m\u001b[1;33m\u001b[0m\u001b[1;33m\u001b[0m\u001b[0m\n\u001b[1;32m----> 9\u001b[1;33m \u001b[0mdf_merge\u001b[0m \u001b[1;33m=\u001b[0m \u001b[0mpd\u001b[0m\u001b[1;33m.\u001b[0m\u001b[0mmerge\u001b[0m\u001b[1;33m(\u001b[0m\u001b[0mdf\u001b[0m\u001b[1;33m,\u001b[0m \u001b[0mventas\u001b[0m\u001b[1;33m,\u001b[0m \u001b[0mon\u001b[0m\u001b[1;33m=\u001b[0m\u001b[1;34m'producto_id'\u001b[0m\u001b[1;33m,\u001b[0m \u001b[0mhow\u001b[0m\u001b[1;33m=\u001b[0m\u001b[1;34m'inner'\u001b[0m\u001b[1;33m)\u001b[0m\u001b[1;33m\u001b[0m\u001b[1;33m\u001b[0m\u001b[0m\n\u001b[0m\u001b[0;32m     10\u001b[0m \u001b[1;33m\u001b[0m\u001b[0m\n\u001b[0;32m     11\u001b[0m \u001b[1;31m# Mostrar el resultado del merge\u001b[0m\u001b[1;33m\u001b[0m\u001b[1;33m\u001b[0m\u001b[0m\n\u001b[0;32m     12\u001b[0m \u001b[0mprint\u001b[0m\u001b[1;33m(\u001b[0m\u001b[0mdf_merge\u001b[0m\u001b[1;33m)\u001b[0m\u001b[1;33m\u001b[0m\u001b[1;33m\u001b[0m\u001b[0m\n",
      "\u001b[1;32mc:\\Users\\kenny\\anaconda3\\Lib\\site-packages\\pandas\\core\\reshape\\merge.py\u001b[0m in \u001b[0;36m?\u001b[1;34m(left, right, how, on, left_on, right_on, left_index, right_index, sort, suffixes, copy, indicator, validate)\u001b[0m\n\u001b[0;32m    166\u001b[0m             \u001b[0mvalidate\u001b[0m\u001b[1;33m=\u001b[0m\u001b[0mvalidate\u001b[0m\u001b[1;33m,\u001b[0m\u001b[1;33m\u001b[0m\u001b[1;33m\u001b[0m\u001b[0m\n\u001b[0;32m    167\u001b[0m             \u001b[0mcopy\u001b[0m\u001b[1;33m=\u001b[0m\u001b[0mcopy\u001b[0m\u001b[1;33m,\u001b[0m\u001b[1;33m\u001b[0m\u001b[1;33m\u001b[0m\u001b[0m\n\u001b[0;32m    168\u001b[0m         \u001b[1;33m)\u001b[0m\u001b[1;33m\u001b[0m\u001b[1;33m\u001b[0m\u001b[0m\n\u001b[0;32m    169\u001b[0m     \u001b[1;32melse\u001b[0m\u001b[1;33m:\u001b[0m\u001b[1;33m\u001b[0m\u001b[1;33m\u001b[0m\u001b[0m\n\u001b[1;32m--> 170\u001b[1;33m         op = _MergeOperation(\n\u001b[0m\u001b[0;32m    171\u001b[0m             \u001b[0mleft_df\u001b[0m\u001b[1;33m,\u001b[0m\u001b[1;33m\u001b[0m\u001b[1;33m\u001b[0m\u001b[0m\n\u001b[0;32m    172\u001b[0m             \u001b[0mright_df\u001b[0m\u001b[1;33m,\u001b[0m\u001b[1;33m\u001b[0m\u001b[1;33m\u001b[0m\u001b[0m\n\u001b[0;32m    173\u001b[0m             \u001b[0mhow\u001b[0m\u001b[1;33m=\u001b[0m\u001b[0mhow\u001b[0m\u001b[1;33m,\u001b[0m\u001b[1;33m\u001b[0m\u001b[1;33m\u001b[0m\u001b[0m\n",
      "\u001b[1;32mc:\\Users\\kenny\\anaconda3\\Lib\\site-packages\\pandas\\core\\reshape\\merge.py\u001b[0m in \u001b[0;36m?\u001b[1;34m(self, left, right, how, on, left_on, right_on, left_index, right_index, sort, suffixes, indicator, validate)\u001b[0m\n\u001b[0;32m    790\u001b[0m             \u001b[0mself\u001b[0m\u001b[1;33m.\u001b[0m\u001b[0mright_join_keys\u001b[0m\u001b[1;33m,\u001b[0m\u001b[1;33m\u001b[0m\u001b[1;33m\u001b[0m\u001b[0m\n\u001b[0;32m    791\u001b[0m             \u001b[0mself\u001b[0m\u001b[1;33m.\u001b[0m\u001b[0mjoin_names\u001b[0m\u001b[1;33m,\u001b[0m\u001b[1;33m\u001b[0m\u001b[1;33m\u001b[0m\u001b[0m\n\u001b[0;32m    792\u001b[0m             \u001b[0mleft_drop\u001b[0m\u001b[1;33m,\u001b[0m\u001b[1;33m\u001b[0m\u001b[1;33m\u001b[0m\u001b[0m\n\u001b[0;32m    793\u001b[0m             \u001b[0mright_drop\u001b[0m\u001b[1;33m,\u001b[0m\u001b[1;33m\u001b[0m\u001b[1;33m\u001b[0m\u001b[0m\n\u001b[1;32m--> 794\u001b[1;33m         \u001b[1;33m)\u001b[0m \u001b[1;33m=\u001b[0m \u001b[0mself\u001b[0m\u001b[1;33m.\u001b[0m\u001b[0m_get_merge_keys\u001b[0m\u001b[1;33m(\u001b[0m\u001b[1;33m)\u001b[0m\u001b[1;33m\u001b[0m\u001b[1;33m\u001b[0m\u001b[0m\n\u001b[0m\u001b[0;32m    795\u001b[0m \u001b[1;33m\u001b[0m\u001b[0m\n\u001b[0;32m    796\u001b[0m         \u001b[1;32mif\u001b[0m \u001b[0mleft_drop\u001b[0m\u001b[1;33m:\u001b[0m\u001b[1;33m\u001b[0m\u001b[1;33m\u001b[0m\u001b[0m\n\u001b[0;32m    797\u001b[0m             \u001b[0mself\u001b[0m\u001b[1;33m.\u001b[0m\u001b[0mleft\u001b[0m \u001b[1;33m=\u001b[0m \u001b[0mself\u001b[0m\u001b[1;33m.\u001b[0m\u001b[0mleft\u001b[0m\u001b[1;33m.\u001b[0m\u001b[0m_drop_labels_or_levels\u001b[0m\u001b[1;33m(\u001b[0m\u001b[0mleft_drop\u001b[0m\u001b[1;33m)\u001b[0m\u001b[1;33m\u001b[0m\u001b[1;33m\u001b[0m\u001b[0m\n",
      "\u001b[1;32mc:\\Users\\kenny\\anaconda3\\Lib\\site-packages\\pandas\\core\\reshape\\merge.py\u001b[0m in \u001b[0;36m?\u001b[1;34m(self)\u001b[0m\n\u001b[0;32m   1306\u001b[0m                     \u001b[1;32mif\u001b[0m \u001b[0mlk\u001b[0m \u001b[1;32mis\u001b[0m \u001b[1;32mnot\u001b[0m \u001b[1;32mNone\u001b[0m\u001b[1;33m:\u001b[0m\u001b[1;33m\u001b[0m\u001b[1;33m\u001b[0m\u001b[0m\n\u001b[0;32m   1307\u001b[0m                         \u001b[1;31m# Then we're either Hashable or a wrong-length arraylike,\u001b[0m\u001b[1;33m\u001b[0m\u001b[1;33m\u001b[0m\u001b[0m\n\u001b[0;32m   1308\u001b[0m                         \u001b[1;31m#  the latter of which will raise\u001b[0m\u001b[1;33m\u001b[0m\u001b[1;33m\u001b[0m\u001b[0m\n\u001b[0;32m   1309\u001b[0m                         \u001b[0mlk\u001b[0m \u001b[1;33m=\u001b[0m \u001b[0mcast\u001b[0m\u001b[1;33m(\u001b[0m\u001b[0mHashable\u001b[0m\u001b[1;33m,\u001b[0m \u001b[0mlk\u001b[0m\u001b[1;33m)\u001b[0m\u001b[1;33m\u001b[0m\u001b[1;33m\u001b[0m\u001b[0m\n\u001b[1;32m-> 1310\u001b[1;33m                         \u001b[0mleft_keys\u001b[0m\u001b[1;33m.\u001b[0m\u001b[0mappend\u001b[0m\u001b[1;33m(\u001b[0m\u001b[0mleft\u001b[0m\u001b[1;33m.\u001b[0m\u001b[0m_get_label_or_level_values\u001b[0m\u001b[1;33m(\u001b[0m\u001b[0mlk\u001b[0m\u001b[1;33m)\u001b[0m\u001b[1;33m)\u001b[0m\u001b[1;33m\u001b[0m\u001b[1;33m\u001b[0m\u001b[0m\n\u001b[0m\u001b[0;32m   1311\u001b[0m                         \u001b[0mjoin_names\u001b[0m\u001b[1;33m.\u001b[0m\u001b[0mappend\u001b[0m\u001b[1;33m(\u001b[0m\u001b[0mlk\u001b[0m\u001b[1;33m)\u001b[0m\u001b[1;33m\u001b[0m\u001b[1;33m\u001b[0m\u001b[0m\n\u001b[0;32m   1312\u001b[0m                     \u001b[1;32melse\u001b[0m\u001b[1;33m:\u001b[0m\u001b[1;33m\u001b[0m\u001b[1;33m\u001b[0m\u001b[0m\n\u001b[0;32m   1313\u001b[0m                         \u001b[1;31m# work-around for merge_asof(left_index=True)\u001b[0m\u001b[1;33m\u001b[0m\u001b[1;33m\u001b[0m\u001b[0m\n",
      "\u001b[1;32mc:\\Users\\kenny\\anaconda3\\Lib\\site-packages\\pandas\\core\\generic.py\u001b[0m in \u001b[0;36m?\u001b[1;34m(self, key, axis)\u001b[0m\n\u001b[0;32m   1907\u001b[0m             \u001b[0mvalues\u001b[0m \u001b[1;33m=\u001b[0m \u001b[0mself\u001b[0m\u001b[1;33m.\u001b[0m\u001b[0mxs\u001b[0m\u001b[1;33m(\u001b[0m\u001b[0mkey\u001b[0m\u001b[1;33m,\u001b[0m \u001b[0maxis\u001b[0m\u001b[1;33m=\u001b[0m\u001b[0mother_axes\u001b[0m\u001b[1;33m[\u001b[0m\u001b[1;36m0\u001b[0m\u001b[1;33m]\u001b[0m\u001b[1;33m)\u001b[0m\u001b[1;33m.\u001b[0m\u001b[0m_values\u001b[0m\u001b[1;33m\u001b[0m\u001b[1;33m\u001b[0m\u001b[0m\n\u001b[0;32m   1908\u001b[0m         \u001b[1;32melif\u001b[0m \u001b[0mself\u001b[0m\u001b[1;33m.\u001b[0m\u001b[0m_is_level_reference\u001b[0m\u001b[1;33m(\u001b[0m\u001b[0mkey\u001b[0m\u001b[1;33m,\u001b[0m \u001b[0maxis\u001b[0m\u001b[1;33m=\u001b[0m\u001b[0maxis\u001b[0m\u001b[1;33m)\u001b[0m\u001b[1;33m:\u001b[0m\u001b[1;33m\u001b[0m\u001b[1;33m\u001b[0m\u001b[0m\n\u001b[0;32m   1909\u001b[0m             \u001b[0mvalues\u001b[0m \u001b[1;33m=\u001b[0m \u001b[0mself\u001b[0m\u001b[1;33m.\u001b[0m\u001b[0maxes\u001b[0m\u001b[1;33m[\u001b[0m\u001b[0maxis\u001b[0m\u001b[1;33m]\u001b[0m\u001b[1;33m.\u001b[0m\u001b[0mget_level_values\u001b[0m\u001b[1;33m(\u001b[0m\u001b[0mkey\u001b[0m\u001b[1;33m)\u001b[0m\u001b[1;33m.\u001b[0m\u001b[0m_values\u001b[0m\u001b[1;33m\u001b[0m\u001b[1;33m\u001b[0m\u001b[0m\n\u001b[0;32m   1910\u001b[0m         \u001b[1;32melse\u001b[0m\u001b[1;33m:\u001b[0m\u001b[1;33m\u001b[0m\u001b[1;33m\u001b[0m\u001b[0m\n\u001b[1;32m-> 1911\u001b[1;33m             \u001b[1;32mraise\u001b[0m \u001b[0mKeyError\u001b[0m\u001b[1;33m(\u001b[0m\u001b[0mkey\u001b[0m\u001b[1;33m)\u001b[0m\u001b[1;33m\u001b[0m\u001b[1;33m\u001b[0m\u001b[0m\n\u001b[0m\u001b[0;32m   1912\u001b[0m \u001b[1;33m\u001b[0m\u001b[0m\n\u001b[0;32m   1913\u001b[0m         \u001b[1;31m# Check for duplicates\u001b[0m\u001b[1;33m\u001b[0m\u001b[1;33m\u001b[0m\u001b[0m\n\u001b[0;32m   1914\u001b[0m         \u001b[1;32mif\u001b[0m \u001b[0mvalues\u001b[0m\u001b[1;33m.\u001b[0m\u001b[0mndim\u001b[0m \u001b[1;33m>\u001b[0m \u001b[1;36m1\u001b[0m\u001b[1;33m:\u001b[0m\u001b[1;33m\u001b[0m\u001b[1;33m\u001b[0m\u001b[0m\n",
      "\u001b[1;31mKeyError\u001b[0m: 'producto_id'"
     ]
    }
   ],
   "source": [
    "# Crear el DataFrame de ventas\n",
    "ventas = pd.DataFrame({\n",
    "    'venta_id': [1, 2, 3, 4, 5, 6],\n",
    "    'producto_id': [1, 2, 3, 1, 4, 5],\n",
    "    'cantidad_vendida': [10, 5, 8, 3, 2, 7]\n",
    "})\n",
    "\n",
    "# Realizar el merge entre productos y ventas\n",
    "df_merge = pd.merge(df, ventas, on='producto_id', how='inner')\n",
    "\n",
    "# Mostrar el resultado del merge\n",
    "print(df_merge)\n"
   ]
  },
  {
   "cell_type": "markdown",
   "id": "67de1b69",
   "metadata": {},
   "source": [
    "\n",
    "---\n",
    "## 3) Matplotlib — Visualización Estática 📈\n",
    "\n",
    "**Objetivo de aprendizaje:**  \n",
    "Crear gráficos de líneas, barras, dispersión e histogramas para análisis exploratorio.\n",
    "\n",
    "**Buenas prácticas en este notebook (requeridas):**\n",
    "- Usar **matplotlib**, no seaborn.\n",
    "- Un **gráfico por figura** (sin subplots múltiples).\n",
    "- **No** establecer estilos o colores específicos manualmente.\n"
   ]
  },
  {
   "cell_type": "code",
   "execution_count": null,
   "id": "2fa33b9f",
   "metadata": {},
   "outputs": [
    {
     "data": {
      "image/png": "[encoded data removed]",
      "text/plain": [
       "<Figure size 640x480 with 1 Axes>"
      ]
     },
     "metadata": {},
     "output_type": "display_data"
    }
   ],
   "source": [
    "\n",
    "# Gráfico de línea (ventas en el tiempo)\n",
    "import matplotlib.pyplot as plt\n",
    "\n",
    "\n",
    "plt.figure()\n",
    "plt.plot(df_estudiantes[\"nota\"], df_estudiantes[\"edad\"])\n",
    "plt.title(\"Ventas totales en el tiempo\")\n",
    "plt.xlabel(\"nota\")\n",
    "plt.ylabel(\"edad\")\n",
    "plt.grid(True)\n",
    "plt.show()\n"
   ]
  },
  {
   "cell_type": "code",
   "execution_count": null,
   "id": "70a6ec84",
   "metadata": {},
   "outputs": [
    {
     "data": {
      "image/png": "[encoded data removed]",
      "text/plain": [
       "<Figure size 640x480 with 1 Axes>"
      ]
     },
     "metadata": {},
     "output_type": "display_data"
    }
   ],
   "source": [
    "\n",
    "# Barras: ventas por categoría\n",
    "ventas_cat = df.groupby(\"categoria\")[\"total\"].sum()\n",
    "plt.figure()\n",
    "plt.bar(ventas_cat.index, ventas_cat.values)\n",
    "plt.title(\"Ventas por categoría\")\n",
    "plt.xlabel(\"Categoría\")\n",
    "plt.ylabel(\"Ventas (total)\")\n",
    "plt.show()\n"
   ]
  },
  {
   "cell_type": "code",
   "execution_count": null,
   "id": "477f9bd2",
   "metadata": {},
   "outputs": [
    {
     "data": {
      "text/html": [
       "<div>\n",
       "<style scoped>\n",
       "    .dataframe tbody tr th:only-of-type {\n",
       "        vertical-align: middle;\n",
       "    }\n",
       "\n",
       "    .dataframe tbody tr th {\n",
       "        vertical-align: top;\n",
       "    }\n",
       "\n",
       "    .dataframe thead th {\n",
       "        text-align: right;\n",
       "    }\n",
       "</style>\n",
       "<table border=\"1\" class=\"dataframe\">\n",
       "  <thead>\n",
       "    <tr style=\"text-align: right;\">\n",
       "      <th></th>\n",
       "      <th>nombre</th>\n",
       "      <th>apellidos</th>\n",
       "      <th>edad</th>\n",
       "      <th>nota</th>\n",
       "      <th>asignaturas</th>\n",
       "    </tr>\n",
       "  </thead>\n",
       "  <tbody>\n",
       "    <tr>\n",
       "      <th>0</th>\n",
       "      <td>Gilson</td>\n",
       "      <td>Tenemea</td>\n",
       "      <td>23</td>\n",
       "      <td>88</td>\n",
       "      <td>[Inteligencia Artificial, Formulación de Proye...</td>\n",
       "    </tr>\n",
       "    <tr>\n",
       "      <th>1</th>\n",
       "      <td>Kenny</td>\n",
       "      <td>Valdivieso</td>\n",
       "      <td>21</td>\n",
       "      <td>92</td>\n",
       "      <td>[Aplicaciones Seguras, Gestión de Proyectos]</td>\n",
       "    </tr>\n",
       "    <tr>\n",
       "      <th>2</th>\n",
       "      <td>David</td>\n",
       "      <td>Lopez</td>\n",
       "      <td>22</td>\n",
       "      <td>79</td>\n",
       "      <td>[Aplicaciones en la nube]</td>\n",
       "    </tr>\n",
       "    <tr>\n",
       "      <th>3</th>\n",
       "      <td>Anthony</td>\n",
       "      <td>Fajardo</td>\n",
       "      <td>24</td>\n",
       "      <td>85</td>\n",
       "      <td>[Inteligencia Artificial, Aprendizaje Automático]</td>\n",
       "    </tr>\n",
       "    <tr>\n",
       "      <th>4</th>\n",
       "      <td>Carmen</td>\n",
       "      <td>Gomez</td>\n",
       "      <td>23</td>\n",
       "      <td>90</td>\n",
       "      <td>[Bases de Datos, Gestión de Proyectos]</td>\n",
       "    </tr>\n",
       "    <tr>\n",
       "      <th>5</th>\n",
       "      <td>Freddy</td>\n",
       "      <td>Neira</td>\n",
       "      <td>22</td>\n",
       "      <td>76</td>\n",
       "      <td>[Redes, Seguridad Informática]</td>\n",
       "    </tr>\n",
       "    <tr>\n",
       "      <th>6</th>\n",
       "      <td>Jhon</td>\n",
       "      <td>Montenegro</td>\n",
       "      <td>25</td>\n",
       "      <td>83</td>\n",
       "      <td>[Programación Avanzada, Arquitectura de Software]</td>\n",
       "    </tr>\n",
       "    <tr>\n",
       "      <th>7</th>\n",
       "      <td>David</td>\n",
       "      <td>Espinosa</td>\n",
       "      <td>21</td>\n",
       "      <td>79</td>\n",
       "      <td>[Aplicaciones en la nube, DevOps]</td>\n",
       "    </tr>\n",
       "    <tr>\n",
       "      <th>8</th>\n",
       "      <td>Jhony</td>\n",
       "      <td>Mendez</td>\n",
       "      <td>20</td>\n",
       "      <td>81</td>\n",
       "      <td>[Sistemas Operativos]</td>\n",
       "    </tr>\n",
       "    <tr>\n",
       "      <th>9</th>\n",
       "      <td>Alex</td>\n",
       "      <td>Loja</td>\n",
       "      <td>22</td>\n",
       "      <td>87</td>\n",
       "      <td>[Programación, Estructuras de Datos]</td>\n",
       "    </tr>\n",
       "    <tr>\n",
       "      <th>10</th>\n",
       "      <td>Maura</td>\n",
       "      <td>Calle</td>\n",
       "      <td>23</td>\n",
       "      <td>91</td>\n",
       "      <td>[Interfaces de Usuario]</td>\n",
       "    </tr>\n",
       "    <tr>\n",
       "      <th>11</th>\n",
       "      <td>Stalyn</td>\n",
       "      <td>Pezantes</td>\n",
       "      <td>24</td>\n",
       "      <td>74</td>\n",
       "      <td>[Ingeniería de Software, Calidad de Software]</td>\n",
       "    </tr>\n",
       "    <tr>\n",
       "      <th>12</th>\n",
       "      <td>Edwin</td>\n",
       "      <td>Choes</td>\n",
       "      <td>26</td>\n",
       "      <td>78</td>\n",
       "      <td>[Matemáticas Discretas]</td>\n",
       "    </tr>\n",
       "    <tr>\n",
       "      <th>13</th>\n",
       "      <td>Erik</td>\n",
       "      <td>Chacon</td>\n",
       "      <td>22</td>\n",
       "      <td>82</td>\n",
       "      <td>[Optimización, Algoritmos]</td>\n",
       "    </tr>\n",
       "    <tr>\n",
       "      <th>14</th>\n",
       "      <td>Wendy</td>\n",
       "      <td>Llivichusca</td>\n",
       "      <td>21</td>\n",
       "      <td>89</td>\n",
       "      <td>[Ética Profesional]</td>\n",
       "    </tr>\n",
       "    <tr>\n",
       "      <th>15</th>\n",
       "      <td>Adriana</td>\n",
       "      <td>Cornejo</td>\n",
       "      <td>23</td>\n",
       "      <td>86</td>\n",
       "      <td>[Gestión de Proyectos, Emprendimiento]</td>\n",
       "    </tr>\n",
       "  </tbody>\n",
       "</table>\n",
       "</div>"
      ],
      "text/plain": [
       "     nombre    apellidos  edad  nota  \\\n",
       "0    Gilson      Tenemea    23    88   \n",
       "1     Kenny   Valdivieso    21    92   \n",
       "2     David        Lopez    22    79   \n",
       "3   Anthony      Fajardo    24    85   \n",
       "4    Carmen        Gomez    23    90   \n",
       "5    Freddy        Neira    22    76   \n",
       "6      Jhon   Montenegro    25    83   \n",
       "7     David     Espinosa    21    79   \n",
       "8     Jhony       Mendez    20    81   \n",
       "9      Alex         Loja    22    87   \n",
       "10    Maura        Calle    23    91   \n",
       "11   Stalyn     Pezantes    24    74   \n",
       "12    Edwin        Choes    26    78   \n",
       "13     Erik       Chacon    22    82   \n",
       "14    Wendy  Llivichusca    21    89   \n",
       "15  Adriana      Cornejo    23    86   \n",
       "\n",
       "                                          asignaturas  \n",
       "0   [Inteligencia Artificial, Formulación de Proye...  \n",
       "1        [Aplicaciones Seguras, Gestión de Proyectos]  \n",
       "2                           [Aplicaciones en la nube]  \n",
       "3   [Inteligencia Artificial, Aprendizaje Automático]  \n",
       "4              [Bases de Datos, Gestión de Proyectos]  \n",
       "5                      [Redes, Seguridad Informática]  \n",
       "6   [Programación Avanzada, Arquitectura de Software]  \n",
       "7                   [Aplicaciones en la nube, DevOps]  \n",
       "8                               [Sistemas Operativos]  \n",
       "9                [Programación, Estructuras de Datos]  \n",
       "10                            [Interfaces de Usuario]  \n",
       "11      [Ingeniería de Software, Calidad de Software]  \n",
       "12                            [Matemáticas Discretas]  \n",
       "13                         [Optimización, Algoritmos]  \n",
       "14                                [Ética Profesional]  \n",
       "15             [Gestión de Proyectos, Emprendimiento]  "
      ]
     },
     "execution_count": 31,
     "metadata": {},
     "output_type": "execute_result"
    }
   ],
   "source": [
    "promedio=df_estudiantes.groupby(\"nota\")[\"edad\"].sum()\n",
    "plt.figure()\n",
    "plt.bar()\n"
   ]
  },
  {
   "cell_type": "code",
   "execution_count": null,
   "id": "869faf16",
   "metadata": {},
   "outputs": [
    {
     "data": {
      "image/png": "[encoded data removed]",
      "text/plain": [
       "<Figure size 640x480 with 1 Axes>"
      ]
     },
     "metadata": {},
     "output_type": "display_data"
    }
   ],
   "source": [
    "\n",
    "# Dispersión: precio vs cantidad\n",
    "plt.figure()\n",
    "plt.scatter(df[\"precio\"], df[\"cantidad\"])\n",
    "plt.title(\"Relación Precio vs Cantidad\")\n",
    "plt.xlabel(\"Precio\")\n",
    "plt.ylabel(\"Cantidad\")\n",
    "plt.show()\n"
   ]
  },
  {
   "cell_type": "code",
   "execution_count": null,
   "id": "e9b76999",
   "metadata": {},
   "outputs": [
    {
     "data": {
      "image/png": "[encoded data removed]",
      "text/plain": [
       "<Figure size 640x480 with 1 Axes>"
      ]
     },
     "metadata": {},
     "output_type": "display_data"
    }
   ],
   "source": [
    "\n",
    "# Histograma: distribución de totales\n",
    "plt.figure()\n",
    "plt.hist(df[\"total\"], bins=8)\n",
    "plt.title(\"Distribución de ventas (total)\")\n",
    "plt.xlabel(\"Total\")\n",
    "plt.ylabel(\"Frecuencia\")\n",
    "plt.show()\n"
   ]
  },
  {
   "cell_type": "markdown",
   "id": "7fa899a0",
   "metadata": {},
   "source": [
    "\n",
    "### 🧩 Ejercicios (Matplotlib)\n",
    "1. Genera un gráfico de **líneas** que muestre la evolución del **precio promedio mensual**.  \n",
    "2. Crea un gráfico de **barras** con las 5 combinaciones *producto–mes* con **mayor total**.  \n",
    "3. Dibuja un **boxplot** del total por categoría (pista: prepara listas por categoría y usa `plt.boxplot`).  \n",
    "4. Construye un **histograma** de `cantidad` con `bins=10` y analiza la distribución.\n"
   ]
  },
  {
   "cell_type": "code",
   "execution_count": null,
   "id": "b23dafee",
   "metadata": {},
   "outputs": [],
   "source": []
  },
  {
   "cell_type": "markdown",
   "id": "1b9ebeb5",
   "metadata": {},
   "source": [
    "\n",
    "---\n",
    "## 4) Plotly — Visualización Interactiva 🌐\n",
    "\n",
    "**Objetivo de aprendizaje:**  \n",
    "Construir gráficos interactivos (zoom, hover, selección) para explorar datos.\n",
    "\n",
    "**Conceptos clave:**\n",
    "- `plotly.express` para gráficos rápidos\n",
    "- Interactividad: *hover*, *zoom*, *pan*, *legend click*\n",
    "- Guardar a HTML\n"
   ]
  },
  {
   "cell_type": "code",
   "execution_count": null,
   "id": "a0dda0c1",
   "metadata": {},
   "outputs": [
    {
     "data": {
      "application/vnd.plotly.v1+json": {
       "config": {
        "plotlyServerURL": "https://plot.ly"
       },
       "data": [
        {
         "alignmentgroup": "True",
         "hovertemplate": "producto=%{x}<br>total=%{y}<extra></extra>",
         "legendgroup": "",
         "marker": {
          "color": "#636efa",
          "pattern": {
           "shape": ""
          }
         },
         "name": "",
         "offsetgroup": "",
         "orientation": "v",
         "showlegend": false,
         "textposition": "auto",
         "type": "bar",
         "x": [
          "P1",
          "P2",
          "P3"
         ],
         "xaxis": "x",
         "y": [
          159,
          210,
          185
         ],
         "yaxis": "y"
        }
       ],
       "layout": {
        "barmode": "relative",
        "legend": {
         "tracegroupgap": 0
        },
        "template": {
         "data": {
          "bar": [
           {
            "error_x": {
             "color": "#2a3f5f"
            },
            "error_y": {
             "color": "#2a3f5f"
            },
            "marker": {
             "line": {
              "color": "#E5ECF6",
              "width": 0.5
             },
             "pattern": {
              "fillmode": "overlay",
              "size": 10,
              "solidity": 0.2
             }
            },
            "type": "bar"
           }
          ],
          "barpolar": [
           {
            "marker": {
             "line": {
              "color": "#E5ECF6",
              "width": 0.5
             },
             "pattern": {
              "fillmode": "overlay",
              "size": 10,
              "solidity": 0.2
             }
            },
            "type": "barpolar"
           }
          ],
          "carpet": [
           {
            "aaxis": {
             "endlinecolor": "#2a3f5f",
             "gridcolor": "white",
             "linecolor": "white",
             "minorgridcolor": "white",
             "startlinecolor": "#2a3f5f"
            },
            "baxis": {
             "endlinecolor": "#2a3f5f",
             "gridcolor": "white",
             "linecolor": "white",
             "minorgridcolor": "white",
             "startlinecolor": "#2a3f5f"
            },
            "type": "carpet"
           }
          ],
          "choropleth": [
           {
            "colorbar": {
             "outlinewidth": 0,
             "ticks": ""
            },
            "type": "choropleth"
           }
          ],
          "contour": [
           {
            "colorbar": {
             "outlinewidth": 0,
             "ticks": ""
            },
            "colorscale": [
             [
              0,
              "#0d0887"
             ],
             [
              0.1111111111111111,
              "#46039f"
             ],
             [
              0.2222222222222222,
              "#7201a8"
             ],
             [
              0.3333333333333333,
              "#9c179e"
             ],
             [
              0.4444444444444444,
              "#bd3786"
             ],
             [
              0.5555555555555556,
              "#d8576b"
             ],
             [
              0.6666666666666666,
              "#ed7953"
             ],
             [
              0.7777777777777778,
              "#fb9f3a"
             ],
             [
              0.8888888888888888,
              "#fdca26"
             ],
             [
              1,
              "#f0f921"
             ]
            ],
            "type": "contour"
           }
          ],
          "contourcarpet": [
           {
            "colorbar": {
             "outlinewidth": 0,
             "ticks": ""
            },
            "type": "contourcarpet"
           }
          ],
          "heatmap": [
           {
            "colorbar": {
             "outlinewidth": 0,
             "ticks": ""
            },
            "colorscale": [
             [
              0,
              "#0d0887"
             ],
             [
              0.1111111111111111,
              "#46039f"
             ],
             [
              0.2222222222222222,
              "#7201a8"
             ],
             [
              0.3333333333333333,
              "#9c179e"
             ],
             [
              0.4444444444444444,
              "#bd3786"
             ],
             [
              0.5555555555555556,
              "#d8576b"
             ],
             [
              0.6666666666666666,
              "#ed7953"
             ],
             [
              0.7777777777777778,
              "#fb9f3a"
             ],
             [
              0.8888888888888888,
              "#fdca26"
             ],
             [
              1,
              "#f0f921"
             ]
            ],
            "type": "heatmap"
           }
          ],
          "heatmapgl": [
           {
            "colorbar": {
             "outlinewidth": 0,
             "ticks": ""
            },
            "colorscale": [
             [
              0,
              "#0d0887"
             ],
             [
              0.1111111111111111,
              "#46039f"
             ],
             [
              0.2222222222222222,
              "#7201a8"
             ],
             [
              0.3333333333333333,
              "#9c179e"
             ],
             [
              0.4444444444444444,
              "#bd3786"
             ],
             [
              0.5555555555555556,
              "#d8576b"
             ],
             [
              0.6666666666666666,
              "#ed7953"
             ],
             [
              0.7777777777777778,
              "#fb9f3a"
             ],
             [
              0.8888888888888888,
              "#fdca26"
             ],
             [
              1,
              "#f0f921"
             ]
            ],
            "type": "heatmapgl"
           }
          ],
          "histogram": [
           {
            "marker": {
             "pattern": {
              "fillmode": "overlay",
              "size": 10,
              "solidity": 0.2
             }
            },
            "type": "histogram"
           }
          ],
          "histogram2d": [
           {
            "colorbar": {
             "outlinewidth": 0,
             "ticks": ""
            },
            "colorscale": [
             [
              0,
              "#0d0887"
             ],
             [
              0.1111111111111111,
              "#46039f"
             ],
             [
              0.2222222222222222,
              "#7201a8"
             ],
             [
              0.3333333333333333,
              "#9c179e"
             ],
             [
              0.4444444444444444,
              "#bd3786"
             ],
             [
              0.5555555555555556,
              "#d8576b"
             ],
             [
              0.6666666666666666,
              "#ed7953"
             ],
             [
              0.7777777777777778,
              "#fb9f3a"
             ],
             [
              0.8888888888888888,
              "#fdca26"
             ],
             [
              1,
              "#f0f921"
             ]
            ],
            "type": "histogram2d"
           }
          ],
          "histogram2dcontour": [
           {
            "colorbar": {
             "outlinewidth": 0,
             "ticks": ""
            },
            "colorscale": [
             [
              0,
              "#0d0887"
             ],
             [
              0.1111111111111111,
              "#46039f"
             ],
             [
              0.2222222222222222,
              "#7201a8"
             ],
             [
              0.3333333333333333,
              "#9c179e"
             ],
             [
              0.4444444444444444,
              "#bd3786"
             ],
             [
              0.5555555555555556,
              "#d8576b"
             ],
             [
              0.6666666666666666,
              "#ed7953"
             ],
             [
              0.7777777777777778,
              "#fb9f3a"
             ],
             [
              0.8888888888888888,
              "#fdca26"
             ],
             [
              1,
              "#f0f921"
             ]
            ],
            "type": "histogram2dcontour"
           }
          ],
          "mesh3d": [
           {
            "colorbar": {
             "outlinewidth": 0,
             "ticks": ""
            },
            "type": "mesh3d"
           }
          ],
          "parcoords": [
           {
            "line": {
             "colorbar": {
              "outlinewidth": 0,
              "ticks": ""
             }
            },
            "type": "parcoords"
           }
          ],
          "pie": [
           {
            "automargin": true,
            "type": "pie"
           }
          ],
          "scatter": [
           {
            "fillpattern": {
             "fillmode": "overlay",
             "size": 10,
             "solidity": 0.2
            },
            "type": "scatter"
           }
          ],
          "scatter3d": [
           {
            "line": {
             "colorbar": {
              "outlinewidth": 0,
              "ticks": ""
             }
            },
            "marker": {
             "colorbar": {
              "outlinewidth": 0,
              "ticks": ""
             }
            },
            "type": "scatter3d"
           }
          ],
          "scattercarpet": [
           {
            "marker": {
             "colorbar": {
              "outlinewidth": 0,
              "ticks": ""
             }
            },
            "type": "scattercarpet"
           }
          ],
          "scattergeo": [
           {
            "marker": {
             "colorbar": {
              "outlinewidth": 0,
              "ticks": ""
             }
            },
            "type": "scattergeo"
           }
          ],
          "scattergl": [
           {
            "marker": {
             "colorbar": {
              "outlinewidth": 0,
              "ticks": ""
             }
            },
            "type": "scattergl"
           }
          ],
          "scattermapbox": [
           {
            "marker": {
             "colorbar": {
              "outlinewidth": 0,
              "ticks": ""
             }
            },
            "type": "scattermapbox"
           }
          ],
          "scatterpolar": [
           {
            "marker": {
             "colorbar": {
              "outlinewidth": 0,
              "ticks": ""
             }
            },
            "type": "scatterpolar"
           }
          ],
          "scatterpolargl": [
           {
            "marker": {
             "colorbar": {
              "outlinewidth": 0,
              "ticks": ""
             }
            },
            "type": "scatterpolargl"
           }
          ],
          "scatterternary": [
           {
            "marker": {
             "colorbar": {
              "outlinewidth": 0,
              "ticks": ""
             }
            },
            "type": "scatterternary"
           }
          ],
          "surface": [
           {
            "colorbar": {
             "outlinewidth": 0,
             "ticks": ""
            },
            "colorscale": [
             [
              0,
              "#0d0887"
             ],
             [
              0.1111111111111111,
              "#46039f"
             ],
             [
              0.2222222222222222,
              "#7201a8"
             ],
             [
              0.3333333333333333,
              "#9c179e"
             ],
             [
              0.4444444444444444,
              "#bd3786"
             ],
             [
              0.5555555555555556,
              "#d8576b"
             ],
             [
              0.6666666666666666,
              "#ed7953"
             ],
             [
              0.7777777777777778,
              "#fb9f3a"
             ],
             [
              0.8888888888888888,
              "#fdca26"
             ],
             [
              1,
              "#f0f921"
             ]
            ],
            "type": "surface"
           }
          ],
          "table": [
           {
            "cells": {
             "fill": {
              "color": "#EBF0F8"
             },
             "line": {
              "color": "white"
             }
            },
            "header": {
             "fill": {
              "color": "#C8D4E3"
             },
             "line": {
              "color": "white"
             }
            },
            "type": "table"
           }
          ]
         },
         "layout": {
          "annotationdefaults": {
           "arrowcolor": "#2a3f5f",
           "arrowhead": 0,
           "arrowwidth": 1
          },
          "autotypenumbers": "strict",
          "coloraxis": {
           "colorbar": {
            "outlinewidth": 0,
            "ticks": ""
           }
          },
          "colorscale": {
           "diverging": [
            [
             0,
             "#8e0152"
            ],
            [
             0.1,
             "#c51b7d"
            ],
            [
             0.2,
             "#de77ae"
            ],
            [
             0.3,
             "#f1b6da"
            ],
            [
             0.4,
             "#fde0ef"
            ],
            [
             0.5,
             "#f7f7f7"
            ],
            [
             0.6,
             "#e6f5d0"
            ],
            [
             0.7,
             "#b8e186"
            ],
            [
             0.8,
             "#7fbc41"
            ],
            [
             0.9,
             "#4d9221"
            ],
            [
             1,
             "#276419"
            ]
           ],
           "sequential": [
            [
             0,
             "#0d0887"
            ],
            [
             0.1111111111111111,
             "#46039f"
            ],
            [
             0.2222222222222222,
             "#7201a8"
            ],
            [
             0.3333333333333333,
             "#9c179e"
            ],
            [
             0.4444444444444444,
             "#bd3786"
            ],
            [
             0.5555555555555556,
             "#d8576b"
            ],
            [
             0.6666666666666666,
             "#ed7953"
            ],
            [
             0.7777777777777778,
             "#fb9f3a"
            ],
            [
             0.8888888888888888,
             "#fdca26"
            ],
            [
             1,
             "#f0f921"
            ]
           ],
           "sequentialminus": [
            [
             0,
             "#0d0887"
            ],
            [
             0.1111111111111111,
             "#46039f"
            ],
            [
             0.2222222222222222,
             "#7201a8"
            ],
            [
             0.3333333333333333,
             "#9c179e"
            ],
            [
             0.4444444444444444,
             "#bd3786"
            ],
            [
             0.5555555555555556,
             "#d8576b"
            ],
            [
             0.6666666666666666,
             "#ed7953"
            ],
            [
             0.7777777777777778,
             "#fb9f3a"
            ],
            [
             0.8888888888888888,
             "#fdca26"
            ],
            [
             1,
             "#f0f921"
            ]
           ]
          },
          "colorway": [
           "#636efa",
           "#EF553B",
           "#00cc96",
           "#ab63fa",
           "#FFA15A",
           "#19d3f3",
           "#FF6692",
           "#B6E880",
           "#FF97FF",
           "#FECB52"
          ],
          "font": {
           "color": "#2a3f5f"
          },
          "geo": {
           "bgcolor": "white",
           "lakecolor": "white",
           "landcolor": "#E5ECF6",
           "showlakes": true,
           "showland": true,
           "subunitcolor": "white"
          },
          "hoverlabel": {
           "align": "left"
          },
          "hovermode": "closest",
          "mapbox": {
           "style": "light"
          },
          "paper_bgcolor": "white",
          "plot_bgcolor": "#E5ECF6",
          "polar": {
           "angularaxis": {
            "gridcolor": "white",
            "linecolor": "white",
            "ticks": ""
           },
           "bgcolor": "#E5ECF6",
           "radialaxis": {
            "gridcolor": "white",
            "linecolor": "white",
            "ticks": ""
           }
          },
          "scene": {
           "xaxis": {
            "backgroundcolor": "#E5ECF6",
            "gridcolor": "white",
            "gridwidth": 2,
            "linecolor": "white",
            "showbackground": true,
            "ticks": "",
            "zerolinecolor": "white"
           },
           "yaxis": {
            "backgroundcolor": "#E5ECF6",
            "gridcolor": "white",
            "gridwidth": 2,
            "linecolor": "white",
            "showbackground": true,
            "ticks": "",
            "zerolinecolor": "white"
           },
           "zaxis": {
            "backgroundcolor": "#E5ECF6",
            "gridcolor": "white",
            "gridwidth": 2,
            "linecolor": "white",
            "showbackground": true,
            "ticks": "",
            "zerolinecolor": "white"
           }
          },
          "shapedefaults": {
           "line": {
            "color": "#2a3f5f"
           }
          },
          "ternary": {
           "aaxis": {
            "gridcolor": "white",
            "linecolor": "white",
            "ticks": ""
           },
           "baxis": {
            "gridcolor": "white",
            "linecolor": "white",
            "ticks": ""
           },
           "bgcolor": "#E5ECF6",
           "caxis": {
            "gridcolor": "white",
            "linecolor": "white",
            "ticks": ""
           }
          },
          "title": {
           "x": 0.05
          },
          "xaxis": {
           "automargin": true,
           "gridcolor": "white",
           "linecolor": "white",
           "ticks": "",
           "title": {
            "standoff": 15
           },
           "zerolinecolor": "white",
           "zerolinewidth": 2
          },
          "yaxis": {
           "automargin": true,
           "gridcolor": "white",
           "linecolor": "white",
           "ticks": "",
           "title": {
            "standoff": 15
           },
           "zerolinecolor": "white",
           "zerolinewidth": 2
          }
         }
        },
        "title": {
         "text": "Ventas por producto (interactivo)"
        },
        "xaxis": {
         "anchor": "y",
         "domain": [
          0,
          1
         ],
         "title": {
          "text": "producto"
         }
        },
        "yaxis": {
         "anchor": "x",
         "domain": [
          0,
          1
         ],
         "title": {
          "text": "total"
         }
        }
       }
      }
     },
     "metadata": {},
     "output_type": "display_data"
    }
   ],
   "source": [
    "\n",
    "# Barra interactiva: ventas por producto\n",
    "df_prod = df.groupby(\"producto\", as_index=False)[\"total\"].sum()\n",
    "fig_bar = px.bar(df_prod, x=\"producto\", y=\"total\", title=\"Ventas por producto (interactivo)\")\n",
    "fig_bar.show()\n"
   ]
  },
  {
   "cell_type": "code",
   "execution_count": null,
   "id": "1aae5e93",
   "metadata": {},
   "outputs": [],
   "source": [
    "df_est = df_estudiantes.groupby(\"\")"
   ]
  },
  {
   "cell_type": "code",
   "execution_count": null,
   "id": "110ed683",
   "metadata": {},
   "outputs": [
    {
     "data": {
      "application/vnd.plotly.v1+json": {
       "config": {
        "plotlyServerURL": "https://plot.ly"
       },
       "data": [
        {
         "hovertemplate": "categoria=A<br>precio=%{x}<br>cantidad=%{y}<br>total=%{marker.size}<extra></extra>",
         "legendgroup": "A",
         "marker": {
          "color": "#636efa",
          "size": [
           50,
           22,
           48,
           39
          ],
          "sizemode": "area",
          "sizeref": 0.2,
          "symbol": "circle"
         },
         "mode": "markers",
         "name": "A",
         "orientation": "v",
         "showlegend": true,
         "type": "scatter",
         "x": [
          10,
          11,
          12,
          13
         ],
         "xaxis": "x",
         "y": [
          5,
          2,
          4,
          3
         ],
         "yaxis": "y"
        },
        {
         "hovertemplate": "categoria=B<br>precio=%{x}<br>cantidad=%{y}<br>total=%{marker.size}<extra></extra>",
         "legendgroup": "B",
         "marker": {
          "color": "#EF553B",
          "size": [
           36,
           80,
           70,
           24
          ],
          "sizemode": "area",
          "sizeref": 0.2,
          "symbol": "circle"
         },
         "mode": "markers",
         "name": "B",
         "orientation": "v",
         "showlegend": true,
         "type": "scatter",
         "x": [
          12,
          10,
          14,
          12
         ],
         "xaxis": "x",
         "y": [
          3,
          8,
          5,
          2
         ],
         "yaxis": "y"
        },
        {
         "hovertemplate": "categoria=C<br>precio=%{x}<br>cantidad=%{y}<br>total=%{marker.size}<extra></extra>",
         "legendgroup": "C",
         "marker": {
          "color": "#00cc96",
          "size": [
           54,
           8,
           63,
           60
          ],
          "sizemode": "area",
          "sizeref": 0.2,
          "symbol": "circle"
         },
         "mode": "markers",
         "name": "C",
         "orientation": "v",
         "showlegend": true,
         "type": "scatter",
         "x": [
          9,
          8,
          9,
          10
         ],
         "xaxis": "x",
         "y": [
          6,
          1,
          7,
          6
         ],
         "yaxis": "y"
        }
       ],
       "layout": {
        "legend": {
         "itemsizing": "constant",
         "title": {
          "text": "categoria"
         },
         "tracegroupgap": 0
        },
        "template": {
         "data": {
          "bar": [
           {
            "error_x": {
             "color": "#2a3f5f"
            },
            "error_y": {
             "color": "#2a3f5f"
            },
            "marker": {
             "line": {
              "color": "#E5ECF6",
              "width": 0.5
             },
             "pattern": {
              "fillmode": "overlay",
              "size": 10,
              "solidity": 0.2
             }
            },
            "type": "bar"
           }
          ],
          "barpolar": [
           {
            "marker": {
             "line": {
              "color": "#E5ECF6",
              "width": 0.5
             },
             "pattern": {
              "fillmode": "overlay",
              "size": 10,
              "solidity": 0.2
             }
            },
            "type": "barpolar"
           }
          ],
          "carpet": [
           {
            "aaxis": {
             "endlinecolor": "#2a3f5f",
             "gridcolor": "white",
             "linecolor": "white",
             "minorgridcolor": "white",
             "startlinecolor": "#2a3f5f"
            },
            "baxis": {
             "endlinecolor": "#2a3f5f",
             "gridcolor": "white",
             "linecolor": "white",
             "minorgridcolor": "white",
             "startlinecolor": "#2a3f5f"
            },
            "type": "carpet"
           }
          ],
          "choropleth": [
           {
            "colorbar": {
             "outlinewidth": 0,
             "ticks": ""
            },
            "type": "choropleth"
           }
          ],
          "contour": [
           {
            "colorbar": {
             "outlinewidth": 0,
             "ticks": ""
            },
            "colorscale": [
             [
              0,
              "#0d0887"
             ],
             [
              0.1111111111111111,
              "#46039f"
             ],
             [
              0.2222222222222222,
              "#7201a8"
             ],
             [
              0.3333333333333333,
              "#9c179e"
             ],
             [
              0.4444444444444444,
              "#bd3786"
             ],
             [
              0.5555555555555556,
              "#d8576b"
             ],
             [
              0.6666666666666666,
              "#ed7953"
             ],
             [
              0.7777777777777778,
              "#fb9f3a"
             ],
             [
              0.8888888888888888,
              "#fdca26"
             ],
             [
              1,
              "#f0f921"
             ]
            ],
            "type": "contour"
           }
          ],
          "contourcarpet": [
           {
            "colorbar": {
             "outlinewidth": 0,
             "ticks": ""
            },
            "type": "contourcarpet"
           }
          ],
          "heatmap": [
           {
            "colorbar": {
             "outlinewidth": 0,
             "ticks": ""
            },
            "colorscale": [
             [
              0,
              "#0d0887"
             ],
             [
              0.1111111111111111,
              "#46039f"
             ],
             [
              0.2222222222222222,
              "#7201a8"
             ],
             [
              0.3333333333333333,
              "#9c179e"
             ],
             [
              0.4444444444444444,
              "#bd3786"
             ],
             [
              0.5555555555555556,
              "#d8576b"
             ],
             [
              0.6666666666666666,
              "#ed7953"
             ],
             [
              0.7777777777777778,
              "#fb9f3a"
             ],
             [
              0.8888888888888888,
              "#fdca26"
             ],
             [
              1,
              "#f0f921"
             ]
            ],
            "type": "heatmap"
           }
          ],
          "heatmapgl": [
           {
            "colorbar": {
             "outlinewidth": 0,
             "ticks": ""
            },
            "colorscale": [
             [
              0,
              "#0d0887"
             ],
             [
              0.1111111111111111,
              "#46039f"
             ],
             [
              0.2222222222222222,
              "#7201a8"
             ],
             [
              0.3333333333333333,
              "#9c179e"
             ],
             [
              0.4444444444444444,
              "#bd3786"
             ],
             [
              0.5555555555555556,
              "#d8576b"
             ],
             [
              0.6666666666666666,
              "#ed7953"
             ],
             [
              0.7777777777777778,
              "#fb9f3a"
             ],
             [
              0.8888888888888888,
              "#fdca26"
             ],
             [
              1,
              "#f0f921"
             ]
            ],
            "type": "heatmapgl"
           }
          ],
          "histogram": [
           {
            "marker": {
             "pattern": {
              "fillmode": "overlay",
              "size": 10,
              "solidity": 0.2
             }
            },
            "type": "histogram"
           }
          ],
          "histogram2d": [
           {
            "colorbar": {
             "outlinewidth": 0,
             "ticks": ""
            },
            "colorscale": [
             [
              0,
              "#0d0887"
             ],
             [
              0.1111111111111111,
              "#46039f"
             ],
             [
              0.2222222222222222,
              "#7201a8"
             ],
             [
              0.3333333333333333,
              "#9c179e"
             ],
             [
              0.4444444444444444,
              "#bd3786"
             ],
             [
              0.5555555555555556,
              "#d8576b"
             ],
             [
              0.6666666666666666,
              "#ed7953"
             ],
             [
              0.7777777777777778,
              "#fb9f3a"
             ],
             [
              0.8888888888888888,
              "#fdca26"
             ],
             [
              1,
              "#f0f921"
             ]
            ],
            "type": "histogram2d"
           }
          ],
          "histogram2dcontour": [
           {
            "colorbar": {
             "outlinewidth": 0,
             "ticks": ""
            },
            "colorscale": [
             [
              0,
              "#0d0887"
             ],
             [
              0.1111111111111111,
              "#46039f"
             ],
             [
              0.2222222222222222,
              "#7201a8"
             ],
             [
              0.3333333333333333,
              "#9c179e"
             ],
             [
              0.4444444444444444,
              "#bd3786"
             ],
             [
              0.5555555555555556,
              "#d8576b"
             ],
             [
              0.6666666666666666,
              "#ed7953"
             ],
             [
              0.7777777777777778,
              "#fb9f3a"
             ],
             [
              0.8888888888888888,
              "#fdca26"
             ],
             [
              1,
              "#f0f921"
             ]
            ],
            "type": "histogram2dcontour"
           }
          ],
          "mesh3d": [
           {
            "colorbar": {
             "outlinewidth": 0,
             "ticks": ""
            },
            "type": "mesh3d"
           }
          ],
          "parcoords": [
           {
            "line": {
             "colorbar": {
              "outlinewidth": 0,
              "ticks": ""
             }
            },
            "type": "parcoords"
           }
          ],
          "pie": [
           {
            "automargin": true,
            "type": "pie"
           }
          ],
          "scatter": [
           {
            "fillpattern": {
             "fillmode": "overlay",
             "size": 10,
             "solidity": 0.2
            },
            "type": "scatter"
           }
          ],
          "scatter3d": [
           {
            "line": {
             "colorbar": {
              "outlinewidth": 0,
              "ticks": ""
             }
            },
            "marker": {
             "colorbar": {
              "outlinewidth": 0,
              "ticks": ""
             }
            },
            "type": "scatter3d"
           }
          ],
          "scattercarpet": [
           {
            "marker": {
             "colorbar": {
              "outlinewidth": 0,
              "ticks": ""
             }
            },
            "type": "scattercarpet"
           }
          ],
          "scattergeo": [
           {
            "marker": {
             "colorbar": {
              "outlinewidth": 0,
              "ticks": ""
             }
            },
            "type": "scattergeo"
           }
          ],
          "scattergl": [
           {
            "marker": {
             "colorbar": {
              "outlinewidth": 0,
              "ticks": ""
             }
            },
            "type": "scattergl"
           }
          ],
          "scattermapbox": [
           {
            "marker": {
             "colorbar": {
              "outlinewidth": 0,
              "ticks": ""
             }
            },
            "type": "scattermapbox"
           }
          ],
          "scatterpolar": [
           {
            "marker": {
             "colorbar": {
              "outlinewidth": 0,
              "ticks": ""
             }
            },
            "type": "scatterpolar"
           }
          ],
          "scatterpolargl": [
           {
            "marker": {
             "colorbar": {
              "outlinewidth": 0,
              "ticks": ""
             }
            },
            "type": "scatterpolargl"
           }
          ],
          "scatterternary": [
           {
            "marker": {
             "colorbar": {
              "outlinewidth": 0,
              "ticks": ""
             }
            },
            "type": "scatterternary"
           }
          ],
          "surface": [
           {
            "colorbar": {
             "outlinewidth": 0,
             "ticks": ""
            },
            "colorscale": [
             [
              0,
              "#0d0887"
             ],
             [
              0.1111111111111111,
              "#46039f"
             ],
             [
              0.2222222222222222,
              "#7201a8"
             ],
             [
              0.3333333333333333,
              "#9c179e"
             ],
             [
              0.4444444444444444,
              "#bd3786"
             ],
             [
              0.5555555555555556,
              "#d8576b"
             ],
             [
              0.6666666666666666,
              "#ed7953"
             ],
             [
              0.7777777777777778,
              "#fb9f3a"
             ],
             [
              0.8888888888888888,
              "#fdca26"
             ],
             [
              1,
              "#f0f921"
             ]
            ],
            "type": "surface"
           }
          ],
          "table": [
           {
            "cells": {
             "fill": {
              "color": "#EBF0F8"
             },
             "line": {
              "color": "white"
             }
            },
            "header": {
             "fill": {
              "color": "#C8D4E3"
             },
             "line": {
              "color": "white"
             }
            },
            "type": "table"
           }
          ]
         },
         "layout": {
          "annotationdefaults": {
           "arrowcolor": "#2a3f5f",
           "arrowhead": 0,
           "arrowwidth": 1
          },
          "autotypenumbers": "strict",
          "coloraxis": {
           "colorbar": {
            "outlinewidth": 0,
            "ticks": ""
           }
          },
          "colorscale": {
           "diverging": [
            [
             0,
             "#8e0152"
            ],
            [
             0.1,
             "#c51b7d"
            ],
            [
             0.2,
             "#de77ae"
            ],
            [
             0.3,
             "#f1b6da"
            ],
            [
             0.4,
             "#fde0ef"
            ],
            [
             0.5,
             "#f7f7f7"
            ],
            [
             0.6,
             "#e6f5d0"
            ],
            [
             0.7,
             "#b8e186"
            ],
            [
             0.8,
             "#7fbc41"
            ],
            [
             0.9,
             "#4d9221"
            ],
            [
             1,
             "#276419"
            ]
           ],
           "sequential": [
            [
             0,
             "#0d0887"
            ],
            [
             0.1111111111111111,
             "#46039f"
            ],
            [
             0.2222222222222222,
             "#7201a8"
            ],
            [
             0.3333333333333333,
             "#9c179e"
            ],
            [
             0.4444444444444444,
             "#bd3786"
            ],
            [
             0.5555555555555556,
             "#d8576b"
            ],
            [
             0.6666666666666666,
             "#ed7953"
            ],
            [
             0.7777777777777778,
             "#fb9f3a"
            ],
            [
             0.8888888888888888,
             "#fdca26"
            ],
            [
             1,
             "#f0f921"
            ]
           ],
           "sequentialminus": [
            [
             0,
             "#0d0887"
            ],
            [
             0.1111111111111111,
             "#46039f"
            ],
            [
             0.2222222222222222,
             "#7201a8"
            ],
            [
             0.3333333333333333,
             "#9c179e"
            ],
            [
             0.4444444444444444,
             "#bd3786"
            ],
            [
             0.5555555555555556,
             "#d8576b"
            ],
            [
             0.6666666666666666,
             "#ed7953"
            ],
            [
             0.7777777777777778,
             "#fb9f3a"
            ],
            [
             0.8888888888888888,
             "#fdca26"
            ],
            [
             1,
             "#f0f921"
            ]
           ]
          },
          "colorway": [
           "#636efa",
           "#EF553B",
           "#00cc96",
           "#ab63fa",
           "#FFA15A",
           "#19d3f3",
           "#FF6692",
           "#B6E880",
           "#FF97FF",
           "#FECB52"
          ],
          "font": {
           "color": "#2a3f5f"
          },
          "geo": {
           "bgcolor": "white",
           "lakecolor": "white",
           "landcolor": "#E5ECF6",
           "showlakes": true,
           "showland": true,
           "subunitcolor": "white"
          },
          "hoverlabel": {
           "align": "left"
          },
          "hovermode": "closest",
          "mapbox": {
           "style": "light"
          },
          "paper_bgcolor": "white",
          "plot_bgcolor": "#E5ECF6",
          "polar": {
           "angularaxis": {
            "gridcolor": "white",
            "linecolor": "white",
            "ticks": ""
           },
           "bgcolor": "#E5ECF6",
           "radialaxis": {
            "gridcolor": "white",
            "linecolor": "white",
            "ticks": ""
           }
          },
          "scene": {
           "xaxis": {
            "backgroundcolor": "#E5ECF6",
            "gridcolor": "white",
            "gridwidth": 2,
            "linecolor": "white",
            "showbackground": true,
            "ticks": "",
            "zerolinecolor": "white"
           },
           "yaxis": {
            "backgroundcolor": "#E5ECF6",
            "gridcolor": "white",
            "gridwidth": 2,
            "linecolor": "white",
            "showbackground": true,
            "ticks": "",
            "zerolinecolor": "white"
           },
           "zaxis": {
            "backgroundcolor": "#E5ECF6",
            "gridcolor": "white",
            "gridwidth": 2,
            "linecolor": "white",
            "showbackground": true,
            "ticks": "",
            "zerolinecolor": "white"
           }
          },
          "shapedefaults": {
           "line": {
            "color": "#2a3f5f"
           }
          },
          "ternary": {
           "aaxis": {
            "gridcolor": "white",
            "linecolor": "white",
            "ticks": ""
           },
           "baxis": {
            "gridcolor": "white",
            "linecolor": "white",
            "ticks": ""
           },
           "bgcolor": "#E5ECF6",
           "caxis": {
            "gridcolor": "white",
            "linecolor": "white",
            "ticks": ""
           }
          },
          "title": {
           "x": 0.05
          },
          "xaxis": {
           "automargin": true,
           "gridcolor": "white",
           "linecolor": "white",
           "ticks": "",
           "title": {
            "standoff": 15
           },
           "zerolinecolor": "white",
           "zerolinewidth": 2
          },
          "yaxis": {
           "automargin": true,
           "gridcolor": "white",
           "linecolor": "white",
           "ticks": "",
           "title": {
            "standoff": 15
           },
           "zerolinecolor": "white",
           "zerolinewidth": 2
          }
         }
        },
        "title": {
         "text": "Precio vs Cantidad (interactivo)"
        },
        "xaxis": {
         "anchor": "y",
         "domain": [
          0,
          1
         ],
         "title": {
          "text": "precio"
         }
        },
        "yaxis": {
         "anchor": "x",
         "domain": [
          0,
          1
         ],
         "title": {
          "text": "cantidad"
         }
        }
       }
      }
     },
     "metadata": {},
     "output_type": "display_data"
    }
   ],
   "source": [
    "\n",
    "# Dispersión interactiva: precio vs cantidad\n",
    "fig_scatter = px.scatter(df, x=\"precio\", y=\"cantidad\", size=\"total\", color=\"categoria\",\n",
    "                         title=\"Precio vs Cantidad (interactivo)\")\n",
    "fig_scatter.show()\n"
   ]
  },
  {
   "cell_type": "code",
   "execution_count": 67,
   "id": "1a494fa1",
   "metadata": {},
   "outputs": [
    {
     "ename": "NameError",
     "evalue": "name 'tabla_pivot' is not defined",
     "output_type": "error",
     "traceback": [
      "\u001b[1;31m---------------------------------------------------------------------------\u001b[0m",
      "\u001b[1;31mNameError\u001b[0m                                 Traceback (most recent call last)",
      "Cell \u001b[1;32mIn[67], line 1\u001b[0m\n\u001b[1;32m----> 1\u001b[0m \u001b[38;5;28mprint\u001b[39m (tabla_pivot)\n",
      "\u001b[1;31mNameError\u001b[0m: name 'tabla_pivot' is not defined"
     ]
    }
   ],
   "source": [
    "print (tabla_pivot)"
   ]
  },
  {
   "cell_type": "markdown",
   "id": "0ef96fd9",
   "metadata": {},
   "source": [
    "\n",
    "### 🧩 Ejercicios (Plotly)\n",
    "1. Construye un **gráfico de áreas** apiladas por categoría a lo largo del tiempo.  \n",
    "2. Crea un **mapa de burbujas** (si tienes datos geográficos) o un **treemap** por categoría y producto.  \n",
    "3. Exporta tu figura a HTML y comprueba que es interactiva abriéndola en el navegador.\n"
   ]
  },
  {
   "cell_type": "code",
   "execution_count": null,
   "id": "80763efe",
   "metadata": {},
   "outputs": [],
   "source": []
  },
  {
   "cell_type": "markdown",
   "id": "b5aa26dd",
   "metadata": {},
   "source": [
    "\n",
    "---\n",
    "## 5) Mini‑proyecto de Integración 🧪\n",
    "\n",
    "**Reto:**  \n",
    "1) Genera un DataFrame con ventas diarias de 6 meses para 4 productos.  \n",
    "2) Usa **NumPy** para simular estacionalidad y ruido.  \n",
    "3) Con **Pandas**, calcula KPIs: ventas totales, ticket promedio, top‑productos, tendencia por mes.  \n",
    "4) Visualiza con **Matplotlib** un gráfico clave y con **Plotly** un dashboard simple (2–3 gráficos).  \n",
    "5) Exporta: `df.to_csv(\"ventas_simuladas.csv\", index=False)` y un HTML con tus gráficos interactivos.\n"
   ]
  },
  {
   "cell_type": "code",
   "execution_count": null,
   "id": "7119169a",
   "metadata": {},
   "outputs": [
    {
     "data": {
      "text/html": [
       "<div>\n",
       "<style scoped>\n",
       "    .dataframe tbody tr th:only-of-type {\n",
       "        vertical-align: middle;\n",
       "    }\n",
       "\n",
       "    .dataframe tbody tr th {\n",
       "        vertical-align: top;\n",
       "    }\n",
       "\n",
       "    .dataframe thead th {\n",
       "        text-align: right;\n",
       "    }\n",
       "</style>\n",
       "<table border=\"1\" class=\"dataframe\">\n",
       "  <thead>\n",
       "    <tr style=\"text-align: right;\">\n",
       "      <th></th>\n",
       "      <th>mes</th>\n",
       "      <th>ventas</th>\n",
       "      <th>cantidad</th>\n",
       "      <th>ticket_promedio</th>\n",
       "    </tr>\n",
       "  </thead>\n",
       "  <tbody>\n",
       "    <tr>\n",
       "      <th>0</th>\n",
       "      <td>2024-01-01</td>\n",
       "      <td>13798.689544</td>\n",
       "      <td>1316</td>\n",
       "      <td>111.279754</td>\n",
       "    </tr>\n",
       "    <tr>\n",
       "      <th>1</th>\n",
       "      <td>2024-02-01</td>\n",
       "      <td>12732.589971</td>\n",
       "      <td>1228</td>\n",
       "      <td>109.763707</td>\n",
       "    </tr>\n",
       "    <tr>\n",
       "      <th>2</th>\n",
       "      <td>2024-03-01</td>\n",
       "      <td>14186.936154</td>\n",
       "      <td>1360</td>\n",
       "      <td>114.410775</td>\n",
       "    </tr>\n",
       "    <tr>\n",
       "      <th>3</th>\n",
       "      <td>2024-04-01</td>\n",
       "      <td>14986.114606</td>\n",
       "      <td>1432</td>\n",
       "      <td>124.884288</td>\n",
       "    </tr>\n",
       "    <tr>\n",
       "      <th>4</th>\n",
       "      <td>2024-05-01</td>\n",
       "      <td>16354.260457</td>\n",
       "      <td>1569</td>\n",
       "      <td>131.889197</td>\n",
       "    </tr>\n",
       "  </tbody>\n",
       "</table>\n",
       "</div>"
      ],
      "text/plain": [
       "         mes        ventas  cantidad  ticket_promedio\n",
       "0 2024-01-01  13798.689544      1316       111.279754\n",
       "1 2024-02-01  12732.589971      1228       109.763707\n",
       "2 2024-03-01  14186.936154      1360       114.410775\n",
       "3 2024-04-01  14986.114606      1432       124.884288\n",
       "4 2024-05-01  16354.260457      1569       131.889197"
      ]
     },
     "metadata": {},
     "output_type": "display_data"
    },
    {
     "data": {
      "image/png": "[encoded data removed]",
      "text/plain": [
       "<Figure size 640x480 with 1 Axes>"
      ]
     },
     "metadata": {},
     "output_type": "display_data"
    },
    {
     "name": "stderr",
     "output_type": "stream",
     "text": [
      "c:\\Users\\59399\\anaconda3\\lib\\site-packages\\_plotly_utils\\basevalidators.py:106: FutureWarning:\n",
      "\n",
      "The behavior of DatetimeProperties.to_pydatetime is deprecated, in a future version this will return a Series containing python datetime objects instead of an ndarray. To retain the old behavior, call `np.array` on the result\n",
      "\n",
      "c:\\Users\\59399\\anaconda3\\lib\\site-packages\\plotly\\express\\_core.py:1979: FutureWarning:\n",
      "\n",
      "When grouping with a length-1 list-like, you will need to pass a length-1 tuple to get_group in a future version of pandas. Pass `(name,)` instead of `name` to silence this warning.\n",
      "\n"
     ]
    },
    {
     "name": "stdout",
     "output_type": "stream",
     "text": [
      "Se guardaron 3 archivos HTML de gráficos interactivos.\n"
     ]
    }
   ],
   "source": [
    "\n",
    "# Solución guía (puedes modificar y experimentar)\n",
    "rng = np.random.default_rng(2025)\n",
    "fechas = pd.date_range(\"2024-01-01\", periods=180, freq=\"D\")\n",
    "productos = [\"P1\", \"P2\", \"P3\", \"P4\"]\n",
    "\n",
    "df_sim = pd.DataFrame({\n",
    "    \"fecha\": np.repeat(fechas, len(productos)),\n",
    "    \"producto\": productos * len(fechas),\n",
    "})\n",
    "\n",
    "# Estacionalidad semanal + tendencia + ruido\n",
    "semana = df_sim[\"fecha\"].dt.dayofweek\n",
    "estacional = 10 + 5*np.sin(2*np.pi*(semana/7))\n",
    "tendencia = np.linspace(0, 3, len(df_sim))\n",
    "ruido = rng.normal(0, 2, len(df_sim))\n",
    "\n",
    "precio_base = {\"P1\": 10, \"P2\": 12, \"P3\": 9, \"P4\": 11}\n",
    "df_sim[\"precio\"] = df_sim[\"producto\"].map(precio_base) + rng.normal(0, 0.7, len(df_sim))\n",
    "df_sim[\"cantidad\"] = np.clip(np.round(estacional + tendencia + ruido + rng.normal(0, 1, len(df_sim))), 0, None).astype(int)\n",
    "df_sim[\"total\"] = df_sim[\"precio\"] * df_sim[\"cantidad\"]\n",
    "\n",
    "# KPIs por mes\n",
    "df_sim[\"mes\"] = df_sim[\"fecha\"].dt.to_period(\"M\").dt.to_timestamp()\n",
    "kpis_mes = df_sim.groupby(\"mes\", as_index=False).agg(\n",
    "    ventas=(\"total\", \"sum\"),\n",
    "    cantidad=(\"cantidad\", \"sum\"),\n",
    "    ticket_promedio=(\"total\", \"mean\")\n",
    ")\n",
    "display(kpis_mes.head())\n",
    "\n",
    "# Visual con Matplotlib (1 figura)\n",
    "plt.figure()\n",
    "plt.plot(kpis_mes[\"mes\"], kpis_mes[\"ventas\"])\n",
    "plt.title(\"Ventas mensuales (simuladas)\")\n",
    "plt.xlabel(\"Mes\")\n",
    "plt.ylabel(\"Ventas\")\n",
    "plt.grid(True)\n",
    "plt.show()\n",
    "\n",
    "# Dashboard rápido con Plotly\n",
    "fig1 = px.line(kpis_mes, x=\"mes\", y=\"ventas\", title=\"Ventas mensuales (interactivo)\")\n",
    "fig2 = px.bar(df_sim.groupby(\"producto\", as_index=False)[\"total\"].sum(),\n",
    "              x=\"producto\", y=\"total\", title=\"Ventas por producto (interactivo)\")\n",
    "fig3 = px.scatter(df_sim, x=\"precio\", y=\"cantidad\", size=\"total\", color=\"producto\", title=\"Precio vs Cantidad\")\n",
    "\n",
    "fig1.write_html(\"dashboard_ventas_linea.html\")\n",
    "fig2.write_html(\"dashboard_ventas_barras.html\")\n",
    "fig3.write_html(\"dashboard_ventas_dispersion.html\")\n",
    "print(\"Se guardaron 3 archivos HTML de gráficos interactivos.\")\n"
   ]
  },
  {
   "cell_type": "markdown",
   "id": "8035cfa6",
   "metadata": {},
   "source": [
    "\n",
    "---\n",
    "## 6) Checklist de Aprendizaje ✅\n",
    "\n",
    "- [ ] Entiendo la diferencia entre **array (NumPy)** y **DataFrame (Pandas)**.  \n",
    "- [ ] Puedo leer, filtrar y transformar datos con Pandas.  \n",
    "- [ ] Sé crear gráficos básicos con Matplotlib sin estilos predefinidos.  \n",
    "- [ ] Puedo construir y **exportar** gráficos interactivos con Plotly a HTML.  \n",
    "- [ ] Integré todo en un mini-proyecto con KPIs y visualizaciones.\n"
   ]
  }
 ],
 "metadata": {
  "kernelspec": {
   "display_name": "base",
   "language": "python",
   "name": "python3"
  },
  "language_info": {
   "codemirror_mode": {
    "name": "ipython",
    "version": 3
   },
   "file_extension": ".py",
   "mimetype": "text/x-python",
   "name": "python",
   "nbconvert_exporter": "python",
   "pygments_lexer": "ipython3",
   "version": "3.13.5"
  }
 },
 "nbformat": 4,
 "nbformat_minor": 5
}
